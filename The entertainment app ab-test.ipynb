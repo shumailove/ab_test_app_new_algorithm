{
 "cells": [
  {
   "cell_type": "markdown",
   "metadata": {
    "id": "u98L9TgH0eMk"
   },
   "source": [
    "# Проведение A/B-тестирования и анализ результатов\n",
    "\n",
    "У нас есть развлекательное приложение с функцией «бесконечной» ленты в формате видео. В вашем приложении существует две модели монетизации: первая — ежемесячная платная подписка, которая позволяет пользователям смотреть ленту без рекламы, вторая — демонстрация рекламы для пользователей, которые ещё не оформили подписку.\n",
    "\n",
    "Команда разработчиков рекомендательных систем создала новый алгоритм рекомендаций, который, по их мнению, будет показывать более интересный контент для каждого пользователя. Необходимо провести A/B-тест, который позволит проверить эту гипотезу, и проанализировать его результаты."
   ]
  },
  {
   "cell_type": "markdown",
   "metadata": {
    "id": "LJBRALHs0eMf"
   },
   "source": [
    "## Описание данных\n",
    "\n",
    "Мы будем работать с тремя таблицами:\n",
    "\n",
    "- `sessions_project_history.csv` — таблица с историческими данными по сессиям пользователей на период с 2025-08-15 по 2025-09-23. Путь к файлу: `/datasets/sessions_project_history.csv`.\n",
    "\n",
    "- `sessions_project_test_part.csv` — таблица с данными за первый день проведения A/B-теста, то есть за 2025-10-14. Путь к файлу: `/datasets/sessions_project_test_part.csv`.\n",
    "\n",
    "- `sessions_project_test.csv` — таблица с данными за весь период проведения A/B-теста, то есть с 2025-10-14 по 2025-11-02. Путь к файлу: `/datasets/sessions_project_test.csv`.\n",
    "\n",
    "У этих таблиц почти совпадает структура и содержание колонок, различаются лишь периоды наблюдения.\n",
    "\n",
    "Поля таблиц `sessions_project_history.csv`, `sessions_project_test.csv`, `sessions_project_test_part.csv`:\n",
    "\n",
    "- `user_id` — идентификатор пользователя;\n",
    "\n",
    "- `session_id` — идентификатор сессии в приложении;\n",
    "\n",
    "- `session_date` — дата сессии;\n",
    "\n",
    "- `session_start_ts` — дата и время начала сессии;\n",
    "\n",
    "- `install_date` — дата установки приложения;\n",
    "\n",
    "- `session_number` — порядковый номер сессии для конкретного пользователя;\n",
    "\n",
    "- `registration_flag` — является ли пользователь зарегистрированным;\n",
    "\n",
    "- `page_counter` — количество просмотренных страниц во время сессии;\n",
    "\n",
    "- `region` — регион пользователя;\n",
    "\n",
    "- `device` — тип устройства пользователя;\n",
    "\n",
    "- `test_group` — тестовая группа (в таблице с историческими данными этого столбца нет).\n",
    "\n",
    "\n",
    "## Задача\n",
    "Рассчитать параметры теста, оценить корректность его проведения и проанализировать результаты эксперимента."
   ]
  },
  {
   "cell_type": "markdown",
   "metadata": {
    "id": "UpOucjID0eMl"
   },
   "source": [
    "## Работа с историческими данными "
   ]
  },
  {
   "cell_type": "markdown",
   "metadata": {
    "id": "8iJMtL-30eMl"
   },
   "source": [
    "### Загрузка исторических данных\n",
    "На первом этапе поработаем с историческими данными приложения:\n",
    "\n",
    "- Импортируем все необходимые библиотеки, которые понадобятся в расчёте.\n",
    "\n",
    "- Импортируем и сохраним в датафрейм `sessions_history` CSV-файл с историческими данными о сессиях пользователей `sessions_project_history.csv`. Выведем на экран первые пять строк полученного датафрейма."
   ]
  },
  {
   "cell_type": "code",
   "execution_count": 1,
   "metadata": {
    "id": "6TPR2-1RPboT"
   },
   "outputs": [],
   "source": [
    "import pandas as pd\n",
    "import matplotlib.pyplot as plt\n",
    "from statsmodels.stats.power import NormalIndPower\n",
    "from math import ceil\n",
    "from scipy.stats import ttest_ind\n",
    "from statsmodels.stats.proportion import proportions_ztest"
   ]
  },
  {
   "cell_type": "code",
   "execution_count": 2,
   "metadata": {},
   "outputs": [
    {
     "data": {
      "text/html": [
       "<div>\n",
       "<style scoped>\n",
       "    .dataframe tbody tr th:only-of-type {\n",
       "        vertical-align: middle;\n",
       "    }\n",
       "\n",
       "    .dataframe tbody tr th {\n",
       "        vertical-align: top;\n",
       "    }\n",
       "\n",
       "    .dataframe thead th {\n",
       "        text-align: right;\n",
       "    }\n",
       "</style>\n",
       "<table border=\"1\" class=\"dataframe\">\n",
       "  <thead>\n",
       "    <tr style=\"text-align: right;\">\n",
       "      <th></th>\n",
       "      <th>user_id</th>\n",
       "      <th>session_id</th>\n",
       "      <th>session_date</th>\n",
       "      <th>session_start_ts</th>\n",
       "      <th>install_date</th>\n",
       "      <th>session_number</th>\n",
       "      <th>registration_flag</th>\n",
       "      <th>page_counter</th>\n",
       "      <th>region</th>\n",
       "      <th>device</th>\n",
       "    </tr>\n",
       "  </thead>\n",
       "  <tbody>\n",
       "    <tr>\n",
       "      <th>0</th>\n",
       "      <td>E302123B7000BFE4</td>\n",
       "      <td>F9AF61A0C2023832</td>\n",
       "      <td>2025-08-15</td>\n",
       "      <td>2025-08-15 17:47:35</td>\n",
       "      <td>2025-08-15</td>\n",
       "      <td>1</td>\n",
       "      <td>0</td>\n",
       "      <td>3</td>\n",
       "      <td>CIS</td>\n",
       "      <td>iPhone</td>\n",
       "    </tr>\n",
       "    <tr>\n",
       "      <th>1</th>\n",
       "      <td>2530F72E221829FB</td>\n",
       "      <td>85003A206CBDAC6F</td>\n",
       "      <td>2025-08-15</td>\n",
       "      <td>2025-08-15 16:42:14</td>\n",
       "      <td>2025-08-15</td>\n",
       "      <td>1</td>\n",
       "      <td>0</td>\n",
       "      <td>4</td>\n",
       "      <td>MENA</td>\n",
       "      <td>Android</td>\n",
       "    </tr>\n",
       "    <tr>\n",
       "      <th>2</th>\n",
       "      <td>876E020A4FC512F5</td>\n",
       "      <td>3677423E49D72DEE</td>\n",
       "      <td>2025-08-15</td>\n",
       "      <td>2025-08-15 12:30:00</td>\n",
       "      <td>2025-08-15</td>\n",
       "      <td>1</td>\n",
       "      <td>0</td>\n",
       "      <td>4</td>\n",
       "      <td>EU</td>\n",
       "      <td>PC</td>\n",
       "    </tr>\n",
       "    <tr>\n",
       "      <th>3</th>\n",
       "      <td>2640B349E1D81584</td>\n",
       "      <td>956B45F5915CA225</td>\n",
       "      <td>2025-08-15</td>\n",
       "      <td>2025-08-15 15:31:31</td>\n",
       "      <td>2025-08-15</td>\n",
       "      <td>1</td>\n",
       "      <td>0</td>\n",
       "      <td>4</td>\n",
       "      <td>CIS</td>\n",
       "      <td>Android</td>\n",
       "    </tr>\n",
       "    <tr>\n",
       "      <th>4</th>\n",
       "      <td>94E1CBFAEF1F5EE9</td>\n",
       "      <td>83BF0DA35F9F1F40</td>\n",
       "      <td>2025-08-15</td>\n",
       "      <td>2025-08-15 21:33:53</td>\n",
       "      <td>2025-08-15</td>\n",
       "      <td>1</td>\n",
       "      <td>0</td>\n",
       "      <td>3</td>\n",
       "      <td>CIS</td>\n",
       "      <td>Android</td>\n",
       "    </tr>\n",
       "  </tbody>\n",
       "</table>\n",
       "</div>"
      ],
      "text/plain": [
       "            user_id        session_id session_date     session_start_ts  \\\n",
       "0  E302123B7000BFE4  F9AF61A0C2023832   2025-08-15  2025-08-15 17:47:35   \n",
       "1  2530F72E221829FB  85003A206CBDAC6F   2025-08-15  2025-08-15 16:42:14   \n",
       "2  876E020A4FC512F5  3677423E49D72DEE   2025-08-15  2025-08-15 12:30:00   \n",
       "3  2640B349E1D81584  956B45F5915CA225   2025-08-15  2025-08-15 15:31:31   \n",
       "4  94E1CBFAEF1F5EE9  83BF0DA35F9F1F40   2025-08-15  2025-08-15 21:33:53   \n",
       "\n",
       "  install_date  session_number  registration_flag  page_counter region  \\\n",
       "0   2025-08-15               1                  0             3    CIS   \n",
       "1   2025-08-15               1                  0             4   MENA   \n",
       "2   2025-08-15               1                  0             4     EU   \n",
       "3   2025-08-15               1                  0             4    CIS   \n",
       "4   2025-08-15               1                  0             3    CIS   \n",
       "\n",
       "    device  \n",
       "0   iPhone  \n",
       "1  Android  \n",
       "2       PC  \n",
       "3  Android  \n",
       "4  Android  "
      ]
     },
     "execution_count": 2,
     "metadata": {},
     "output_type": "execute_result"
    }
   ],
   "source": [
    "sessions_history = pd.read_csv('/datasets/sessions_project_history.csv')\n",
    "sessions_history.head()"
   ]
  },
  {
   "cell_type": "markdown",
   "metadata": {
    "id": "qTDoiODz0eMo"
   },
   "source": [
    "### Знакомство с данными\n",
    "- Для каждого уникального пользователя `user_id` рассчитаем количество уникальных сессий `session_id`.\n",
    "\n",
    "- Выведем на экран все данные из таблицы `sessions_history` для одного пользователя с наибольшим количеством сессий.\n",
    "\n",
    "- Изучим полученную таблицу для одного пользователя, чтобы лучше понять логику формирования каждого столбца данных.\n",
    "\n"
   ]
  },
  {
   "cell_type": "code",
   "execution_count": 3,
   "metadata": {
    "id": "PWZO9vTIPbPN"
   },
   "outputs": [
    {
     "data": {
      "text/html": [
       "<div>\n",
       "<style scoped>\n",
       "    .dataframe tbody tr th:only-of-type {\n",
       "        vertical-align: middle;\n",
       "    }\n",
       "\n",
       "    .dataframe tbody tr th {\n",
       "        vertical-align: top;\n",
       "    }\n",
       "\n",
       "    .dataframe thead th {\n",
       "        text-align: right;\n",
       "    }\n",
       "</style>\n",
       "<table border=\"1\" class=\"dataframe\">\n",
       "  <thead>\n",
       "    <tr style=\"text-align: right;\">\n",
       "      <th></th>\n",
       "      <th>user_id</th>\n",
       "      <th>session_id</th>\n",
       "    </tr>\n",
       "  </thead>\n",
       "  <tbody>\n",
       "    <tr>\n",
       "      <th>8948</th>\n",
       "      <td>10E0DEFC1ABDBBE0</td>\n",
       "      <td>10</td>\n",
       "    </tr>\n",
       "    <tr>\n",
       "      <th>55627</th>\n",
       "      <td>6A73CB5566BB494D</td>\n",
       "      <td>10</td>\n",
       "    </tr>\n",
       "    <tr>\n",
       "      <th>72346</th>\n",
       "      <td>8A60431A825D035B</td>\n",
       "      <td>9</td>\n",
       "    </tr>\n",
       "    <tr>\n",
       "      <th>109383</th>\n",
       "      <td>D11541BAC141FB94</td>\n",
       "      <td>9</td>\n",
       "    </tr>\n",
       "    <tr>\n",
       "      <th>47956</th>\n",
       "      <td>5BCFE7C4DCC148E9</td>\n",
       "      <td>9</td>\n",
       "    </tr>\n",
       "    <tr>\n",
       "      <th>...</th>\n",
       "      <td>...</td>\n",
       "      <td>...</td>\n",
       "    </tr>\n",
       "    <tr>\n",
       "      <th>15859</th>\n",
       "      <td>1DF13BB1953B3497</td>\n",
       "      <td>1</td>\n",
       "    </tr>\n",
       "    <tr>\n",
       "      <th>51449</th>\n",
       "      <td>628502A3CE7E0A3C</td>\n",
       "      <td>1</td>\n",
       "    </tr>\n",
       "    <tr>\n",
       "      <th>15853</th>\n",
       "      <td>1DEEF40DEFBD0C65</td>\n",
       "      <td>1</td>\n",
       "    </tr>\n",
       "    <tr>\n",
       "      <th>89905</th>\n",
       "      <td>AC08479B7472C628</td>\n",
       "      <td>1</td>\n",
       "    </tr>\n",
       "    <tr>\n",
       "      <th>72184</th>\n",
       "      <td>8A0882B6715D9EE5</td>\n",
       "      <td>1</td>\n",
       "    </tr>\n",
       "  </tbody>\n",
       "</table>\n",
       "<p>134039 rows × 2 columns</p>\n",
       "</div>"
      ],
      "text/plain": [
       "                 user_id  session_id\n",
       "8948    10E0DEFC1ABDBBE0          10\n",
       "55627   6A73CB5566BB494D          10\n",
       "72346   8A60431A825D035B           9\n",
       "109383  D11541BAC141FB94           9\n",
       "47956   5BCFE7C4DCC148E9           9\n",
       "...                  ...         ...\n",
       "15859   1DF13BB1953B3497           1\n",
       "51449   628502A3CE7E0A3C           1\n",
       "15853   1DEEF40DEFBD0C65           1\n",
       "89905   AC08479B7472C628           1\n",
       "72184   8A0882B6715D9EE5           1\n",
       "\n",
       "[134039 rows x 2 columns]"
      ]
     },
     "execution_count": 3,
     "metadata": {},
     "output_type": "execute_result"
    }
   ],
   "source": [
    "# Рассчитаем для каждого пользователя кол-во уникальных сессий, отсортировав кол-во сессий по убыванию\n",
    "uniq_user_session = sessions_history.groupby('user_id')['session_id'].nunique().reset_index().sort_values(by = 'session_id', ascending = False)\n",
    "uniq_user_session"
   ]
  },
  {
   "cell_type": "code",
   "execution_count": 4,
   "metadata": {},
   "outputs": [
    {
     "data": {
      "text/html": [
       "<div>\n",
       "<style scoped>\n",
       "    .dataframe tbody tr th:only-of-type {\n",
       "        vertical-align: middle;\n",
       "    }\n",
       "\n",
       "    .dataframe tbody tr th {\n",
       "        vertical-align: top;\n",
       "    }\n",
       "\n",
       "    .dataframe thead th {\n",
       "        text-align: right;\n",
       "    }\n",
       "</style>\n",
       "<table border=\"1\" class=\"dataframe\">\n",
       "  <thead>\n",
       "    <tr style=\"text-align: right;\">\n",
       "      <th></th>\n",
       "      <th>user_id</th>\n",
       "      <th>session_id</th>\n",
       "      <th>session_date</th>\n",
       "      <th>session_start_ts</th>\n",
       "      <th>install_date</th>\n",
       "      <th>session_number</th>\n",
       "      <th>registration_flag</th>\n",
       "      <th>page_counter</th>\n",
       "      <th>region</th>\n",
       "      <th>device</th>\n",
       "    </tr>\n",
       "  </thead>\n",
       "  <tbody>\n",
       "    <tr>\n",
       "      <th>115558</th>\n",
       "      <td>10E0DEFC1ABDBBE0</td>\n",
       "      <td>B8F0423BBFFCF5DC</td>\n",
       "      <td>2025-08-14</td>\n",
       "      <td>2025-08-14 13:57:39</td>\n",
       "      <td>2025-08-14</td>\n",
       "      <td>1</td>\n",
       "      <td>0</td>\n",
       "      <td>4</td>\n",
       "      <td>CIS</td>\n",
       "      <td>Android</td>\n",
       "    </tr>\n",
       "    <tr>\n",
       "      <th>191751</th>\n",
       "      <td>10E0DEFC1ABDBBE0</td>\n",
       "      <td>87CA2FA549473837</td>\n",
       "      <td>2025-08-15</td>\n",
       "      <td>2025-08-15 16:42:10</td>\n",
       "      <td>2025-08-14</td>\n",
       "      <td>2</td>\n",
       "      <td>0</td>\n",
       "      <td>3</td>\n",
       "      <td>CIS</td>\n",
       "      <td>Android</td>\n",
       "    </tr>\n",
       "    <tr>\n",
       "      <th>239370</th>\n",
       "      <td>10E0DEFC1ABDBBE0</td>\n",
       "      <td>4ADD8011DCDCE318</td>\n",
       "      <td>2025-08-16</td>\n",
       "      <td>2025-08-16 19:53:21</td>\n",
       "      <td>2025-08-14</td>\n",
       "      <td>3</td>\n",
       "      <td>0</td>\n",
       "      <td>3</td>\n",
       "      <td>CIS</td>\n",
       "      <td>Android</td>\n",
       "    </tr>\n",
       "    <tr>\n",
       "      <th>274629</th>\n",
       "      <td>10E0DEFC1ABDBBE0</td>\n",
       "      <td>DF0FD0E09BF1F3D7</td>\n",
       "      <td>2025-08-17</td>\n",
       "      <td>2025-08-17 15:03:43</td>\n",
       "      <td>2025-08-14</td>\n",
       "      <td>4</td>\n",
       "      <td>0</td>\n",
       "      <td>1</td>\n",
       "      <td>CIS</td>\n",
       "      <td>Android</td>\n",
       "    </tr>\n",
       "    <tr>\n",
       "      <th>302501</th>\n",
       "      <td>10E0DEFC1ABDBBE0</td>\n",
       "      <td>3C221774B4DE6885</td>\n",
       "      <td>2025-08-18</td>\n",
       "      <td>2025-08-18 17:29:14</td>\n",
       "      <td>2025-08-14</td>\n",
       "      <td>5</td>\n",
       "      <td>0</td>\n",
       "      <td>4</td>\n",
       "      <td>CIS</td>\n",
       "      <td>Android</td>\n",
       "    </tr>\n",
       "    <tr>\n",
       "      <th>325557</th>\n",
       "      <td>10E0DEFC1ABDBBE0</td>\n",
       "      <td>031BD7A67048105B</td>\n",
       "      <td>2025-08-19</td>\n",
       "      <td>2025-08-19 13:23:55</td>\n",
       "      <td>2025-08-14</td>\n",
       "      <td>6</td>\n",
       "      <td>0</td>\n",
       "      <td>2</td>\n",
       "      <td>CIS</td>\n",
       "      <td>Android</td>\n",
       "    </tr>\n",
       "    <tr>\n",
       "      <th>345336</th>\n",
       "      <td>10E0DEFC1ABDBBE0</td>\n",
       "      <td>FF4315CF4AD4B100</td>\n",
       "      <td>2025-08-20</td>\n",
       "      <td>2025-08-20 19:31:54</td>\n",
       "      <td>2025-08-14</td>\n",
       "      <td>7</td>\n",
       "      <td>0</td>\n",
       "      <td>2</td>\n",
       "      <td>CIS</td>\n",
       "      <td>Android</td>\n",
       "    </tr>\n",
       "    <tr>\n",
       "      <th>377532</th>\n",
       "      <td>10E0DEFC1ABDBBE0</td>\n",
       "      <td>4045FEA0747203B4</td>\n",
       "      <td>2025-08-22</td>\n",
       "      <td>2025-08-22 17:54:13</td>\n",
       "      <td>2025-08-14</td>\n",
       "      <td>8</td>\n",
       "      <td>0</td>\n",
       "      <td>2</td>\n",
       "      <td>CIS</td>\n",
       "      <td>Android</td>\n",
       "    </tr>\n",
       "    <tr>\n",
       "      <th>403538</th>\n",
       "      <td>10E0DEFC1ABDBBE0</td>\n",
       "      <td>344B086C421C7F37</td>\n",
       "      <td>2025-08-24</td>\n",
       "      <td>2025-08-24 14:46:13</td>\n",
       "      <td>2025-08-14</td>\n",
       "      <td>9</td>\n",
       "      <td>0</td>\n",
       "      <td>2</td>\n",
       "      <td>CIS</td>\n",
       "      <td>Android</td>\n",
       "    </tr>\n",
       "    <tr>\n",
       "      <th>414743</th>\n",
       "      <td>10E0DEFC1ABDBBE0</td>\n",
       "      <td>054F20BA371E4C9D</td>\n",
       "      <td>2025-08-25</td>\n",
       "      <td>2025-08-25 18:36:41</td>\n",
       "      <td>2025-08-14</td>\n",
       "      <td>10</td>\n",
       "      <td>0</td>\n",
       "      <td>3</td>\n",
       "      <td>CIS</td>\n",
       "      <td>Android</td>\n",
       "    </tr>\n",
       "  </tbody>\n",
       "</table>\n",
       "</div>"
      ],
      "text/plain": [
       "                 user_id        session_id session_date     session_start_ts  \\\n",
       "115558  10E0DEFC1ABDBBE0  B8F0423BBFFCF5DC   2025-08-14  2025-08-14 13:57:39   \n",
       "191751  10E0DEFC1ABDBBE0  87CA2FA549473837   2025-08-15  2025-08-15 16:42:10   \n",
       "239370  10E0DEFC1ABDBBE0  4ADD8011DCDCE318   2025-08-16  2025-08-16 19:53:21   \n",
       "274629  10E0DEFC1ABDBBE0  DF0FD0E09BF1F3D7   2025-08-17  2025-08-17 15:03:43   \n",
       "302501  10E0DEFC1ABDBBE0  3C221774B4DE6885   2025-08-18  2025-08-18 17:29:14   \n",
       "325557  10E0DEFC1ABDBBE0  031BD7A67048105B   2025-08-19  2025-08-19 13:23:55   \n",
       "345336  10E0DEFC1ABDBBE0  FF4315CF4AD4B100   2025-08-20  2025-08-20 19:31:54   \n",
       "377532  10E0DEFC1ABDBBE0  4045FEA0747203B4   2025-08-22  2025-08-22 17:54:13   \n",
       "403538  10E0DEFC1ABDBBE0  344B086C421C7F37   2025-08-24  2025-08-24 14:46:13   \n",
       "414743  10E0DEFC1ABDBBE0  054F20BA371E4C9D   2025-08-25  2025-08-25 18:36:41   \n",
       "\n",
       "       install_date  session_number  registration_flag  page_counter region  \\\n",
       "115558   2025-08-14               1                  0             4    CIS   \n",
       "191751   2025-08-14               2                  0             3    CIS   \n",
       "239370   2025-08-14               3                  0             3    CIS   \n",
       "274629   2025-08-14               4                  0             1    CIS   \n",
       "302501   2025-08-14               5                  0             4    CIS   \n",
       "325557   2025-08-14               6                  0             2    CIS   \n",
       "345336   2025-08-14               7                  0             2    CIS   \n",
       "377532   2025-08-14               8                  0             2    CIS   \n",
       "403538   2025-08-14               9                  0             2    CIS   \n",
       "414743   2025-08-14              10                  0             3    CIS   \n",
       "\n",
       "         device  \n",
       "115558  Android  \n",
       "191751  Android  \n",
       "239370  Android  \n",
       "274629  Android  \n",
       "302501  Android  \n",
       "325557  Android  \n",
       "345336  Android  \n",
       "377532  Android  \n",
       "403538  Android  \n",
       "414743  Android  "
      ]
     },
     "execution_count": 4,
     "metadata": {},
     "output_type": "execute_result"
    }
   ],
   "source": [
    "# Выведем данные по пользователю с наибольшим количеством уникальных сессий\n",
    "lider_user = sessions_history[sessions_history['user_id'] == '10E0DEFC1ABDBBE0']\n",
    "lider_user"
   ]
  },
  {
   "cell_type": "markdown",
   "metadata": {
    "id": "CmcGpJTP0eMq"
   },
   "source": [
    "### Анализ числа регистраций\n",
    "Одна из важнейших метрик продукта — число зарегистрированных пользователей. Используя исторические данные, визуализируем, как менялось число регистраций в приложении за время его существования.\n",
    "\n",
    "- Агрегируем исторические данные и рассчитаем число уникальных пользователей и число зарегистрированных пользователей для каждого дня наблюдения.\n",
    "\n",
    "- Построим линейные графики динамики общего числа пользователей и общего числа зарегистрированных пользователей по дням.\n",
    "\n",
    "- Построим отдельный линейный график доли зарегистрированных пользователей от всех пользователей по дням.\n"
   ]
  },
  {
   "cell_type": "code",
   "execution_count": 5,
   "metadata": {
    "scrolled": false
   },
   "outputs": [
    {
     "data": {
      "text/html": [
       "<div>\n",
       "<style scoped>\n",
       "    .dataframe tbody tr th:only-of-type {\n",
       "        vertical-align: middle;\n",
       "    }\n",
       "\n",
       "    .dataframe tbody tr th {\n",
       "        vertical-align: top;\n",
       "    }\n",
       "\n",
       "    .dataframe thead th {\n",
       "        text-align: right;\n",
       "    }\n",
       "</style>\n",
       "<table border=\"1\" class=\"dataframe\">\n",
       "  <thead>\n",
       "    <tr style=\"text-align: right;\">\n",
       "      <th></th>\n",
       "      <th>session_date</th>\n",
       "      <th>registration_flag</th>\n",
       "      <th>user_id</th>\n",
       "    </tr>\n",
       "  </thead>\n",
       "  <tbody>\n",
       "    <tr>\n",
       "      <th>0</th>\n",
       "      <td>2025-08-11</td>\n",
       "      <td>0</td>\n",
       "      <td>3750</td>\n",
       "    </tr>\n",
       "    <tr>\n",
       "      <th>1</th>\n",
       "      <td>2025-08-11</td>\n",
       "      <td>1</td>\n",
       "      <td>169</td>\n",
       "    </tr>\n",
       "    <tr>\n",
       "      <th>2</th>\n",
       "      <td>2025-08-12</td>\n",
       "      <td>0</td>\n",
       "      <td>5720</td>\n",
       "    </tr>\n",
       "    <tr>\n",
       "      <th>3</th>\n",
       "      <td>2025-08-12</td>\n",
       "      <td>1</td>\n",
       "      <td>336</td>\n",
       "    </tr>\n",
       "    <tr>\n",
       "      <th>4</th>\n",
       "      <td>2025-08-13</td>\n",
       "      <td>0</td>\n",
       "      <td>8025</td>\n",
       "    </tr>\n",
       "    <tr>\n",
       "      <th>5</th>\n",
       "      <td>2025-08-13</td>\n",
       "      <td>1</td>\n",
       "      <td>464</td>\n",
       "    </tr>\n",
       "    <tr>\n",
       "      <th>6</th>\n",
       "      <td>2025-08-14</td>\n",
       "      <td>0</td>\n",
       "      <td>9696</td>\n",
       "    </tr>\n",
       "    <tr>\n",
       "      <th>7</th>\n",
       "      <td>2025-08-14</td>\n",
       "      <td>1</td>\n",
       "      <td>625</td>\n",
       "    </tr>\n",
       "    <tr>\n",
       "      <th>8</th>\n",
       "      <td>2025-08-15</td>\n",
       "      <td>0</td>\n",
       "      <td>13225</td>\n",
       "    </tr>\n",
       "    <tr>\n",
       "      <th>9</th>\n",
       "      <td>2025-08-15</td>\n",
       "      <td>1</td>\n",
       "      <td>840</td>\n",
       "    </tr>\n",
       "  </tbody>\n",
       "</table>\n",
       "</div>"
      ],
      "text/plain": [
       "  session_date  registration_flag  user_id\n",
       "0   2025-08-11                  0     3750\n",
       "1   2025-08-11                  1      169\n",
       "2   2025-08-12                  0     5720\n",
       "3   2025-08-12                  1      336\n",
       "4   2025-08-13                  0     8025\n",
       "5   2025-08-13                  1      464\n",
       "6   2025-08-14                  0     9696\n",
       "7   2025-08-14                  1      625\n",
       "8   2025-08-15                  0    13225\n",
       "9   2025-08-15                  1      840"
      ]
     },
     "execution_count": 5,
     "metadata": {},
     "output_type": "execute_result"
    }
   ],
   "source": [
    "# Группируем данные по дате сессии и флагу регистрации пользователя и расчитаем кол-во пользователей\n",
    "df_grp = sessions_history.groupby(['session_date','registration_flag'])['user_id'].count().reset_index()\n",
    "df_grp.head(10)"
   ]
  },
  {
   "cell_type": "code",
   "execution_count": 6,
   "metadata": {},
   "outputs": [
    {
     "data": {
      "text/html": [
       "<div>\n",
       "<style scoped>\n",
       "    .dataframe tbody tr th:only-of-type {\n",
       "        vertical-align: middle;\n",
       "    }\n",
       "\n",
       "    .dataframe tbody tr th {\n",
       "        vertical-align: top;\n",
       "    }\n",
       "\n",
       "    .dataframe thead th {\n",
       "        text-align: right;\n",
       "    }\n",
       "</style>\n",
       "<table border=\"1\" class=\"dataframe\">\n",
       "  <thead>\n",
       "    <tr style=\"text-align: right;\">\n",
       "      <th></th>\n",
       "      <th>session_date</th>\n",
       "      <th>user_id</th>\n",
       "    </tr>\n",
       "  </thead>\n",
       "  <tbody>\n",
       "    <tr>\n",
       "      <th>0</th>\n",
       "      <td>2025-08-11</td>\n",
       "      <td>3919</td>\n",
       "    </tr>\n",
       "    <tr>\n",
       "      <th>1</th>\n",
       "      <td>2025-08-12</td>\n",
       "      <td>6056</td>\n",
       "    </tr>\n",
       "    <tr>\n",
       "      <th>2</th>\n",
       "      <td>2025-08-13</td>\n",
       "      <td>8489</td>\n",
       "    </tr>\n",
       "    <tr>\n",
       "      <th>3</th>\n",
       "      <td>2025-08-14</td>\n",
       "      <td>10321</td>\n",
       "    </tr>\n",
       "    <tr>\n",
       "      <th>4</th>\n",
       "      <td>2025-08-15</td>\n",
       "      <td>14065</td>\n",
       "    </tr>\n",
       "  </tbody>\n",
       "</table>\n",
       "</div>"
      ],
      "text/plain": [
       "  session_date  user_id\n",
       "0   2025-08-11     3919\n",
       "1   2025-08-12     6056\n",
       "2   2025-08-13     8489\n",
       "3   2025-08-14    10321\n",
       "4   2025-08-15    14065"
      ]
     },
     "execution_count": 6,
     "metadata": {},
     "output_type": "execute_result"
    }
   ],
   "source": [
    "# Посчитаем общее кол-во пользователей по дням\n",
    "df_sum_users = df_grp.groupby('session_date')['user_id'].sum().reset_index()\n",
    "df_sum_users.head()"
   ]
  },
  {
   "cell_type": "code",
   "execution_count": 7,
   "metadata": {
    "scrolled": true
   },
   "outputs": [
    {
     "data": {
      "image/png": "[encoded data removed]",
      "text/plain": [
       "<Figure size 1080x576 with 1 Axes>"
      ]
     },
     "metadata": {
      "needs_background": "light"
     },
     "output_type": "display_data"
    }
   ],
   "source": [
    "# Построим линейный график общего числа пользователей и общего числа зарегистрированных пользователей по дням\n",
    "# Выведем значения осей в соответствии с заданием\n",
    "x = df_grp.session_date.unique()\n",
    "y_a = df_sum_users.user_id\n",
    "y_b = df_grp[df_grp.registration_flag==1].user_id\n",
    "\n",
    "plt.figure(figsize=(15, 8))\n",
    "plt.plot(x, y_a, label ='Кол-во уникальных пользователей')\n",
    "plt.plot(x, y_b,label ='Кол-во зарегистрированных пользователей')\n",
    "\n",
    "plt.xlabel(\"Дата\")\n",
    "plt.ylabel(\"Количество уникальных и зарегистрированных пользователей\")\n",
    "plt.xticks(rotation=45)\n",
    "plt.grid(axis='y', alpha=0.5, linestyle='--', color='gray')\n",
    "plt.legend()\n",
    "plt.title('Динамика кол-ва уникальных пользователей и кол-ва зарегистрированных пользователей по дням')\n",
    "plt.show()"
   ]
  },
  {
   "cell_type": "code",
   "execution_count": 8,
   "metadata": {},
   "outputs": [
    {
     "data": {
      "text/html": [
       "<div>\n",
       "<style scoped>\n",
       "    .dataframe tbody tr th:only-of-type {\n",
       "        vertical-align: middle;\n",
       "    }\n",
       "\n",
       "    .dataframe tbody tr th {\n",
       "        vertical-align: top;\n",
       "    }\n",
       "\n",
       "    .dataframe thead th {\n",
       "        text-align: right;\n",
       "    }\n",
       "</style>\n",
       "<table border=\"1\" class=\"dataframe\">\n",
       "  <thead>\n",
       "    <tr style=\"text-align: right;\">\n",
       "      <th></th>\n",
       "      <th>session_date</th>\n",
       "      <th>registration_flag</th>\n",
       "      <th>user_id</th>\n",
       "    </tr>\n",
       "  </thead>\n",
       "  <tbody>\n",
       "    <tr>\n",
       "      <th>1</th>\n",
       "      <td>2025-08-11</td>\n",
       "      <td>1</td>\n",
       "      <td>169</td>\n",
       "    </tr>\n",
       "    <tr>\n",
       "      <th>3</th>\n",
       "      <td>2025-08-12</td>\n",
       "      <td>1</td>\n",
       "      <td>336</td>\n",
       "    </tr>\n",
       "    <tr>\n",
       "      <th>5</th>\n",
       "      <td>2025-08-13</td>\n",
       "      <td>1</td>\n",
       "      <td>464</td>\n",
       "    </tr>\n",
       "    <tr>\n",
       "      <th>7</th>\n",
       "      <td>2025-08-14</td>\n",
       "      <td>1</td>\n",
       "      <td>625</td>\n",
       "    </tr>\n",
       "    <tr>\n",
       "      <th>9</th>\n",
       "      <td>2025-08-15</td>\n",
       "      <td>1</td>\n",
       "      <td>840</td>\n",
       "    </tr>\n",
       "  </tbody>\n",
       "</table>\n",
       "</div>"
      ],
      "text/plain": [
       "  session_date  registration_flag  user_id\n",
       "1   2025-08-11                  1      169\n",
       "3   2025-08-12                  1      336\n",
       "5   2025-08-13                  1      464\n",
       "7   2025-08-14                  1      625\n",
       "9   2025-08-15                  1      840"
      ]
     },
     "execution_count": 8,
     "metadata": {},
     "output_type": "execute_result"
    }
   ],
   "source": [
    "# Отдельно сохраним датафрейм с зарегистрированными пользователям\n",
    "df_true_req = df_grp[df_grp['registration_flag'] ==1]\n",
    "df_true_req.head()"
   ]
  },
  {
   "cell_type": "code",
   "execution_count": 9,
   "metadata": {},
   "outputs": [
    {
     "data": {
      "text/html": [
       "<div>\n",
       "<style scoped>\n",
       "    .dataframe tbody tr th:only-of-type {\n",
       "        vertical-align: middle;\n",
       "    }\n",
       "\n",
       "    .dataframe tbody tr th {\n",
       "        vertical-align: top;\n",
       "    }\n",
       "\n",
       "    .dataframe thead th {\n",
       "        text-align: right;\n",
       "    }\n",
       "</style>\n",
       "<table border=\"1\" class=\"dataframe\">\n",
       "  <thead>\n",
       "    <tr style=\"text-align: right;\">\n",
       "      <th></th>\n",
       "      <th>session_date</th>\n",
       "      <th>registration_flag</th>\n",
       "      <th>reg_users</th>\n",
       "      <th>total_users</th>\n",
       "      <th>share_reg_users</th>\n",
       "    </tr>\n",
       "  </thead>\n",
       "  <tbody>\n",
       "    <tr>\n",
       "      <th>39</th>\n",
       "      <td>2025-09-19</td>\n",
       "      <td>1</td>\n",
       "      <td>132</td>\n",
       "      <td>1418</td>\n",
       "      <td>9.31</td>\n",
       "    </tr>\n",
       "    <tr>\n",
       "      <th>40</th>\n",
       "      <td>2025-09-20</td>\n",
       "      <td>1</td>\n",
       "      <td>107</td>\n",
       "      <td>1100</td>\n",
       "      <td>9.73</td>\n",
       "    </tr>\n",
       "    <tr>\n",
       "      <th>41</th>\n",
       "      <td>2025-09-21</td>\n",
       "      <td>1</td>\n",
       "      <td>87</td>\n",
       "      <td>776</td>\n",
       "      <td>11.21</td>\n",
       "    </tr>\n",
       "    <tr>\n",
       "      <th>42</th>\n",
       "      <td>2025-09-22</td>\n",
       "      <td>1</td>\n",
       "      <td>68</td>\n",
       "      <td>546</td>\n",
       "      <td>12.45</td>\n",
       "    </tr>\n",
       "    <tr>\n",
       "      <th>43</th>\n",
       "      <td>2025-09-23</td>\n",
       "      <td>1</td>\n",
       "      <td>32</td>\n",
       "      <td>317</td>\n",
       "      <td>10.09</td>\n",
       "    </tr>\n",
       "  </tbody>\n",
       "</table>\n",
       "</div>"
      ],
      "text/plain": [
       "   session_date  registration_flag  reg_users  total_users  share_reg_users\n",
       "39   2025-09-19                  1        132         1418             9.31\n",
       "40   2025-09-20                  1        107         1100             9.73\n",
       "41   2025-09-21                  1         87          776            11.21\n",
       "42   2025-09-22                  1         68          546            12.45\n",
       "43   2025-09-23                  1         32          317            10.09"
      ]
     },
     "execution_count": 9,
     "metadata": {},
     "output_type": "execute_result"
    }
   ],
   "source": [
    "# Объединим датафреймы\n",
    "df_unit = df_true_req.merge(df_sum_users, how = 'left', on = 'session_date', suffixes=('_reg', '_total'))\n",
    "df_unit.rename(columns={'user_id_reg': 'reg_users', 'user_id_total': 'total_users'}, inplace=True)\n",
    "# Расчёт доли зарегистрированных пользователей от всех пользователей по дням\n",
    "df_unit['share_reg_users'] = round(df_unit['reg_users'] / df_unit['total_users'] * 100.0, 2)\n",
    "df_unit.tail()"
   ]
  },
  {
   "cell_type": "code",
   "execution_count": 10,
   "metadata": {},
   "outputs": [
    {
     "data": {
      "image/png": "[encoded data removed]",
      "text/plain": [
       "<Figure size 1080x576 with 1 Axes>"
      ]
     },
     "metadata": {
      "needs_background": "light"
     },
     "output_type": "display_data"
    }
   ],
   "source": [
    "# Выведем значения осей в соответствии с заданием\n",
    "x = df_unit.session_date.unique()\n",
    "y = df_unit.share_reg_users\n",
    "\n",
    "plt.figure(figsize=(15, 8))\n",
    "plt.plot(x, y, label ='Доля зарегистрированных пользователй')\n",
    "\n",
    "plt.xlabel(\"Дата\")\n",
    "plt.ylabel(\"Количество зарегистрированных пользователей\")\n",
    "plt.xticks(rotation=45)\n",
    "plt.legend()\n",
    "plt.grid(axis='y', alpha=0.5, linestyle='--', color='gray')\n",
    "plt.title('Динамика доли зарегистрированных пользователй')\n",
    "plt.show()"
   ]
  },
  {
   "cell_type": "markdown",
   "metadata": {},
   "source": [
    "**Промежуточный вывод**\n",
    "- Наблюдается выраженный рост доли зарегистрированных пользователей (share_reg_users) с 4,31% (11 августа) до пикового значения в 12,4% - 21 сентября 2025 года, далее происходит снижение доли до 10,1%.\n",
    "- Максимальное значение зафиксировано 22 сентября - 12.45%.\n",
    "- Стремительный рост может быть обусловлен успехом рекламной кампании или оптимизации просесса регистрации."
   ]
  },
  {
   "cell_type": "markdown",
   "metadata": {
    "id": "UR7D7RhF0eMr"
   },
   "source": [
    "### Анализ числа просмотренных страниц\n",
    "Другая важная метрика продукта — число просмотренных страниц в приложении. Чем больше страниц просмотрено, тем сильнее пользователь увлечён контентом, а значит, выше шансы на то, что он зарегистрируется и оплатит подписку.\n",
    "\n",
    "- Найдем количество сессий для каждого значения количества просмотренных страниц. Например: одну страницу просмотрели в 29160 сессиях, две страницы в 105536 сессиях и так далее.\n",
    "\n",
    "- Построим столбчатую диаграмму, где по оси X будет число просмотренных страниц, по оси Y — количество сессий."
   ]
  },
  {
   "cell_type": "code",
   "execution_count": 11,
   "metadata": {
    "id": "cb6hPlVzPaSf"
   },
   "outputs": [
    {
     "data": {
      "text/html": [
       "<div>\n",
       "<style scoped>\n",
       "    .dataframe tbody tr th:only-of-type {\n",
       "        vertical-align: middle;\n",
       "    }\n",
       "\n",
       "    .dataframe tbody tr th {\n",
       "        vertical-align: top;\n",
       "    }\n",
       "\n",
       "    .dataframe thead th {\n",
       "        text-align: right;\n",
       "    }\n",
       "</style>\n",
       "<table border=\"1\" class=\"dataframe\">\n",
       "  <thead>\n",
       "    <tr style=\"text-align: right;\">\n",
       "      <th></th>\n",
       "      <th>user_id</th>\n",
       "      <th>session_id</th>\n",
       "      <th>session_date</th>\n",
       "      <th>session_start_ts</th>\n",
       "      <th>install_date</th>\n",
       "      <th>session_number</th>\n",
       "      <th>registration_flag</th>\n",
       "      <th>page_counter</th>\n",
       "      <th>region</th>\n",
       "      <th>device</th>\n",
       "    </tr>\n",
       "  </thead>\n",
       "  <tbody>\n",
       "    <tr>\n",
       "      <th>0</th>\n",
       "      <td>E302123B7000BFE4</td>\n",
       "      <td>F9AF61A0C2023832</td>\n",
       "      <td>2025-08-15</td>\n",
       "      <td>2025-08-15 17:47:35</td>\n",
       "      <td>2025-08-15</td>\n",
       "      <td>1</td>\n",
       "      <td>0</td>\n",
       "      <td>3</td>\n",
       "      <td>CIS</td>\n",
       "      <td>iPhone</td>\n",
       "    </tr>\n",
       "    <tr>\n",
       "      <th>1</th>\n",
       "      <td>2530F72E221829FB</td>\n",
       "      <td>85003A206CBDAC6F</td>\n",
       "      <td>2025-08-15</td>\n",
       "      <td>2025-08-15 16:42:14</td>\n",
       "      <td>2025-08-15</td>\n",
       "      <td>1</td>\n",
       "      <td>0</td>\n",
       "      <td>4</td>\n",
       "      <td>MENA</td>\n",
       "      <td>Android</td>\n",
       "    </tr>\n",
       "    <tr>\n",
       "      <th>2</th>\n",
       "      <td>876E020A4FC512F5</td>\n",
       "      <td>3677423E49D72DEE</td>\n",
       "      <td>2025-08-15</td>\n",
       "      <td>2025-08-15 12:30:00</td>\n",
       "      <td>2025-08-15</td>\n",
       "      <td>1</td>\n",
       "      <td>0</td>\n",
       "      <td>4</td>\n",
       "      <td>EU</td>\n",
       "      <td>PC</td>\n",
       "    </tr>\n",
       "    <tr>\n",
       "      <th>3</th>\n",
       "      <td>2640B349E1D81584</td>\n",
       "      <td>956B45F5915CA225</td>\n",
       "      <td>2025-08-15</td>\n",
       "      <td>2025-08-15 15:31:31</td>\n",
       "      <td>2025-08-15</td>\n",
       "      <td>1</td>\n",
       "      <td>0</td>\n",
       "      <td>4</td>\n",
       "      <td>CIS</td>\n",
       "      <td>Android</td>\n",
       "    </tr>\n",
       "    <tr>\n",
       "      <th>4</th>\n",
       "      <td>94E1CBFAEF1F5EE9</td>\n",
       "      <td>83BF0DA35F9F1F40</td>\n",
       "      <td>2025-08-15</td>\n",
       "      <td>2025-08-15 21:33:53</td>\n",
       "      <td>2025-08-15</td>\n",
       "      <td>1</td>\n",
       "      <td>0</td>\n",
       "      <td>3</td>\n",
       "      <td>CIS</td>\n",
       "      <td>Android</td>\n",
       "    </tr>\n",
       "  </tbody>\n",
       "</table>\n",
       "</div>"
      ],
      "text/plain": [
       "            user_id        session_id session_date     session_start_ts  \\\n",
       "0  E302123B7000BFE4  F9AF61A0C2023832   2025-08-15  2025-08-15 17:47:35   \n",
       "1  2530F72E221829FB  85003A206CBDAC6F   2025-08-15  2025-08-15 16:42:14   \n",
       "2  876E020A4FC512F5  3677423E49D72DEE   2025-08-15  2025-08-15 12:30:00   \n",
       "3  2640B349E1D81584  956B45F5915CA225   2025-08-15  2025-08-15 15:31:31   \n",
       "4  94E1CBFAEF1F5EE9  83BF0DA35F9F1F40   2025-08-15  2025-08-15 21:33:53   \n",
       "\n",
       "  install_date  session_number  registration_flag  page_counter region  \\\n",
       "0   2025-08-15               1                  0             3    CIS   \n",
       "1   2025-08-15               1                  0             4   MENA   \n",
       "2   2025-08-15               1                  0             4     EU   \n",
       "3   2025-08-15               1                  0             4    CIS   \n",
       "4   2025-08-15               1                  0             3    CIS   \n",
       "\n",
       "    device  \n",
       "0   iPhone  \n",
       "1  Android  \n",
       "2       PC  \n",
       "3  Android  \n",
       "4  Android  "
      ]
     },
     "execution_count": 11,
     "metadata": {},
     "output_type": "execute_result"
    }
   ],
   "source": [
    "# Выведем первые 5 строк датафрейма\n",
    "sessions_history.head()"
   ]
  },
  {
   "cell_type": "code",
   "execution_count": 12,
   "metadata": {},
   "outputs": [
    {
     "data": {
      "text/plain": [
       "array([ 1,  2,  3,  4,  5,  6,  7,  8,  9, 10])"
      ]
     },
     "execution_count": 12,
     "metadata": {},
     "output_type": "execute_result"
    }
   ],
   "source": [
    "# Выведем уникальные значения кол-ва просмотренных страниц\n",
    "sessions_history['session_number'].unique()"
   ]
  },
  {
   "cell_type": "code",
   "execution_count": 13,
   "metadata": {},
   "outputs": [
    {
     "data": {
      "text/html": [
       "<div>\n",
       "<style scoped>\n",
       "    .dataframe tbody tr th:only-of-type {\n",
       "        vertical-align: middle;\n",
       "    }\n",
       "\n",
       "    .dataframe tbody tr th {\n",
       "        vertical-align: top;\n",
       "    }\n",
       "\n",
       "    .dataframe thead th {\n",
       "        text-align: right;\n",
       "    }\n",
       "</style>\n",
       "<table border=\"1\" class=\"dataframe\">\n",
       "  <thead>\n",
       "    <tr style=\"text-align: right;\">\n",
       "      <th></th>\n",
       "      <th>page_counter</th>\n",
       "      <th>session_id</th>\n",
       "    </tr>\n",
       "  </thead>\n",
       "  <tbody>\n",
       "    <tr>\n",
       "      <th>0</th>\n",
       "      <td>1</td>\n",
       "      <td>29160</td>\n",
       "    </tr>\n",
       "    <tr>\n",
       "      <th>1</th>\n",
       "      <td>2</td>\n",
       "      <td>105536</td>\n",
       "    </tr>\n",
       "    <tr>\n",
       "      <th>2</th>\n",
       "      <td>3</td>\n",
       "      <td>166690</td>\n",
       "    </tr>\n",
       "    <tr>\n",
       "      <th>3</th>\n",
       "      <td>4</td>\n",
       "      <td>105569</td>\n",
       "    </tr>\n",
       "    <tr>\n",
       "      <th>4</th>\n",
       "      <td>5</td>\n",
       "      <td>26288</td>\n",
       "    </tr>\n",
       "    <tr>\n",
       "      <th>5</th>\n",
       "      <td>6</td>\n",
       "      <td>2589</td>\n",
       "    </tr>\n",
       "    <tr>\n",
       "      <th>6</th>\n",
       "      <td>7</td>\n",
       "      <td>92</td>\n",
       "    </tr>\n",
       "  </tbody>\n",
       "</table>\n",
       "</div>"
      ],
      "text/plain": [
       "   page_counter  session_id\n",
       "0             1       29160\n",
       "1             2      105536\n",
       "2             3      166690\n",
       "3             4      105569\n",
       "4             5       26288\n",
       "5             6        2589\n",
       "6             7          92"
      ]
     },
     "execution_count": 13,
     "metadata": {},
     "output_type": "execute_result"
    }
   ],
   "source": [
    "# Выведем количество сессий для каждого значения кол-ва просмотренных страниц\n",
    "sessions = sessions_history.groupby('page_counter')['session_id'].count().reset_index()\n",
    "sessions"
   ]
  },
  {
   "cell_type": "code",
   "execution_count": 14,
   "metadata": {},
   "outputs": [
    {
     "data": {
      "text/plain": [
       "<Figure size 720x360 with 0 Axes>"
      ]
     },
     "metadata": {},
     "output_type": "display_data"
    },
    {
     "data": {
      "image/png": "[encoded data removed]",
      "text/plain": [
       "<Figure size 432x288 with 1 Axes>"
      ]
     },
     "metadata": {
      "needs_background": "light"
     },
     "output_type": "display_data"
    }
   ],
   "source": [
    "# Построим столбчатую диаграмму количества сессий по числу просмотренных страниц\n",
    "\n",
    "plt.figure(figsize=(10, 5))\n",
    "sessions.plot(kind='bar', color='blue', legend=False)\n",
    "\n",
    "# Добавляем заголовки и метки осей\n",
    "plt.title('Количество сессий по числу просмотренных страниц')\n",
    "plt.xlabel('Число просмотренных страниц')\n",
    "plt.ylabel('Количество сессий')\n",
    "plt.grid(axis='y', alpha=0.3)\n",
    "plt.tight_layout()\n",
    "plt.xticks(rotation=0)\n",
    "\n",
    "# Отображаем диаграмму\n",
    "plt.show()"
   ]
  },
  {
   "cell_type": "markdown",
   "metadata": {
    "id": "xDltSpVP0eMr"
   },
   "source": [
    "### Доля пользователей, просмотревших более четырёх страниц\n",
    "Продуктовая команда продукта считает, что сессии, в рамках которых пользователь просмотрел 4 и более страниц, говорят об удовлетворённости контентом и алгоритмами рекомендаций. Этот показатель является важной прокси-метрикой для продукта.\n",
    "\n",
    "- В датафрейме `sessions_history` создадим дополнительный столбец `good_session`. В него войдёт значение `1`, если за одну сессию было просмотрено 4 и более страниц, и значение `0`, если было просмотрено меньше.\n",
    "\n",
    "- Построим график со средним значением доли успешных сессий ко всем сессиям по дням за весь период наблюдения."
   ]
  },
  {
   "cell_type": "code",
   "execution_count": 15,
   "metadata": {},
   "outputs": [
    {
     "data": {
      "text/html": [
       "<div>\n",
       "<style scoped>\n",
       "    .dataframe tbody tr th:only-of-type {\n",
       "        vertical-align: middle;\n",
       "    }\n",
       "\n",
       "    .dataframe tbody tr th {\n",
       "        vertical-align: top;\n",
       "    }\n",
       "\n",
       "    .dataframe thead th {\n",
       "        text-align: right;\n",
       "    }\n",
       "</style>\n",
       "<table border=\"1\" class=\"dataframe\">\n",
       "  <thead>\n",
       "    <tr style=\"text-align: right;\">\n",
       "      <th></th>\n",
       "      <th>user_id</th>\n",
       "      <th>session_id</th>\n",
       "      <th>session_date</th>\n",
       "      <th>session_start_ts</th>\n",
       "      <th>install_date</th>\n",
       "      <th>session_number</th>\n",
       "      <th>registration_flag</th>\n",
       "      <th>page_counter</th>\n",
       "      <th>region</th>\n",
       "      <th>device</th>\n",
       "      <th>good_session</th>\n",
       "    </tr>\n",
       "  </thead>\n",
       "  <tbody>\n",
       "    <tr>\n",
       "      <th>0</th>\n",
       "      <td>E302123B7000BFE4</td>\n",
       "      <td>F9AF61A0C2023832</td>\n",
       "      <td>2025-08-15</td>\n",
       "      <td>2025-08-15 17:47:35</td>\n",
       "      <td>2025-08-15</td>\n",
       "      <td>1</td>\n",
       "      <td>0</td>\n",
       "      <td>3</td>\n",
       "      <td>CIS</td>\n",
       "      <td>iPhone</td>\n",
       "      <td>0</td>\n",
       "    </tr>\n",
       "    <tr>\n",
       "      <th>1</th>\n",
       "      <td>2530F72E221829FB</td>\n",
       "      <td>85003A206CBDAC6F</td>\n",
       "      <td>2025-08-15</td>\n",
       "      <td>2025-08-15 16:42:14</td>\n",
       "      <td>2025-08-15</td>\n",
       "      <td>1</td>\n",
       "      <td>0</td>\n",
       "      <td>4</td>\n",
       "      <td>MENA</td>\n",
       "      <td>Android</td>\n",
       "      <td>1</td>\n",
       "    </tr>\n",
       "    <tr>\n",
       "      <th>2</th>\n",
       "      <td>876E020A4FC512F5</td>\n",
       "      <td>3677423E49D72DEE</td>\n",
       "      <td>2025-08-15</td>\n",
       "      <td>2025-08-15 12:30:00</td>\n",
       "      <td>2025-08-15</td>\n",
       "      <td>1</td>\n",
       "      <td>0</td>\n",
       "      <td>4</td>\n",
       "      <td>EU</td>\n",
       "      <td>PC</td>\n",
       "      <td>1</td>\n",
       "    </tr>\n",
       "    <tr>\n",
       "      <th>3</th>\n",
       "      <td>2640B349E1D81584</td>\n",
       "      <td>956B45F5915CA225</td>\n",
       "      <td>2025-08-15</td>\n",
       "      <td>2025-08-15 15:31:31</td>\n",
       "      <td>2025-08-15</td>\n",
       "      <td>1</td>\n",
       "      <td>0</td>\n",
       "      <td>4</td>\n",
       "      <td>CIS</td>\n",
       "      <td>Android</td>\n",
       "      <td>1</td>\n",
       "    </tr>\n",
       "    <tr>\n",
       "      <th>4</th>\n",
       "      <td>94E1CBFAEF1F5EE9</td>\n",
       "      <td>83BF0DA35F9F1F40</td>\n",
       "      <td>2025-08-15</td>\n",
       "      <td>2025-08-15 21:33:53</td>\n",
       "      <td>2025-08-15</td>\n",
       "      <td>1</td>\n",
       "      <td>0</td>\n",
       "      <td>3</td>\n",
       "      <td>CIS</td>\n",
       "      <td>Android</td>\n",
       "      <td>0</td>\n",
       "    </tr>\n",
       "  </tbody>\n",
       "</table>\n",
       "</div>"
      ],
      "text/plain": [
       "            user_id        session_id session_date     session_start_ts  \\\n",
       "0  E302123B7000BFE4  F9AF61A0C2023832   2025-08-15  2025-08-15 17:47:35   \n",
       "1  2530F72E221829FB  85003A206CBDAC6F   2025-08-15  2025-08-15 16:42:14   \n",
       "2  876E020A4FC512F5  3677423E49D72DEE   2025-08-15  2025-08-15 12:30:00   \n",
       "3  2640B349E1D81584  956B45F5915CA225   2025-08-15  2025-08-15 15:31:31   \n",
       "4  94E1CBFAEF1F5EE9  83BF0DA35F9F1F40   2025-08-15  2025-08-15 21:33:53   \n",
       "\n",
       "  install_date  session_number  registration_flag  page_counter region  \\\n",
       "0   2025-08-15               1                  0             3    CIS   \n",
       "1   2025-08-15               1                  0             4   MENA   \n",
       "2   2025-08-15               1                  0             4     EU   \n",
       "3   2025-08-15               1                  0             4    CIS   \n",
       "4   2025-08-15               1                  0             3    CIS   \n",
       "\n",
       "    device  good_session  \n",
       "0   iPhone             0  \n",
       "1  Android             1  \n",
       "2       PC             1  \n",
       "3  Android             1  \n",
       "4  Android             0  "
      ]
     },
     "execution_count": 15,
     "metadata": {},
     "output_type": "execute_result"
    }
   ],
   "source": [
    "# Добавим в датафрейм sessions_history новое поле good_session с помощью лямбда-функции\n",
    "\n",
    "sessions_history['good_session'] = sessions_history['page_counter'].apply(lambda x: 1 if x >= 4 else 0)\n",
    "sessions_history.head()"
   ]
  },
  {
   "cell_type": "code",
   "execution_count": 16,
   "metadata": {
    "scrolled": false
   },
   "outputs": [
    {
     "data": {
      "text/html": [
       "<div>\n",
       "<style scoped>\n",
       "    .dataframe tbody tr th:only-of-type {\n",
       "        vertical-align: middle;\n",
       "    }\n",
       "\n",
       "    .dataframe tbody tr th {\n",
       "        vertical-align: top;\n",
       "    }\n",
       "\n",
       "    .dataframe thead th {\n",
       "        text-align: right;\n",
       "    }\n",
       "</style>\n",
       "<table border=\"1\" class=\"dataframe\">\n",
       "  <thead>\n",
       "    <tr style=\"text-align: right;\">\n",
       "      <th></th>\n",
       "      <th>session_date</th>\n",
       "      <th>good_session_share</th>\n",
       "    </tr>\n",
       "  </thead>\n",
       "  <tbody>\n",
       "    <tr>\n",
       "      <th>0</th>\n",
       "      <td>2025-08-11</td>\n",
       "      <td>0.312835</td>\n",
       "    </tr>\n",
       "    <tr>\n",
       "      <th>1</th>\n",
       "      <td>2025-08-12</td>\n",
       "      <td>0.302015</td>\n",
       "    </tr>\n",
       "    <tr>\n",
       "      <th>2</th>\n",
       "      <td>2025-08-13</td>\n",
       "      <td>0.306750</td>\n",
       "    </tr>\n",
       "    <tr>\n",
       "      <th>3</th>\n",
       "      <td>2025-08-14</td>\n",
       "      <td>0.316055</td>\n",
       "    </tr>\n",
       "    <tr>\n",
       "      <th>4</th>\n",
       "      <td>2025-08-15</td>\n",
       "      <td>0.304941</td>\n",
       "    </tr>\n",
       "  </tbody>\n",
       "</table>\n",
       "</div>"
      ],
      "text/plain": [
       "  session_date  good_session_share\n",
       "0   2025-08-11            0.312835\n",
       "1   2025-08-12            0.302015\n",
       "2   2025-08-13            0.306750\n",
       "3   2025-08-14            0.316055\n",
       "4   2025-08-15            0.304941"
      ]
     },
     "execution_count": 16,
     "metadata": {},
     "output_type": "execute_result"
    }
   ],
   "source": [
    "# Выведем долю успешных сессий по дням\n",
    "good_ses = sessions_history.groupby('session_date')['good_session'].mean().reset_index()\n",
    "good_ses = good_ses.rename(columns={'good_session': 'good_session_share'})\n",
    "good_ses.head()"
   ]
  },
  {
   "cell_type": "code",
   "execution_count": 17,
   "metadata": {},
   "outputs": [],
   "source": [
    "# Установим поле с датой, как индекс, чтобы корректно отобразить ось Х на графике\n",
    "good_ses = good_ses.set_index('session_date')"
   ]
  },
  {
   "cell_type": "code",
   "execution_count": 18,
   "metadata": {
    "scrolled": true
   },
   "outputs": [
    {
     "data": {
      "image/png": "[encoded data removed]",
      "text/plain": [
       "<Figure size 1080x360 with 1 Axes>"
      ]
     },
     "metadata": {
      "needs_background": "light"
     },
     "output_type": "display_data"
    }
   ],
   "source": [
    "# Создаем график\n",
    "plt.figure(figsize=(15, 5))\n",
    "good_ses['good_session_share'].plot(marker='o', linestyle='-', color='b')\n",
    "\n",
    "# Добавляем заголовки и метки осей\n",
    "plt.title('Доля пользователей, просмотревших более четырёх страниц')\n",
    "plt.xlabel('Дата')\n",
    "plt.ylabel('Доля успешных сессий')\n",
    "plt.xticks(rotation=0)\n",
    "plt.grid(axis='y', alpha=0.5)\n",
    "plt.legend()\n",
    "\n",
    "\n",
    "# Отображаем график\n",
    "plt.show()"
   ]
  },
  {
   "cell_type": "markdown",
   "metadata": {},
   "source": [
    "**Промежуточный вывод**\n",
    "- Доля пользователей, просмотревших более 4-х страниц имеет нестабильную динамику по дням, наибольший размах колебания метрики день ко дню наблюдался во второй половине сентября."
   ]
  },
  {
   "cell_type": "markdown",
   "metadata": {
    "id": "21JcG77Y0eMt"
   },
   "source": [
    "### Подготовка к тесту\n",
    "При планировании теста необходимо проделать несколько важных шагов:\n",
    "\n",
    "- Определиться с целевой метрикой.\n",
    "\n",
    "- Рассчитать необходимый размер выборки.\n",
    "\n",
    "- Исходя из текущих значений трафика, рассчитать необходимую длительность проведения теста."
   ]
  },
  {
   "cell_type": "markdown",
   "metadata": {
    "id": "uzaeln270eMt"
   },
   "source": [
    "#### Расчёт размера выборки\n",
    "\n",
    "- Уровень значимости — 0.05.\n",
    "\n",
    "- Вероятность ошибки второго рода — 0.2.\n",
    "\n",
    "- Мощность теста.\n",
    "\n",
    "- Минимальный детектируемый эффект, или MDE, — 3%. Обратите внимание, что здесь нужно указать десятичную дробь, а не процент.\n",
    "\n",
    "При расчёте размера выборки мы будем использовать метод `solve_power()` из класса `power.NormalIndPower` модуля `statsmodels.stats`.\n"
   ]
  },
  {
   "cell_type": "code",
   "execution_count": 19,
   "metadata": {
    "id": "zSxJyPGPNdaI"
   },
   "outputs": [
    {
     "name": "stdout",
     "output_type": "stream",
     "text": [
      "Необходимый размер выборки для каждой группы: 17441\n"
     ]
    }
   ],
   "source": [
    "# Задаём параметры\n",
    "alpha = 0.05  # Уровень значимости\n",
    "beta = 0.2  # Ошибка второго рода, часто 1 - мощность\n",
    "power = 1 - beta  # Мощность теста\n",
    "mde = 0.03  # Минимальный детектируемый эффект\n",
    "\n",
    "# Инициализируем класс NormalIndPower\n",
    "power_analysis = NormalIndPower()\n",
    "\n",
    "# Рассчитываем размер выборки\n",
    "sample_size = power_analysis.solve_power(\n",
    "    effect_size = mde,\n",
    "    power = power,\n",
    "    alpha = alpha,\n",
    "    ratio = 1 # Равномерное распределение выборок\n",
    ")\n",
    "\n",
    "print(f\"Необходимый размер выборки для каждой группы: {int(sample_size)}\")"
   ]
  },
  {
   "cell_type": "markdown",
   "metadata": {
    "id": "qLEv4RoV0eMu"
   },
   "source": [
    "#### Расчёт длительности A/B-теста\n",
    "\n",
    "Используем данные о количестве пользователей в каждой выборке и среднем количестве пользователей приложения. Рассчитаем длительность теста.\n",
    "\n",
    "- Рассчитаем среднее количество уникальных пользователей приложения в день.\n",
    "\n",
    "- Определим длительность теста, исходя из рассчитанного значения размера выборок и среднего дневного трафика приложения."
   ]
  },
  {
   "cell_type": "code",
   "execution_count": 20,
   "metadata": {
    "scrolled": true
   },
   "outputs": [
    {
     "data": {
      "text/html": [
       "<div>\n",
       "<style scoped>\n",
       "    .dataframe tbody tr th:only-of-type {\n",
       "        vertical-align: middle;\n",
       "    }\n",
       "\n",
       "    .dataframe tbody tr th {\n",
       "        vertical-align: top;\n",
       "    }\n",
       "\n",
       "    .dataframe thead th {\n",
       "        text-align: right;\n",
       "    }\n",
       "</style>\n",
       "<table border=\"1\" class=\"dataframe\">\n",
       "  <thead>\n",
       "    <tr style=\"text-align: right;\">\n",
       "      <th></th>\n",
       "      <th>session_date</th>\n",
       "      <th>user_id</th>\n",
       "    </tr>\n",
       "  </thead>\n",
       "  <tbody>\n",
       "    <tr>\n",
       "      <th>0</th>\n",
       "      <td>2025-08-11</td>\n",
       "      <td>3919</td>\n",
       "    </tr>\n",
       "    <tr>\n",
       "      <th>1</th>\n",
       "      <td>2025-08-12</td>\n",
       "      <td>6056</td>\n",
       "    </tr>\n",
       "    <tr>\n",
       "      <th>2</th>\n",
       "      <td>2025-08-13</td>\n",
       "      <td>8489</td>\n",
       "    </tr>\n",
       "    <tr>\n",
       "      <th>3</th>\n",
       "      <td>2025-08-14</td>\n",
       "      <td>10321</td>\n",
       "    </tr>\n",
       "    <tr>\n",
       "      <th>4</th>\n",
       "      <td>2025-08-15</td>\n",
       "      <td>14065</td>\n",
       "    </tr>\n",
       "  </tbody>\n",
       "</table>\n",
       "</div>"
      ],
      "text/plain": [
       "  session_date  user_id\n",
       "0   2025-08-11     3919\n",
       "1   2025-08-12     6056\n",
       "2   2025-08-13     8489\n",
       "3   2025-08-14    10321\n",
       "4   2025-08-15    14065"
      ]
     },
     "execution_count": 20,
     "metadata": {},
     "output_type": "execute_result"
    }
   ],
   "source": [
    "# Выведем первые 5 строк датафрейма, где хранится общее кол-во уникальных пользователей по дням\n",
    "df_sum_users.head()"
   ]
  },
  {
   "cell_type": "code",
   "execution_count": 21,
   "metadata": {
    "id": "KZDRbryDOGHa"
   },
   "outputs": [
    {
     "name": "stdout",
     "output_type": "stream",
     "text": [
      "Рассчитанная длительность A/B-теста при текущем уровене трафика в 9907 пользователей в день составит 4 дня\n"
     ]
    }
   ],
   "source": [
    "# Среднее количество пользователей приложения в день по историческим данным\n",
    "avg_daily_users = int(df_sum_users['user_id'].mean().round())\n",
    "\n",
    "# Рассчитываем длительность теста в днях как отношение размера выборки к среднему числу пользователей\n",
    "test_duration = ceil(sample_size * 2/avg_daily_users) # Умножаем на 2, так как необходимо учесть две выборки\n",
    "\n",
    "print(f\"Рассчитанная длительность A/B-теста при текущем уровене трафика в {avg_daily_users} пользователей в день составит {test_duration} дня\")"
   ]
  },
  {
   "cell_type": "markdown",
   "metadata": {},
   "source": [
    "**Промежуточный вывод**\n",
    "- На основании проведённых расчётов установлено, что для проведения A/B-теста при текущем уровне трафика в 9907 пользователей в день потребуется всего 4 дня. Это означает, что за такой короткий срок можно будет собрать достаточное количество данных для анализа и определения статистически значимых различий между тестируемыми группами."
   ]
  },
  {
   "cell_type": "markdown",
   "metadata": {
    "id": "ZuvtAdha0eMv"
   },
   "source": [
    "## Мониторинг А/В-теста"
   ]
  },
  {
   "cell_type": "markdown",
   "metadata": {
    "id": "jq5sE3Ya0eMv"
   },
   "source": [
    "### Проверка распределения пользователей\n",
    "\n",
    "A/B-тест был успешно запущен, и уже доступны данные за первые три дня. На этом этапе нужно убедиться, что всё идёт хорошо: пользователи разделены правильным образом, а интересующие нас метрики корректно считаются.\n",
    "\n",
    "- Посчитаем и сохраним в датафрейм `sessions_test_part` CSV-файл с историческими данными о сессиях пользователей `sessions_project_test_part.csv`.\n",
    "\n",
    "- Рассчитаем количество уникальных пользователей в каждой из экспериментальных групп для одного дня наблюдения.\n",
    "\n",
    "- Рассчитаем и выведем на экран процентную разницу в количестве пользователей в группах A и B. Построим визуализацию, на которой будет видно различие двух групп.\n",
    "\n",
    "Для расчёта процентной разницы воспользуемся формулой:\n",
    "$$P = 100 \\cdot  \\frac{|A − B|}{A}$$"
   ]
  },
  {
   "cell_type": "code",
   "execution_count": 22,
   "metadata": {
    "id": "G1bqIzDJOUiz",
    "scrolled": true
   },
   "outputs": [
    {
     "data": {
      "text/html": [
       "<div>\n",
       "<style scoped>\n",
       "    .dataframe tbody tr th:only-of-type {\n",
       "        vertical-align: middle;\n",
       "    }\n",
       "\n",
       "    .dataframe tbody tr th {\n",
       "        vertical-align: top;\n",
       "    }\n",
       "\n",
       "    .dataframe thead th {\n",
       "        text-align: right;\n",
       "    }\n",
       "</style>\n",
       "<table border=\"1\" class=\"dataframe\">\n",
       "  <thead>\n",
       "    <tr style=\"text-align: right;\">\n",
       "      <th></th>\n",
       "      <th>user_id</th>\n",
       "      <th>session_id</th>\n",
       "      <th>session_date</th>\n",
       "      <th>session_start_ts</th>\n",
       "      <th>install_date</th>\n",
       "      <th>session_number</th>\n",
       "      <th>registration_flag</th>\n",
       "      <th>page_counter</th>\n",
       "      <th>region</th>\n",
       "      <th>device</th>\n",
       "      <th>test_group</th>\n",
       "    </tr>\n",
       "  </thead>\n",
       "  <tbody>\n",
       "    <tr>\n",
       "      <th>0</th>\n",
       "      <td>3404844B53442747</td>\n",
       "      <td>B4901323BD537E45</td>\n",
       "      <td>2025-10-14</td>\n",
       "      <td>2025-10-14 19:28:49</td>\n",
       "      <td>2025-10-14</td>\n",
       "      <td>1</td>\n",
       "      <td>0</td>\n",
       "      <td>3</td>\n",
       "      <td>CIS</td>\n",
       "      <td>Android</td>\n",
       "      <td>B</td>\n",
       "    </tr>\n",
       "    <tr>\n",
       "      <th>1</th>\n",
       "      <td>3A2BF4D364E62D89</td>\n",
       "      <td>216FC619308F8788</td>\n",
       "      <td>2025-10-14</td>\n",
       "      <td>2025-10-14 21:11:04</td>\n",
       "      <td>2025-10-14</td>\n",
       "      <td>1</td>\n",
       "      <td>0</td>\n",
       "      <td>3</td>\n",
       "      <td>MENA</td>\n",
       "      <td>iPhone</td>\n",
       "      <td>A</td>\n",
       "    </tr>\n",
       "    <tr>\n",
       "      <th>2</th>\n",
       "      <td>79CDAE11E32B1597</td>\n",
       "      <td>EDFCE4AC1A504074</td>\n",
       "      <td>2025-10-14</td>\n",
       "      <td>2025-10-14 21:44:03</td>\n",
       "      <td>2025-10-14</td>\n",
       "      <td>1</td>\n",
       "      <td>0</td>\n",
       "      <td>3</td>\n",
       "      <td>CIS</td>\n",
       "      <td>iPhone</td>\n",
       "      <td>A</td>\n",
       "    </tr>\n",
       "    <tr>\n",
       "      <th>3</th>\n",
       "      <td>D6AF8D78297A931F</td>\n",
       "      <td>CF0AC0EEDE92C690</td>\n",
       "      <td>2025-10-14</td>\n",
       "      <td>2025-10-14 19:07:55</td>\n",
       "      <td>2025-10-14</td>\n",
       "      <td>1</td>\n",
       "      <td>0</td>\n",
       "      <td>4</td>\n",
       "      <td>CIS</td>\n",
       "      <td>PC</td>\n",
       "      <td>A</td>\n",
       "    </tr>\n",
       "    <tr>\n",
       "      <th>4</th>\n",
       "      <td>37E0CE723AE568E0</td>\n",
       "      <td>2E6ED45E8C86C4E9</td>\n",
       "      <td>2025-10-14</td>\n",
       "      <td>2025-10-14 15:39:44</td>\n",
       "      <td>2025-10-14</td>\n",
       "      <td>1</td>\n",
       "      <td>0</td>\n",
       "      <td>3</td>\n",
       "      <td>CIS</td>\n",
       "      <td>Mac</td>\n",
       "      <td>B</td>\n",
       "    </tr>\n",
       "  </tbody>\n",
       "</table>\n",
       "</div>"
      ],
      "text/plain": [
       "            user_id        session_id session_date     session_start_ts  \\\n",
       "0  3404844B53442747  B4901323BD537E45   2025-10-14  2025-10-14 19:28:49   \n",
       "1  3A2BF4D364E62D89  216FC619308F8788   2025-10-14  2025-10-14 21:11:04   \n",
       "2  79CDAE11E32B1597  EDFCE4AC1A504074   2025-10-14  2025-10-14 21:44:03   \n",
       "3  D6AF8D78297A931F  CF0AC0EEDE92C690   2025-10-14  2025-10-14 19:07:55   \n",
       "4  37E0CE723AE568E0  2E6ED45E8C86C4E9   2025-10-14  2025-10-14 15:39:44   \n",
       "\n",
       "  install_date  session_number  registration_flag  page_counter region  \\\n",
       "0   2025-10-14               1                  0             3    CIS   \n",
       "1   2025-10-14               1                  0             3   MENA   \n",
       "2   2025-10-14               1                  0             3    CIS   \n",
       "3   2025-10-14               1                  0             4    CIS   \n",
       "4   2025-10-14               1                  0             3    CIS   \n",
       "\n",
       "    device test_group  \n",
       "0  Android          B  \n",
       "1   iPhone          A  \n",
       "2   iPhone          A  \n",
       "3       PC          A  \n",
       "4      Mac          B  "
      ]
     },
     "execution_count": 22,
     "metadata": {},
     "output_type": "execute_result"
    }
   ],
   "source": [
    "sessions_test_part = pd.read_csv('/datasets/sessions_project_test_part.csv')\n",
    "sessions_test_part.head()"
   ]
  },
  {
   "cell_type": "code",
   "execution_count": 23,
   "metadata": {},
   "outputs": [
    {
     "name": "stdout",
     "output_type": "stream",
     "text": [
      "Количество уникальных пользователей в группе А: 1477, в группе В: 1466\n"
     ]
    }
   ],
   "source": [
    "# Рассчитаем количество уникальных пользователей в каждой из экспериментальных групп для одного дня наблюдения\n",
    "group_A_users = sessions_test_part[sessions_test_part['test_group'] == 'A']['user_id'].nunique()\n",
    "group_B_users = sessions_test_part[sessions_test_part['test_group'] == 'B']['user_id'].nunique()\n",
    "print (f'Количество уникальных пользователей в группе А: {group_A_users}, в группе В: {group_B_users}')"
   ]
  },
  {
   "cell_type": "code",
   "execution_count": 24,
   "metadata": {},
   "outputs": [
    {
     "data": {
      "text/plain": [
       "0.75"
      ]
     },
     "execution_count": 24,
     "metadata": {},
     "output_type": "execute_result"
    }
   ],
   "source": [
    "# Рассчитаем процентную разницу в количестве пользователей в группах A и B\n",
    "\n",
    "percentage_diff = round(((group_A_users - group_B_users) / group_B_users) * 100.0, 2)\n",
    "percentage_diff"
   ]
  },
  {
   "cell_type": "code",
   "execution_count": 25,
   "metadata": {},
   "outputs": [
    {
     "data": {
      "image/png": "[encoded data removed]",
      "text/plain": [
       "<Figure size 720x360 with 1 Axes>"
      ]
     },
     "metadata": {
      "needs_background": "light"
     },
     "output_type": "display_data"
    }
   ],
   "source": [
    "# Построение столбчатой диаграммы для визуализации разницы\n",
    "plt.figure(figsize=(10, 5))\n",
    "plt.bar(['Группа A', 'Группа B'], [group_A_users, group_B_users], color=['blue', 'green'])\n",
    "plt.title('Количество уникальных пользователей в группах A и B')\n",
    "plt.xlabel('Группа')\n",
    "plt.ylabel('Количество уникальных пользователей')\n",
    "plt.grid(axis='y', alpha=0.5)\n",
    "plt.show()"
   ]
  },
  {
   "cell_type": "markdown",
   "metadata": {},
   "source": [
    "**Промежуточный вывод**\n",
    "- Процентная разница в количестве пользователей между группами A и B составляет 0,75%, что означает, что количество пользователей в одной из групп на 0,75% больше или меньше, чем в другой группе. В контексте эксперимента это может указывать на небольшое различие в количестве уникальных пользователей между группами. Если разница небольшая, как в данном случае, это может свидетельствовать о том, что влияние тестируемого фактора на количество пользователей минимально или что различия в выборках незначительны."
   ]
  },
  {
   "cell_type": "markdown",
   "metadata": {
    "id": "sgpNY5bv0eM0"
   },
   "source": [
    "### Проверка пересечений пользователей\n",
    "Необходимо убедиться, что никто из пользователей случайно не попал в обе группы теста одновременно.\n",
    "\n",
    "- Рассчитайте количество пользователей, которые встречаются одновременно в группах A и B, или убедитесь, что таких нет."
   ]
  },
  {
   "cell_type": "code",
   "execution_count": 26,
   "metadata": {
    "id": "E72ozN9FOX1u"
   },
   "outputs": [
    {
     "name": "stdout",
     "output_type": "stream",
     "text": [
      "Количество пользователей, которые встречаются одновременно в группах A и B: 0\n"
     ]
    }
   ],
   "source": [
    "# Получаем уникальные идентификаторы пользователей для каждой группы\n",
    "set_A_users = set(sessions_test_part[sessions_test_part['test_group'] == 'A']['user_id'].unique())\n",
    "set_B_users = set(sessions_test_part[sessions_test_part['test_group'] == 'B']['user_id'].unique())\n",
    "\n",
    "# Находим пересечение двух наборов пользователей через intersection\n",
    "common_users = set_A_users.intersection(set_B_users)\n",
    "# Выводим количество общих пользователей\n",
    "print(f\"Количество пользователей, которые встречаются одновременно в группах A и B: {len(common_users)}\")"
   ]
  },
  {
   "cell_type": "code",
   "execution_count": 27,
   "metadata": {},
   "outputs": [
    {
     "data": {
      "text/html": [
       "<div>\n",
       "<style scoped>\n",
       "    .dataframe tbody tr th:only-of-type {\n",
       "        vertical-align: middle;\n",
       "    }\n",
       "\n",
       "    .dataframe tbody tr th {\n",
       "        vertical-align: top;\n",
       "    }\n",
       "\n",
       "    .dataframe thead th {\n",
       "        text-align: right;\n",
       "    }\n",
       "</style>\n",
       "<table border=\"1\" class=\"dataframe\">\n",
       "  <thead>\n",
       "    <tr style=\"text-align: right;\">\n",
       "      <th></th>\n",
       "      <th>user_id</th>\n",
       "      <th>test_group</th>\n",
       "    </tr>\n",
       "  </thead>\n",
       "  <tbody>\n",
       "  </tbody>\n",
       "</table>\n",
       "</div>"
      ],
      "text/plain": [
       "Empty DataFrame\n",
       "Columns: [user_id, test_group]\n",
       "Index: []"
      ]
     },
     "execution_count": 27,
     "metadata": {},
     "output_type": "execute_result"
    }
   ],
   "source": [
    "# Проверил новый метод\n",
    "sessions_test_part.groupby('user_id').agg({'test_group': 'nunique'}).query('test_group > 1').reset_index()"
   ]
  },
  {
   "cell_type": "markdown",
   "metadata": {},
   "source": [
    "Убедились, что пересечений пользователей в группах А и В нет."
   ]
  },
  {
   "cell_type": "markdown",
   "metadata": {
    "id": "6RvkNLrg0eM1"
   },
   "source": [
    "### Равномерность разделения пользователей по устройствам\n",
    "Убедимся в том, что пользователи равномерно распределены по всем доступным категориальным переменным — типам устройства и регионам.\n",
    "\n",
    "Построим две диаграммы:\n",
    "\n",
    "- доля каждого типа устройства для пользователей из группы A,\n",
    "\n",
    "- доля каждого типа устройства для пользователей из группы B."
   ]
  },
  {
   "cell_type": "code",
   "execution_count": 28,
   "metadata": {},
   "outputs": [
    {
     "data": {
      "text/html": [
       "<div>\n",
       "<style scoped>\n",
       "    .dataframe tbody tr th:only-of-type {\n",
       "        vertical-align: middle;\n",
       "    }\n",
       "\n",
       "    .dataframe tbody tr th {\n",
       "        vertical-align: top;\n",
       "    }\n",
       "\n",
       "    .dataframe thead th {\n",
       "        text-align: right;\n",
       "    }\n",
       "</style>\n",
       "<table border=\"1\" class=\"dataframe\">\n",
       "  <thead>\n",
       "    <tr style=\"text-align: right;\">\n",
       "      <th></th>\n",
       "      <th>test_group</th>\n",
       "      <th>device</th>\n",
       "      <th>user_id</th>\n",
       "    </tr>\n",
       "  </thead>\n",
       "  <tbody>\n",
       "    <tr>\n",
       "      <th>0</th>\n",
       "      <td>A</td>\n",
       "      <td>Android</td>\n",
       "      <td>656</td>\n",
       "    </tr>\n",
       "    <tr>\n",
       "      <th>1</th>\n",
       "      <td>A</td>\n",
       "      <td>Mac</td>\n",
       "      <td>156</td>\n",
       "    </tr>\n",
       "    <tr>\n",
       "      <th>2</th>\n",
       "      <td>A</td>\n",
       "      <td>PC</td>\n",
       "      <td>369</td>\n",
       "    </tr>\n",
       "    <tr>\n",
       "      <th>3</th>\n",
       "      <td>A</td>\n",
       "      <td>iPhone</td>\n",
       "      <td>296</td>\n",
       "    </tr>\n",
       "    <tr>\n",
       "      <th>4</th>\n",
       "      <td>B</td>\n",
       "      <td>Android</td>\n",
       "      <td>668</td>\n",
       "    </tr>\n",
       "    <tr>\n",
       "      <th>5</th>\n",
       "      <td>B</td>\n",
       "      <td>Mac</td>\n",
       "      <td>148</td>\n",
       "    </tr>\n",
       "    <tr>\n",
       "      <th>6</th>\n",
       "      <td>B</td>\n",
       "      <td>PC</td>\n",
       "      <td>381</td>\n",
       "    </tr>\n",
       "    <tr>\n",
       "      <th>7</th>\n",
       "      <td>B</td>\n",
       "      <td>iPhone</td>\n",
       "      <td>269</td>\n",
       "    </tr>\n",
       "  </tbody>\n",
       "</table>\n",
       "</div>"
      ],
      "text/plain": [
       "  test_group   device  user_id\n",
       "0          A  Android      656\n",
       "1          A      Mac      156\n",
       "2          A       PC      369\n",
       "3          A   iPhone      296\n",
       "4          B  Android      668\n",
       "5          B      Mac      148\n",
       "6          B       PC      381\n",
       "7          B   iPhone      269"
      ]
     },
     "execution_count": 28,
     "metadata": {},
     "output_type": "execute_result"
    }
   ],
   "source": [
    "# Сгруппируем данные таблицы по тестовой группе и устройствам, посчитаем кол-во пользователей\n",
    "df_device = sessions_test_part.groupby(['test_group', 'device'])['user_id'].nunique().reset_index()\n",
    "df_device"
   ]
  },
  {
   "cell_type": "code",
   "execution_count": 29,
   "metadata": {
    "scrolled": true
   },
   "outputs": [
    {
     "data": {
      "text/html": [
       "<div>\n",
       "<style scoped>\n",
       "    .dataframe tbody tr th:only-of-type {\n",
       "        vertical-align: middle;\n",
       "    }\n",
       "\n",
       "    .dataframe tbody tr th {\n",
       "        vertical-align: top;\n",
       "    }\n",
       "\n",
       "    .dataframe thead th {\n",
       "        text-align: right;\n",
       "    }\n",
       "</style>\n",
       "<table border=\"1\" class=\"dataframe\">\n",
       "  <thead>\n",
       "    <tr style=\"text-align: right;\">\n",
       "      <th></th>\n",
       "      <th>device</th>\n",
       "      <th>device_share</th>\n",
       "    </tr>\n",
       "  </thead>\n",
       "  <tbody>\n",
       "    <tr>\n",
       "      <th>0</th>\n",
       "      <td>Android</td>\n",
       "      <td>44.41</td>\n",
       "    </tr>\n",
       "    <tr>\n",
       "      <th>1</th>\n",
       "      <td>Mac</td>\n",
       "      <td>10.56</td>\n",
       "    </tr>\n",
       "    <tr>\n",
       "      <th>2</th>\n",
       "      <td>PC</td>\n",
       "      <td>24.98</td>\n",
       "    </tr>\n",
       "    <tr>\n",
       "      <th>3</th>\n",
       "      <td>iPhone</td>\n",
       "      <td>20.04</td>\n",
       "    </tr>\n",
       "  </tbody>\n",
       "</table>\n",
       "</div>"
      ],
      "text/plain": [
       "    device  device_share\n",
       "0  Android         44.41\n",
       "1      Mac         10.56\n",
       "2       PC         24.98\n",
       "3   iPhone         20.04"
      ]
     },
     "execution_count": 29,
     "metadata": {},
     "output_type": "execute_result"
    }
   ],
   "source": [
    "# Рассчитываем количество и долю пользователей по группе А в разбивке по устройствам\n",
    "\n",
    "df_device_A = df_device[df_device['test_group'] == 'A'][['device', 'user_id']]\n",
    "df_device_A['device_share'] = round(df_device_A['user_id'] / df_device_A['user_id'].sum() * 100, 2)\n",
    "\n",
    "# Выведем данные только по типу устройства и доле пользователей и сохраним в отдельный датафрейм\n",
    "df_device_A_share = df_device_A[['device', 'device_share']]\n",
    "df_device_A_share"
   ]
  },
  {
   "cell_type": "code",
   "execution_count": 30,
   "metadata": {
    "scrolled": true
   },
   "outputs": [
    {
     "data": {
      "text/plain": [
       "<Figure size 720x360 with 0 Axes>"
      ]
     },
     "metadata": {},
     "output_type": "display_data"
    },
    {
     "data": {
      "image/png": "[encoded data removed]",
      "text/plain": [
       "<Figure size 432x288 with 1 Axes>"
      ]
     },
     "metadata": {
      "needs_background": "light"
     },
     "output_type": "display_data"
    }
   ],
   "source": [
    "# Построение диаграммы для группы A по девайсам\n",
    "\n",
    "x = df_device_A_share['device']\n",
    "y = df_device_A_share['device_share']\n",
    "\n",
    "plt.figure(figsize=(10, 5))\n",
    "ax = df_device_A_share.plot(kind='bar', color='blue', legend=False)\n",
    "\n",
    "# Добавляем заголовки и метки осей\n",
    "plt.title('Доля пользователей по типам устройств для группы A')\n",
    "plt.xlabel('Тип устройства')\n",
    "plt.ylabel('Доля пользователей ')\n",
    "plt.grid(axis='y', alpha=0.5)\n",
    "plt.xticks(rotation=0)\n",
    "\n",
    "# Устанавливаем метки для оси X\n",
    "plt.xticks(range(len(df_device_A_share)), df_device_A_share['device'], rotation=0)\n",
    "\n",
    "# Добавляем подписи на столбцах\n",
    "for i, v in enumerate(df_device_A_share['device_share']):\n",
    "    ax.text(i, v + 1, f'{v:.1f}%', ha='center', va='bottom', fontsize=10)\n",
    "\n",
    "# Отображаем диаграмму\n",
    "plt.show()"
   ]
  },
  {
   "cell_type": "code",
   "execution_count": 31,
   "metadata": {
    "scrolled": true
   },
   "outputs": [
    {
     "data": {
      "text/html": [
       "<div>\n",
       "<style scoped>\n",
       "    .dataframe tbody tr th:only-of-type {\n",
       "        vertical-align: middle;\n",
       "    }\n",
       "\n",
       "    .dataframe tbody tr th {\n",
       "        vertical-align: top;\n",
       "    }\n",
       "\n",
       "    .dataframe thead th {\n",
       "        text-align: right;\n",
       "    }\n",
       "</style>\n",
       "<table border=\"1\" class=\"dataframe\">\n",
       "  <thead>\n",
       "    <tr style=\"text-align: right;\">\n",
       "      <th></th>\n",
       "      <th>device</th>\n",
       "      <th>device_share</th>\n",
       "    </tr>\n",
       "  </thead>\n",
       "  <tbody>\n",
       "    <tr>\n",
       "      <th>4</th>\n",
       "      <td>Android</td>\n",
       "      <td>45.57</td>\n",
       "    </tr>\n",
       "    <tr>\n",
       "      <th>5</th>\n",
       "      <td>Mac</td>\n",
       "      <td>10.10</td>\n",
       "    </tr>\n",
       "    <tr>\n",
       "      <th>6</th>\n",
       "      <td>PC</td>\n",
       "      <td>25.99</td>\n",
       "    </tr>\n",
       "    <tr>\n",
       "      <th>7</th>\n",
       "      <td>iPhone</td>\n",
       "      <td>18.35</td>\n",
       "    </tr>\n",
       "  </tbody>\n",
       "</table>\n",
       "</div>"
      ],
      "text/plain": [
       "    device  device_share\n",
       "4  Android         45.57\n",
       "5      Mac         10.10\n",
       "6       PC         25.99\n",
       "7   iPhone         18.35"
      ]
     },
     "execution_count": 31,
     "metadata": {},
     "output_type": "execute_result"
    }
   ],
   "source": [
    "# Рассчитываем количество и долю пользователей по группе B в разбивке по устройствам\n",
    "df_device_B = df_device[df_device['test_group'] == 'B'][['device', 'user_id']]\n",
    "df_device_B['device_share'] = round(df_device_B['user_id'] / df_device_B['user_id'].sum() * 100, 2)\n",
    "\n",
    "# Выведем данные только по типу устройства и доле пользователей и сохраним в отдельный датафрейм\n",
    "df_device_B_share = df_device_B[['device', 'device_share']]\n",
    "df_device_B_share"
   ]
  },
  {
   "cell_type": "code",
   "execution_count": 32,
   "metadata": {
    "scrolled": true
   },
   "outputs": [
    {
     "data": {
      "text/plain": [
       "<Figure size 720x360 with 0 Axes>"
      ]
     },
     "metadata": {},
     "output_type": "display_data"
    },
    {
     "data": {
      "image/png": "[encoded data removed]",
      "text/plain": [
       "<Figure size 432x288 with 1 Axes>"
      ]
     },
     "metadata": {
      "needs_background": "light"
     },
     "output_type": "display_data"
    }
   ],
   "source": [
    "# Построение диаграммы для группы В по девайсам\n",
    "\n",
    "x = df_device_B_share['device']\n",
    "y = df_device_B_share['device_share']\n",
    "\n",
    "plt.figure(figsize=(10, 5))\n",
    "ax = df_device_B_share.plot(kind='bar', color='blue', legend=False)\n",
    "\n",
    "# Добавляем заголовки и метки осей\n",
    "plt.title('Доля пользователей по типам устройств для группы В')\n",
    "plt.xlabel('Тип устройства')\n",
    "plt.ylabel('Доля пользователей ')\n",
    "plt.grid(axis='y', alpha=0.5)\n",
    "plt.xticks(rotation=0)\n",
    "\n",
    "# Устанавливаем метки для оси X\n",
    "plt.xticks(range(len(df_device_B_share)), df_device_B_share['device'], rotation=0)\n",
    "\n",
    "# Добавляем подписи на столбцах\n",
    "for i, v in enumerate(df_device_B_share['device_share']):\n",
    "    ax.text(i, v + 1, f'{v:.1f}%', ha='center', va='bottom', fontsize=10)\n",
    "\n",
    "# Отображаем диаграмму\n",
    "plt.show()"
   ]
  },
  {
   "cell_type": "markdown",
   "metadata": {
    "id": "gAgmP6vo0eM1"
   },
   "source": [
    "### Равномерность распределения пользователей по регионам\n",
    "Убедимся, что пользователи равномерно распределены по регионам.\n",
    "\n",
    "Построим две диаграммы:\n",
    "\n",
    "- доля каждого региона для пользователей из группы A,\n",
    "\n",
    "- доля каждого региона для пользователей из группы B."
   ]
  },
  {
   "cell_type": "code",
   "execution_count": 33,
   "metadata": {},
   "outputs": [
    {
     "data": {
      "text/html": [
       "<div>\n",
       "<style scoped>\n",
       "    .dataframe tbody tr th:only-of-type {\n",
       "        vertical-align: middle;\n",
       "    }\n",
       "\n",
       "    .dataframe tbody tr th {\n",
       "        vertical-align: top;\n",
       "    }\n",
       "\n",
       "    .dataframe thead th {\n",
       "        text-align: right;\n",
       "    }\n",
       "</style>\n",
       "<table border=\"1\" class=\"dataframe\">\n",
       "  <thead>\n",
       "    <tr style=\"text-align: right;\">\n",
       "      <th></th>\n",
       "      <th>user_id</th>\n",
       "      <th>session_id</th>\n",
       "      <th>session_date</th>\n",
       "      <th>session_start_ts</th>\n",
       "      <th>install_date</th>\n",
       "      <th>session_number</th>\n",
       "      <th>registration_flag</th>\n",
       "      <th>page_counter</th>\n",
       "      <th>region</th>\n",
       "      <th>device</th>\n",
       "      <th>test_group</th>\n",
       "    </tr>\n",
       "  </thead>\n",
       "  <tbody>\n",
       "    <tr>\n",
       "      <th>0</th>\n",
       "      <td>3404844B53442747</td>\n",
       "      <td>B4901323BD537E45</td>\n",
       "      <td>2025-10-14</td>\n",
       "      <td>2025-10-14 19:28:49</td>\n",
       "      <td>2025-10-14</td>\n",
       "      <td>1</td>\n",
       "      <td>0</td>\n",
       "      <td>3</td>\n",
       "      <td>CIS</td>\n",
       "      <td>Android</td>\n",
       "      <td>B</td>\n",
       "    </tr>\n",
       "    <tr>\n",
       "      <th>1</th>\n",
       "      <td>3A2BF4D364E62D89</td>\n",
       "      <td>216FC619308F8788</td>\n",
       "      <td>2025-10-14</td>\n",
       "      <td>2025-10-14 21:11:04</td>\n",
       "      <td>2025-10-14</td>\n",
       "      <td>1</td>\n",
       "      <td>0</td>\n",
       "      <td>3</td>\n",
       "      <td>MENA</td>\n",
       "      <td>iPhone</td>\n",
       "      <td>A</td>\n",
       "    </tr>\n",
       "    <tr>\n",
       "      <th>2</th>\n",
       "      <td>79CDAE11E32B1597</td>\n",
       "      <td>EDFCE4AC1A504074</td>\n",
       "      <td>2025-10-14</td>\n",
       "      <td>2025-10-14 21:44:03</td>\n",
       "      <td>2025-10-14</td>\n",
       "      <td>1</td>\n",
       "      <td>0</td>\n",
       "      <td>3</td>\n",
       "      <td>CIS</td>\n",
       "      <td>iPhone</td>\n",
       "      <td>A</td>\n",
       "    </tr>\n",
       "    <tr>\n",
       "      <th>3</th>\n",
       "      <td>D6AF8D78297A931F</td>\n",
       "      <td>CF0AC0EEDE92C690</td>\n",
       "      <td>2025-10-14</td>\n",
       "      <td>2025-10-14 19:07:55</td>\n",
       "      <td>2025-10-14</td>\n",
       "      <td>1</td>\n",
       "      <td>0</td>\n",
       "      <td>4</td>\n",
       "      <td>CIS</td>\n",
       "      <td>PC</td>\n",
       "      <td>A</td>\n",
       "    </tr>\n",
       "    <tr>\n",
       "      <th>4</th>\n",
       "      <td>37E0CE723AE568E0</td>\n",
       "      <td>2E6ED45E8C86C4E9</td>\n",
       "      <td>2025-10-14</td>\n",
       "      <td>2025-10-14 15:39:44</td>\n",
       "      <td>2025-10-14</td>\n",
       "      <td>1</td>\n",
       "      <td>0</td>\n",
       "      <td>3</td>\n",
       "      <td>CIS</td>\n",
       "      <td>Mac</td>\n",
       "      <td>B</td>\n",
       "    </tr>\n",
       "  </tbody>\n",
       "</table>\n",
       "</div>"
      ],
      "text/plain": [
       "            user_id        session_id session_date     session_start_ts  \\\n",
       "0  3404844B53442747  B4901323BD537E45   2025-10-14  2025-10-14 19:28:49   \n",
       "1  3A2BF4D364E62D89  216FC619308F8788   2025-10-14  2025-10-14 21:11:04   \n",
       "2  79CDAE11E32B1597  EDFCE4AC1A504074   2025-10-14  2025-10-14 21:44:03   \n",
       "3  D6AF8D78297A931F  CF0AC0EEDE92C690   2025-10-14  2025-10-14 19:07:55   \n",
       "4  37E0CE723AE568E0  2E6ED45E8C86C4E9   2025-10-14  2025-10-14 15:39:44   \n",
       "\n",
       "  install_date  session_number  registration_flag  page_counter region  \\\n",
       "0   2025-10-14               1                  0             3    CIS   \n",
       "1   2025-10-14               1                  0             3   MENA   \n",
       "2   2025-10-14               1                  0             3    CIS   \n",
       "3   2025-10-14               1                  0             4    CIS   \n",
       "4   2025-10-14               1                  0             3    CIS   \n",
       "\n",
       "    device test_group  \n",
       "0  Android          B  \n",
       "1   iPhone          A  \n",
       "2   iPhone          A  \n",
       "3       PC          A  \n",
       "4      Mac          B  "
      ]
     },
     "execution_count": 33,
     "metadata": {},
     "output_type": "execute_result"
    }
   ],
   "source": [
    "# Выведем еще раз первые 5 строк датафрейма с результатами теста\n",
    "sessions_test_part.head()"
   ]
  },
  {
   "cell_type": "code",
   "execution_count": 34,
   "metadata": {},
   "outputs": [
    {
     "data": {
      "text/plain": [
       "array(['CIS', 'MENA', 'EU'], dtype=object)"
      ]
     },
     "execution_count": 34,
     "metadata": {},
     "output_type": "execute_result"
    }
   ],
   "source": [
    "# Выведем уникальные значения регионов\n",
    "sessions_test_part['region'].unique()"
   ]
  },
  {
   "cell_type": "code",
   "execution_count": 35,
   "metadata": {},
   "outputs": [
    {
     "data": {
      "text/html": [
       "<div>\n",
       "<style scoped>\n",
       "    .dataframe tbody tr th:only-of-type {\n",
       "        vertical-align: middle;\n",
       "    }\n",
       "\n",
       "    .dataframe tbody tr th {\n",
       "        vertical-align: top;\n",
       "    }\n",
       "\n",
       "    .dataframe thead th {\n",
       "        text-align: right;\n",
       "    }\n",
       "</style>\n",
       "<table border=\"1\" class=\"dataframe\">\n",
       "  <thead>\n",
       "    <tr style=\"text-align: right;\">\n",
       "      <th></th>\n",
       "      <th>test_group</th>\n",
       "      <th>region</th>\n",
       "      <th>user_id</th>\n",
       "    </tr>\n",
       "  </thead>\n",
       "  <tbody>\n",
       "    <tr>\n",
       "      <th>0</th>\n",
       "      <td>A</td>\n",
       "      <td>CIS</td>\n",
       "      <td>644</td>\n",
       "    </tr>\n",
       "    <tr>\n",
       "      <th>1</th>\n",
       "      <td>A</td>\n",
       "      <td>EU</td>\n",
       "      <td>224</td>\n",
       "    </tr>\n",
       "    <tr>\n",
       "      <th>2</th>\n",
       "      <td>A</td>\n",
       "      <td>MENA</td>\n",
       "      <td>609</td>\n",
       "    </tr>\n",
       "    <tr>\n",
       "      <th>3</th>\n",
       "      <td>B</td>\n",
       "      <td>CIS</td>\n",
       "      <td>645</td>\n",
       "    </tr>\n",
       "    <tr>\n",
       "      <th>4</th>\n",
       "      <td>B</td>\n",
       "      <td>EU</td>\n",
       "      <td>217</td>\n",
       "    </tr>\n",
       "    <tr>\n",
       "      <th>5</th>\n",
       "      <td>B</td>\n",
       "      <td>MENA</td>\n",
       "      <td>604</td>\n",
       "    </tr>\n",
       "  </tbody>\n",
       "</table>\n",
       "</div>"
      ],
      "text/plain": [
       "  test_group region  user_id\n",
       "0          A    CIS      644\n",
       "1          A     EU      224\n",
       "2          A   MENA      609\n",
       "3          B    CIS      645\n",
       "4          B     EU      217\n",
       "5          B   MENA      604"
      ]
     },
     "execution_count": 35,
     "metadata": {},
     "output_type": "execute_result"
    }
   ],
   "source": [
    "# Сгруппируем данные таблицы по тестовой группе и регионам, посчитаем кол-во пользователей\n",
    "df_region = sessions_test_part.groupby(['test_group', 'region'])['user_id'].nunique().reset_index()\n",
    "df_region"
   ]
  },
  {
   "cell_type": "code",
   "execution_count": 37,
   "metadata": {},
   "outputs": [
    {
     "data": {
      "text/html": [
       "<div>\n",
       "<style scoped>\n",
       "    .dataframe tbody tr th:only-of-type {\n",
       "        vertical-align: middle;\n",
       "    }\n",
       "\n",
       "    .dataframe tbody tr th {\n",
       "        vertical-align: top;\n",
       "    }\n",
       "\n",
       "    .dataframe thead th {\n",
       "        text-align: right;\n",
       "    }\n",
       "</style>\n",
       "<table border=\"1\" class=\"dataframe\">\n",
       "  <thead>\n",
       "    <tr style=\"text-align: right;\">\n",
       "      <th></th>\n",
       "      <th>region</th>\n",
       "      <th>region_share</th>\n",
       "    </tr>\n",
       "  </thead>\n",
       "  <tbody>\n",
       "    <tr>\n",
       "      <th>0</th>\n",
       "      <td>CIS</td>\n",
       "      <td>43.60</td>\n",
       "    </tr>\n",
       "    <tr>\n",
       "      <th>1</th>\n",
       "      <td>EU</td>\n",
       "      <td>15.17</td>\n",
       "    </tr>\n",
       "    <tr>\n",
       "      <th>2</th>\n",
       "      <td>MENA</td>\n",
       "      <td>41.23</td>\n",
       "    </tr>\n",
       "  </tbody>\n",
       "</table>\n",
       "</div>"
      ],
      "text/plain": [
       "  region  region_share\n",
       "0    CIS         43.60\n",
       "1     EU         15.17\n",
       "2   MENA         41.23"
      ]
     },
     "execution_count": 37,
     "metadata": {},
     "output_type": "execute_result"
    }
   ],
   "source": [
    "# Рассчитываем количество и долю пользователей по группе А в разбивке по регионам\n",
    "\n",
    "df_region_A = df_region[df_region['test_group'] == 'A'][['region', 'user_id']]\n",
    "df_region_A['region_share'] = round(df_region_A['user_id'] / df_region_A['user_id'].sum() * 100, 2)\n",
    "df_region_A\n",
    "\n",
    "# Выведем данные только по типу устройства и доле пользователей и сохраним в отдельный датафрейм\n",
    "df_region_A_share = df_region_A[['region', 'region_share']]\n",
    "df_region_A_share"
   ]
  },
  {
   "cell_type": "code",
   "execution_count": 38,
   "metadata": {},
   "outputs": [
    {
     "data": {
      "image/png": "[encoded data removed]",
      "text/plain": [
       "<Figure size 720x720 with 1 Axes>"
      ]
     },
     "metadata": {},
     "output_type": "display_data"
    }
   ],
   "source": [
    "# Построение круговой диаграммы для группы A по регионам\n",
    "x = df_region_A_share['region']\n",
    "y = df_region_A_share['region_share']\n",
    "\n",
    "plt.figure(figsize=(10, 10))\n",
    "\n",
    "# Строим круговую диаграмму\n",
    "plt.pie(y, labels=x, autopct='%.1f%%', startangle=140, colors=['#E6E6FA', '#7B68EE', '#00FFFF']) \n",
    "\n",
    "# Добавляем заголовок\n",
    "plt.title('Доля пользователей по регионам для группы A')\n",
    "\n",
    "# Отображаем диаграмму\n",
    "plt.show()\n"
   ]
  },
  {
   "cell_type": "code",
   "execution_count": 38,
   "metadata": {},
   "outputs": [
    {
     "data": {
      "text/html": [
       "<div>\n",
       "<style scoped>\n",
       "    .dataframe tbody tr th:only-of-type {\n",
       "        vertical-align: middle;\n",
       "    }\n",
       "\n",
       "    .dataframe tbody tr th {\n",
       "        vertical-align: top;\n",
       "    }\n",
       "\n",
       "    .dataframe thead th {\n",
       "        text-align: right;\n",
       "    }\n",
       "</style>\n",
       "<table border=\"1\" class=\"dataframe\">\n",
       "  <thead>\n",
       "    <tr style=\"text-align: right;\">\n",
       "      <th></th>\n",
       "      <th>region</th>\n",
       "      <th>region_share</th>\n",
       "    </tr>\n",
       "  </thead>\n",
       "  <tbody>\n",
       "    <tr>\n",
       "      <th>3</th>\n",
       "      <td>CIS</td>\n",
       "      <td>44.0</td>\n",
       "    </tr>\n",
       "    <tr>\n",
       "      <th>4</th>\n",
       "      <td>EU</td>\n",
       "      <td>14.8</td>\n",
       "    </tr>\n",
       "    <tr>\n",
       "      <th>5</th>\n",
       "      <td>MENA</td>\n",
       "      <td>41.2</td>\n",
       "    </tr>\n",
       "  </tbody>\n",
       "</table>\n",
       "</div>"
      ],
      "text/plain": [
       "  region  region_share\n",
       "3    CIS          44.0\n",
       "4     EU          14.8\n",
       "5   MENA          41.2"
      ]
     },
     "execution_count": 38,
     "metadata": {},
     "output_type": "execute_result"
    }
   ],
   "source": [
    "# Рассчитываем количество и долю пользователей по группе B в разбивке по регионам\n",
    "\n",
    "df_region_B = df_region[df_region['test_group'] == 'B'][['region', 'user_id']]\n",
    "df_region_B['region_share'] = round(df_region_B['user_id'] / df_region_B['user_id'].sum() * 100, 2)\n",
    "df_region_B\n",
    "\n",
    "# Выведем данные только по типу устройства и доле пользователей и сохраним в отдельный датафрейм\n",
    "df_region_B_share = df_region_B[['region', 'region_share']]\n",
    "df_region_B_share"
   ]
  },
  {
   "cell_type": "code",
   "execution_count": 39,
   "metadata": {},
   "outputs": [
    {
     "data": {
      "image/png": "[encoded data removed]",
      "text/plain": [
       "<Figure size 720x720 with 1 Axes>"
      ]
     },
     "metadata": {},
     "output_type": "display_data"
    }
   ],
   "source": [
    "# Построение круговой диаграммы для группы B по регионам\n",
    "\n",
    "x = df_region_B_share['region']\n",
    "y = df_region_B_share['region_share']\n",
    "\n",
    "plt.figure(figsize=(10, 10))\n",
    "\n",
    "# Строим круговую диаграмму\n",
    "plt.pie(y, labels=x, autopct='%.1f%%', startangle=140, colors=['#E6E6FA', '#7B68EE', '#00FFFF']) \n",
    "\n",
    "# Добавляем заголовок\n",
    "plt.title('Доля пользователей по регионам для группы B')\n",
    "\n",
    "# Отображаем диаграмму\n",
    "plt.show()\n"
   ]
  },
  {
   "cell_type": "markdown",
   "metadata": {},
   "source": [
    "**Промежуточный вывод:**\n",
    "\n",
    "- В обоих тестовых группах пользователи, в разбивке по устройстам, кол-во пользвателей больше преобладает у типа 'Android' занимая долю пользователей в группе А - 44,4%, в группе В - 45,5%, на втором месте 'PC', доля пользователей в группе А - 24,9%, в группе В - 25,9%, на третьем месте месте 'IPhone', доля пользователей в группе А - 20,0%, в группе В - 18,3%, на четвертом месте 'Mac', доля пользователей в группе А - 10,5%, в группе В - 10,1%.  Общая тенденция распределения по устройствам идентична, существенных изменений в метрике не выявлено, различия составляют менее 2 п.п., что можно считать незначительным.\n",
    "- В обоих тестовых группах пользователи, в разбивке по регионам, кол-во пользвателей больше преобладает в регионе 'MENA' занимая долю пользователей в группе А - 41,2%, в группе В - 41,2%, на втором месте 'CIS', доля пользователей в группе А - 43,6%, в группе В - 44,0%, на третьем месте месте 'EU', доля пользователей в группе А - 15,2%, в группе В - 14,8%. Общая тенденция распределения не нарушена, существенных изменений в метрике также не выявлено, различия составляют менее 1 п.п., что можно считать незначительным.\n",
    "- Выборки являются независимыми, так как пользователей, которые встречаются одновременно в группах A и В не обнаружено.\n",
    "- А/В тест проходит корректно, требуется больше времени, чтобы судить о его успешности."
   ]
  },
  {
   "cell_type": "markdown",
   "metadata": {
    "id": "nudRr_BQ0eM2"
   },
   "source": [
    "## Проверка результатов A/B-теста\n",
    "\n",
    "A/B-тест завершён, и у нас есть результаты за все дни проведения эксперимента. Необходимо убедиться в корректности провденного теста и интерпретировать результаты."
   ]
  },
  {
   "cell_type": "markdown",
   "metadata": {
    "id": "JVve-YBB0eM2"
   },
   "source": [
    "### Получение результатов теста и подсчёт основной метрики\n",
    "\n",
    "- Посчитаем и сохраним в датафрейм `sessions_test` CSV-файл с историческими данными о сессиях пользователей `sessions_project_test.csv`.\n",
    "\n",
    "- В датафрейме `sessions_test` создадим дополнительный столбец `good_session`. В него войдёт значение `1`, если за одну сессию было просмотрено 4 и более страниц, и значение `0`, если просмотрено меньше."
   ]
  },
  {
   "cell_type": "code",
   "execution_count": 40,
   "metadata": {
    "id": "EqRlwMtKPTir"
   },
   "outputs": [],
   "source": [
    "sessions_test = pd.read_csv('/datasets/sessions_project_test.csv')"
   ]
  },
  {
   "cell_type": "code",
   "execution_count": 41,
   "metadata": {},
   "outputs": [
    {
     "data": {
      "text/html": [
       "<div>\n",
       "<style scoped>\n",
       "    .dataframe tbody tr th:only-of-type {\n",
       "        vertical-align: middle;\n",
       "    }\n",
       "\n",
       "    .dataframe tbody tr th {\n",
       "        vertical-align: top;\n",
       "    }\n",
       "\n",
       "    .dataframe thead th {\n",
       "        text-align: right;\n",
       "    }\n",
       "</style>\n",
       "<table border=\"1\" class=\"dataframe\">\n",
       "  <thead>\n",
       "    <tr style=\"text-align: right;\">\n",
       "      <th></th>\n",
       "      <th>user_id</th>\n",
       "      <th>session_id</th>\n",
       "      <th>session_date</th>\n",
       "      <th>session_start_ts</th>\n",
       "      <th>install_date</th>\n",
       "      <th>session_number</th>\n",
       "      <th>registration_flag</th>\n",
       "      <th>page_counter</th>\n",
       "      <th>region</th>\n",
       "      <th>device</th>\n",
       "      <th>test_group</th>\n",
       "      <th>good_session</th>\n",
       "    </tr>\n",
       "  </thead>\n",
       "  <tbody>\n",
       "    <tr>\n",
       "      <th>100000</th>\n",
       "      <td>CF77C27B238C1BE3</td>\n",
       "      <td>0F7BC9B33685377C</td>\n",
       "      <td>2025-10-22</td>\n",
       "      <td>2025-10-22 19:01:50</td>\n",
       "      <td>2025-10-20</td>\n",
       "      <td>3</td>\n",
       "      <td>0</td>\n",
       "      <td>3</td>\n",
       "      <td>MENA</td>\n",
       "      <td>Android</td>\n",
       "      <td>A</td>\n",
       "      <td>0</td>\n",
       "    </tr>\n",
       "    <tr>\n",
       "      <th>100001</th>\n",
       "      <td>D7ED66C581409AC2</td>\n",
       "      <td>26C4475005E70F47</td>\n",
       "      <td>2025-10-17</td>\n",
       "      <td>2025-10-17 22:12:38</td>\n",
       "      <td>2025-10-17</td>\n",
       "      <td>1</td>\n",
       "      <td>0</td>\n",
       "      <td>5</td>\n",
       "      <td>CIS</td>\n",
       "      <td>PC</td>\n",
       "      <td>A</td>\n",
       "      <td>1</td>\n",
       "    </tr>\n",
       "    <tr>\n",
       "      <th>100002</th>\n",
       "      <td>E7EA2D51238020C6</td>\n",
       "      <td>9B9CDE6A612CBD73</td>\n",
       "      <td>2025-10-24</td>\n",
       "      <td>2025-10-24 14:54:07</td>\n",
       "      <td>2025-10-14</td>\n",
       "      <td>2</td>\n",
       "      <td>0</td>\n",
       "      <td>3</td>\n",
       "      <td>MENA</td>\n",
       "      <td>PC</td>\n",
       "      <td>B</td>\n",
       "      <td>0</td>\n",
       "    </tr>\n",
       "    <tr>\n",
       "      <th>100003</th>\n",
       "      <td>8A6FEFD7F34C5DA1</td>\n",
       "      <td>37291EC27106EF9D</td>\n",
       "      <td>2025-10-18</td>\n",
       "      <td>2025-10-18 00:05:10</td>\n",
       "      <td>2025-10-14</td>\n",
       "      <td>3</td>\n",
       "      <td>0</td>\n",
       "      <td>4</td>\n",
       "      <td>EU</td>\n",
       "      <td>Android</td>\n",
       "      <td>B</td>\n",
       "      <td>1</td>\n",
       "    </tr>\n",
       "    <tr>\n",
       "      <th>100004</th>\n",
       "      <td>EE2CA3C8481A0DE8</td>\n",
       "      <td>A4C833633CD4412E</td>\n",
       "      <td>2025-10-23</td>\n",
       "      <td>2025-10-23 10:02:27</td>\n",
       "      <td>2025-10-19</td>\n",
       "      <td>2</td>\n",
       "      <td>0</td>\n",
       "      <td>2</td>\n",
       "      <td>MENA</td>\n",
       "      <td>Android</td>\n",
       "      <td>B</td>\n",
       "      <td>0</td>\n",
       "    </tr>\n",
       "  </tbody>\n",
       "</table>\n",
       "</div>"
      ],
      "text/plain": [
       "                 user_id        session_id session_date     session_start_ts  \\\n",
       "100000  CF77C27B238C1BE3  0F7BC9B33685377C   2025-10-22  2025-10-22 19:01:50   \n",
       "100001  D7ED66C581409AC2  26C4475005E70F47   2025-10-17  2025-10-17 22:12:38   \n",
       "100002  E7EA2D51238020C6  9B9CDE6A612CBD73   2025-10-24  2025-10-24 14:54:07   \n",
       "100003  8A6FEFD7F34C5DA1  37291EC27106EF9D   2025-10-18  2025-10-18 00:05:10   \n",
       "100004  EE2CA3C8481A0DE8  A4C833633CD4412E   2025-10-23  2025-10-23 10:02:27   \n",
       "\n",
       "       install_date  session_number  registration_flag  page_counter region  \\\n",
       "100000   2025-10-20               3                  0             3   MENA   \n",
       "100001   2025-10-17               1                  0             5    CIS   \n",
       "100002   2025-10-14               2                  0             3   MENA   \n",
       "100003   2025-10-14               3                  0             4     EU   \n",
       "100004   2025-10-19               2                  0             2   MENA   \n",
       "\n",
       "         device test_group  good_session  \n",
       "100000  Android          A             0  \n",
       "100001       PC          A             1  \n",
       "100002       PC          B             0  \n",
       "100003  Android          B             1  \n",
       "100004  Android          B             0  "
      ]
     },
     "execution_count": 41,
     "metadata": {},
     "output_type": "execute_result"
    }
   ],
   "source": [
    "# Добавим в датафрейм sessions_test новое поле good_session с помощью лямбда-функции\n",
    "\n",
    "sessions_test['good_session'] = sessions_test['page_counter'].apply(lambda x: 1 if x >= 4 else 0)\n",
    "sessions_test.tail()"
   ]
  },
  {
   "cell_type": "markdown",
   "metadata": {
    "id": "aeYhrMYy0eM2"
   },
   "source": [
    "### Проверка корректности результатов теста\n",
    "\n",
    "Прежде чем приступать к анализу ключевых продуктовых метрик, необходимо убедиться, что тест проведён корректно.\n",
    "\n",
    "- Рассчитаем количество уникальных сессий для каждого дня и обеих тестовых групп, используя группировку.\n",
    "\n",
    "- Проверим, что количество уникальных дневных сессий в двух выборках не различается или различия не статистически значимы. Используем статистический тест, который позволит сделать вывод о равенстве средних двух выборок."
   ]
  },
  {
   "cell_type": "code",
   "execution_count": 42,
   "metadata": {
    "id": "5NUlcltkTTSU"
   },
   "outputs": [
    {
     "data": {
      "text/html": [
       "<div>\n",
       "<style scoped>\n",
       "    .dataframe tbody tr th:only-of-type {\n",
       "        vertical-align: middle;\n",
       "    }\n",
       "\n",
       "    .dataframe tbody tr th {\n",
       "        vertical-align: top;\n",
       "    }\n",
       "\n",
       "    .dataframe thead th {\n",
       "        text-align: right;\n",
       "    }\n",
       "</style>\n",
       "<table border=\"1\" class=\"dataframe\">\n",
       "  <thead>\n",
       "    <tr style=\"text-align: right;\">\n",
       "      <th></th>\n",
       "      <th>session_date</th>\n",
       "      <th>test_group</th>\n",
       "      <th>session_id</th>\n",
       "    </tr>\n",
       "  </thead>\n",
       "  <tbody>\n",
       "    <tr>\n",
       "      <th>0</th>\n",
       "      <td>2025-10-14</td>\n",
       "      <td>A</td>\n",
       "      <td>1502</td>\n",
       "    </tr>\n",
       "    <tr>\n",
       "      <th>1</th>\n",
       "      <td>2025-10-14</td>\n",
       "      <td>B</td>\n",
       "      <td>1628</td>\n",
       "    </tr>\n",
       "    <tr>\n",
       "      <th>2</th>\n",
       "      <td>2025-10-15</td>\n",
       "      <td>A</td>\n",
       "      <td>2235</td>\n",
       "    </tr>\n",
       "    <tr>\n",
       "      <th>3</th>\n",
       "      <td>2025-10-15</td>\n",
       "      <td>B</td>\n",
       "      <td>2283</td>\n",
       "    </tr>\n",
       "    <tr>\n",
       "      <th>4</th>\n",
       "      <td>2025-10-16</td>\n",
       "      <td>A</td>\n",
       "      <td>3280</td>\n",
       "    </tr>\n",
       "  </tbody>\n",
       "</table>\n",
       "</div>"
      ],
      "text/plain": [
       "  session_date test_group  session_id\n",
       "0   2025-10-14          A        1502\n",
       "1   2025-10-14          B        1628\n",
       "2   2025-10-15          A        2235\n",
       "3   2025-10-15          B        2283\n",
       "4   2025-10-16          A        3280"
      ]
     },
     "execution_count": 42,
     "metadata": {},
     "output_type": "execute_result"
    }
   ],
   "source": [
    "# Рассчитаем количество уникальных сессий для каждого дня и обеих тестовых групп\n",
    "df_uniq_session_test = sessions_test.groupby(['session_date', 'test_group'])['session_id'].count().reset_index()\n",
    "df_uniq_session_test.head()"
   ]
  },
  {
   "cell_type": "code",
   "execution_count": 43,
   "metadata": {
    "scrolled": true
   },
   "outputs": [
    {
     "data": {
      "image/png": "[encoded data removed]",
      "text/plain": [
       "<Figure size 1080x576 with 1 Axes>"
      ]
     },
     "metadata": {
      "needs_background": "light"
     },
     "output_type": "display_data"
    }
   ],
   "source": [
    "# Построим график сравнения динамики кол-ва уникальных сессий в обоих группах\n",
    "x = df_uniq_session_test.session_date.unique()\n",
    "y_a = df_uniq_session_test[df_uniq_session_test.test_group=='A'].session_id\n",
    "y_b = df_uniq_session_test[df_uniq_session_test.test_group=='B'].session_id\n",
    "\n",
    "plt.figure(figsize=(15, 8))\n",
    "plt.plot(x, y_a, label ='A')\n",
    "plt.plot(x, y_b,label ='B')\n",
    "\n",
    "plt.xlabel(\"Дата\")\n",
    "plt.ylabel(\"Количество уникальных сессий\")\n",
    "plt.legend()\n",
    "plt.title('Сравнение динамик групп A и B по кол-ву уникальных сессий')\n",
    "plt.xticks(rotation=45)\n",
    "plt.show()\n"
   ]
  },
  {
   "cell_type": "markdown",
   "metadata": {},
   "source": [
    "**Промежуточный вывод о данных:**\n",
    "- Динамика количества уникальных сессий практически одинаковая в обоих группах, что говорит о том, что группы сопоставимы по размеру в течение всего эксперимента. "
   ]
  },
  {
   "cell_type": "markdown",
   "metadata": {},
   "source": [
    "**Сформулируем гипотезы:**\n",
    "\n",
    "- H₀: Средние значения в группах A и B равны\n",
    "- H₁: Средние значения в группах A и B не равны"
   ]
  },
  {
   "cell_type": "code",
   "execution_count": 44,
   "metadata": {},
   "outputs": [
    {
     "name": "stdout",
     "output_type": "stream",
     "text": [
      "p-value теста Стьюдента =0.94\n",
      "Нулевая гипотеза находит подтверждение! Средние значения в группах A и B равны\n",
      "Интерпретация: Количество уникальных дневных сессий не различается между тестовой и контрольной группами.\n"
     ]
    }
   ],
   "source": [
    "# Используем классический т-тест, который позволит сделать вывод о равенстве средних двух выборок\n",
    "\n",
    "metric_a = df_uniq_session_test[df_uniq_session_test.test_group=='A'].session_id ## выборка целевой метрики для группы A\n",
    "metric_b = df_uniq_session_test[df_uniq_session_test.test_group=='B'].session_id ## выборка целевой метрики для группы B\n",
    "\n",
    "alpha = 0.05 ## на каком уровне значимости проверяем гипотезу о равенстве выборочных средних\n",
    "stat_ttest, p_value_ttest = ttest_ind(\n",
    "    metric_a, \n",
    "    metric_b, \n",
    "    alternative='two-sided' ## поскольку альтернативная гипотеза о том, что выборочное среднее первой выборки(metric_a) меньше второй выборки\n",
    ") ## применяем тест Стьюдента (классический T-test)\n",
    "\n",
    "if p_value_ttest>alpha:\n",
    "    print(f'p-value теста Стьюдента ={round(p_value_ttest, 2)}')\n",
    "    print('Нулевая гипотеза находит подтверждение! Средние значения в группах A и B равны')\n",
    "    print('Интерпретация: Количество уникальных дневных сессий не различается между тестовой и контрольной группами.')\n",
    "else:\n",
    "    print(f'p-value теста Стьюдента ={round(p_value_ttest, 2)}')\n",
    "    print('Нулевая гипотеза не находит подтверждения! Средние значения в группах A и B не равны')\n",
    "    print('Интерпретация: количество уникальных дневных сессий различается между тестовой и контрольной группами.')"
   ]
  },
  {
   "cell_type": "markdown",
   "metadata": {},
   "source": [
    "**Промежуточный вывод**\n",
    "- Внедрение новой рекомендательной системы не привело к увеличению количества уникальных сессий по сравнению с контрольной группой. На данный момент нет оснований утверждать, что новая система оказывает значимое влияние на количество уникальных сессий."
   ]
  },
  {
   "cell_type": "markdown",
   "metadata": {
    "id": "7kwRxzg70eM3"
   },
   "source": [
    "### Сравнение доли успешных сессий\n",
    "\n",
    "Используем созданный на первом шаге задания столбец `good_session` и рассчитаем долю успешных сессий для выборок A и B, а также разницу в этом показателе."
   ]
  },
  {
   "cell_type": "code",
   "execution_count": 45,
   "metadata": {
    "id": "Uku-V1CpPRCz"
   },
   "outputs": [
    {
     "data": {
      "text/html": [
       "<div>\n",
       "<style scoped>\n",
       "    .dataframe tbody tr th:only-of-type {\n",
       "        vertical-align: middle;\n",
       "    }\n",
       "\n",
       "    .dataframe tbody tr th {\n",
       "        vertical-align: top;\n",
       "    }\n",
       "\n",
       "    .dataframe thead th {\n",
       "        text-align: right;\n",
       "    }\n",
       "</style>\n",
       "<table border=\"1\" class=\"dataframe\">\n",
       "  <thead>\n",
       "    <tr style=\"text-align: right;\">\n",
       "      <th></th>\n",
       "      <th>user_id</th>\n",
       "      <th>session_id</th>\n",
       "      <th>session_date</th>\n",
       "      <th>session_start_ts</th>\n",
       "      <th>install_date</th>\n",
       "      <th>session_number</th>\n",
       "      <th>registration_flag</th>\n",
       "      <th>page_counter</th>\n",
       "      <th>region</th>\n",
       "      <th>device</th>\n",
       "      <th>test_group</th>\n",
       "      <th>good_session</th>\n",
       "    </tr>\n",
       "  </thead>\n",
       "  <tbody>\n",
       "    <tr>\n",
       "      <th>100000</th>\n",
       "      <td>CF77C27B238C1BE3</td>\n",
       "      <td>0F7BC9B33685377C</td>\n",
       "      <td>2025-10-22</td>\n",
       "      <td>2025-10-22 19:01:50</td>\n",
       "      <td>2025-10-20</td>\n",
       "      <td>3</td>\n",
       "      <td>0</td>\n",
       "      <td>3</td>\n",
       "      <td>MENA</td>\n",
       "      <td>Android</td>\n",
       "      <td>A</td>\n",
       "      <td>0</td>\n",
       "    </tr>\n",
       "    <tr>\n",
       "      <th>100001</th>\n",
       "      <td>D7ED66C581409AC2</td>\n",
       "      <td>26C4475005E70F47</td>\n",
       "      <td>2025-10-17</td>\n",
       "      <td>2025-10-17 22:12:38</td>\n",
       "      <td>2025-10-17</td>\n",
       "      <td>1</td>\n",
       "      <td>0</td>\n",
       "      <td>5</td>\n",
       "      <td>CIS</td>\n",
       "      <td>PC</td>\n",
       "      <td>A</td>\n",
       "      <td>1</td>\n",
       "    </tr>\n",
       "    <tr>\n",
       "      <th>100002</th>\n",
       "      <td>E7EA2D51238020C6</td>\n",
       "      <td>9B9CDE6A612CBD73</td>\n",
       "      <td>2025-10-24</td>\n",
       "      <td>2025-10-24 14:54:07</td>\n",
       "      <td>2025-10-14</td>\n",
       "      <td>2</td>\n",
       "      <td>0</td>\n",
       "      <td>3</td>\n",
       "      <td>MENA</td>\n",
       "      <td>PC</td>\n",
       "      <td>B</td>\n",
       "      <td>0</td>\n",
       "    </tr>\n",
       "    <tr>\n",
       "      <th>100003</th>\n",
       "      <td>8A6FEFD7F34C5DA1</td>\n",
       "      <td>37291EC27106EF9D</td>\n",
       "      <td>2025-10-18</td>\n",
       "      <td>2025-10-18 00:05:10</td>\n",
       "      <td>2025-10-14</td>\n",
       "      <td>3</td>\n",
       "      <td>0</td>\n",
       "      <td>4</td>\n",
       "      <td>EU</td>\n",
       "      <td>Android</td>\n",
       "      <td>B</td>\n",
       "      <td>1</td>\n",
       "    </tr>\n",
       "    <tr>\n",
       "      <th>100004</th>\n",
       "      <td>EE2CA3C8481A0DE8</td>\n",
       "      <td>A4C833633CD4412E</td>\n",
       "      <td>2025-10-23</td>\n",
       "      <td>2025-10-23 10:02:27</td>\n",
       "      <td>2025-10-19</td>\n",
       "      <td>2</td>\n",
       "      <td>0</td>\n",
       "      <td>2</td>\n",
       "      <td>MENA</td>\n",
       "      <td>Android</td>\n",
       "      <td>B</td>\n",
       "      <td>0</td>\n",
       "    </tr>\n",
       "  </tbody>\n",
       "</table>\n",
       "</div>"
      ],
      "text/plain": [
       "                 user_id        session_id session_date     session_start_ts  \\\n",
       "100000  CF77C27B238C1BE3  0F7BC9B33685377C   2025-10-22  2025-10-22 19:01:50   \n",
       "100001  D7ED66C581409AC2  26C4475005E70F47   2025-10-17  2025-10-17 22:12:38   \n",
       "100002  E7EA2D51238020C6  9B9CDE6A612CBD73   2025-10-24  2025-10-24 14:54:07   \n",
       "100003  8A6FEFD7F34C5DA1  37291EC27106EF9D   2025-10-18  2025-10-18 00:05:10   \n",
       "100004  EE2CA3C8481A0DE8  A4C833633CD4412E   2025-10-23  2025-10-23 10:02:27   \n",
       "\n",
       "       install_date  session_number  registration_flag  page_counter region  \\\n",
       "100000   2025-10-20               3                  0             3   MENA   \n",
       "100001   2025-10-17               1                  0             5    CIS   \n",
       "100002   2025-10-14               2                  0             3   MENA   \n",
       "100003   2025-10-14               3                  0             4     EU   \n",
       "100004   2025-10-19               2                  0             2   MENA   \n",
       "\n",
       "         device test_group  good_session  \n",
       "100000  Android          A             0  \n",
       "100001       PC          A             1  \n",
       "100002       PC          B             0  \n",
       "100003  Android          B             1  \n",
       "100004  Android          B             0  "
      ]
     },
     "execution_count": 45,
     "metadata": {},
     "output_type": "execute_result"
    }
   ],
   "source": [
    "sessions_test.tail()"
   ]
  },
  {
   "cell_type": "code",
   "execution_count": 46,
   "metadata": {},
   "outputs": [
    {
     "data": {
      "text/html": [
       "<div>\n",
       "<style scoped>\n",
       "    .dataframe tbody tr th:only-of-type {\n",
       "        vertical-align: middle;\n",
       "    }\n",
       "\n",
       "    .dataframe tbody tr th {\n",
       "        vertical-align: top;\n",
       "    }\n",
       "\n",
       "    .dataframe thead th {\n",
       "        text-align: right;\n",
       "    }\n",
       "</style>\n",
       "<table border=\"1\" class=\"dataframe\">\n",
       "  <thead>\n",
       "    <tr style=\"text-align: right;\">\n",
       "      <th></th>\n",
       "      <th>test_group</th>\n",
       "      <th>good_session</th>\n",
       "    </tr>\n",
       "  </thead>\n",
       "  <tbody>\n",
       "    <tr>\n",
       "      <th>0</th>\n",
       "      <td>A</td>\n",
       "      <td>0.3077</td>\n",
       "    </tr>\n",
       "    <tr>\n",
       "      <th>1</th>\n",
       "      <td>B</td>\n",
       "      <td>0.3183</td>\n",
       "    </tr>\n",
       "  </tbody>\n",
       "</table>\n",
       "</div>"
      ],
      "text/plain": [
       "  test_group  good_session\n",
       "0          A        0.3077\n",
       "1          B        0.3183"
      ]
     },
     "execution_count": 46,
     "metadata": {},
     "output_type": "execute_result"
    }
   ],
   "source": [
    "# Рассчитаем долю успешных сессий для выборок A и B\n",
    "df_good_sessions_rate = sessions_test.groupby('test_group')['good_session'].mean().reset_index().round(4)\n",
    "df_good_sessions_rate"
   ]
  },
  {
   "cell_type": "code",
   "execution_count": 47,
   "metadata": {},
   "outputs": [
    {
     "data": {
      "text/plain": [
       "0.011"
      ]
     },
     "execution_count": 47,
     "metadata": {},
     "output_type": "execute_result"
    }
   ],
   "source": [
    "# Рассчитываем разницу в доле успешных сессий между группами A и B\n",
    "diff = df_good_sessions_rate.loc[df_good_sessions_rate['test_group'] == 'B', 'good_session'].values[0] - df_good_sessions_rate.loc[df_good_sessions_rate['test_group'] == 'A', 'good_session'].values[0]\n",
    "diff.round(3)"
   ]
  },
  {
   "cell_type": "markdown",
   "metadata": {},
   "source": [
    "**Промежуточный вывод**\n",
    "- Доля успешных сессий в тестовой группе В на 0,011 п.п. или на 1,1% выше, чем в контрольной."
   ]
  },
  {
   "cell_type": "markdown",
   "metadata": {
    "id": "9fMFuja10eM4"
   },
   "source": [
    "### Насколько статистически значимо изменение ключевой метрики\n",
    "\n",
    "Мы получили результат, что количество успешных сессий в тестовой выборке примерно на 1.1% выше, чем в контрольной, но делать выводы только на основе этого значения будет некорректно, необходимо проверить: является ли это изменение статистически значимым."
   ]
  },
  {
   "cell_type": "markdown",
   "metadata": {},
   "source": [
    "**Сформулируем гипотезы:**\n",
    "\n",
    "- H₀: Доли успешных сессий в группах A и B не различаются.\n",
    "- H₁: Доли успешных сессий в группах A и B различаются."
   ]
  },
  {
   "cell_type": "markdown",
   "metadata": {},
   "source": [
    "Для проверки, какая из гипотез является истинной используем z-test, который позволяет определить, существует ли значимая разница между долями в двух независимых выборках."
   ]
  },
  {
   "cell_type": "markdown",
   "metadata": {},
   "source": [
    "Для начала проверим, выполняется ли предпосылка Z-теста пропорций о достаточном размере выборок, посчитаем количество наблюдений в каждой группе, а также — количество «успехов» в них."
   ]
  },
  {
   "cell_type": "code",
   "execution_count": 48,
   "metadata": {
    "scrolled": true
   },
   "outputs": [
    {
     "name": "stdout",
     "output_type": "stream",
     "text": [
      "n_a=49551, n_b=50454\n",
      "m_a=15248, m_b=16059\n",
      "p_a=0.3077233557344958, p_b=0.31828992745867524\n",
      "Предпосылка о достаточном количестве данных выполняется!\n"
     ]
    }
   ],
   "source": [
    "# Посчитаем размер выборок и кол-во успехов в группах А и В\n",
    "\n",
    "n_a, n_b = sessions_test[sessions_test.test_group=='A'].shape[0], sessions_test[sessions_test.test_group=='B'].shape[0] ## размеры выборок A и B\n",
    "m_a = sessions_test[(sessions_test.test_group=='A')&(sessions_test.good_session==1)].shape[0] # количество успехов (регистраций) в группе A\n",
    "m_b = sessions_test[(sessions_test.test_group=='B')&(sessions_test.good_session==1)].shape[0] # количество успехов (регистраций) в группе B\n",
    "\n",
    "p_a, p_b = m_a/n_a, m_b/n_b # рассчитываем доли успехов для каждой группы: A и B\n",
    "\n",
    "print(f'n_a={n_a}, n_b={n_b}')\n",
    "# 49551 50454\n",
    "\n",
    "print(f'm_a={m_a}, m_b={m_b}')\n",
    "# 15248 16059\n",
    "\n",
    "print(f'p_a={p_a}, p_b={p_b}') # Рассчитываем вероятность успеха для обеих групп\n",
    "# 0.307 0.318\n",
    "\n",
    "if (p_a*n_a > 10)and((1-p_a)*n_a > 10)and(p_b*n_b > 10)and((1-p_b)*n_b > 10): # Проверяем, что вероятность успеха, умноженная на размер выборки, составляет не менее 10.\n",
    "    print('Предпосылка о достаточном количестве данных выполняется!') \n",
    "else:\n",
    "    print('Предпосылка о достаточном количестве данных НЕ выполняется!')"
   ]
  },
  {
   "cell_type": "markdown",
   "metadata": {},
   "source": [
    "Предпосылка о дастаточном количестве данных подтвердилась, применим z-test для подтверждения одной из гипотез."
   ]
  },
  {
   "cell_type": "code",
   "execution_count": 49,
   "metadata": {},
   "outputs": [
    {
     "name": "stdout",
     "output_type": "stream",
     "text": [
      "pvalue=0.000315 < 0.05\n",
      "Нулевая гипотеза не находит подтверждения!\n",
      "Доли успешных сессий в группах A и B различаются!\n"
     ]
    }
   ],
   "source": [
    "# Используем Z-test для проверки результата\n",
    "\n",
    "# Общепринятый уровень значимости    \n",
    "alpha = 0.05\n",
    "\n",
    "stat_ztest, p_value_ztest = proportions_ztest(\n",
    "    [m_a, m_b],\n",
    "    [n_a, n_b],\n",
    "    alternative='two-sided' # так как H_1: p_a != p_b\n",
    ")\n",
    "p_value_ztest\n",
    "\n",
    "if p_value_ztest > alpha:\n",
    "    print(f'pvalue={round(p_value_ztest,6)} > {alpha}')\n",
    "    print('Нулевая гипотеза находит подтверждение!')\n",
    "    print('Доли успешных сессий в группах A и B не различаются!')\n",
    "else:\n",
    "    print(f'pvalue={round(p_value_ztest,6)} < {alpha}')\n",
    "    print('Нулевая гипотеза не находит подтверждения!')\n",
    "    print('Доли успешных сессий в группах A и B различаются!')"
   ]
  },
  {
   "cell_type": "markdown",
   "metadata": {},
   "source": [
    "##### **Промежуточный вывод**\n",
    "- На основании полученного p_value теста (p = 0.000315), которое меньше общепринятого уровня значимости α = 0,05, можно сделать вывод, что нулевая гипотеза о равенстве доли успешных сессий в группах А и В отвергается, следовательно, доли успешных сессий в группах A и B значительно различаются."
   ]
  },
  {
   "cell_type": "markdown",
   "metadata": {},
   "source": [
    "### Вывод по результатам A/B-эксперимента"
   ]
  },
  {
   "cell_type": "markdown",
   "metadata": {},
   "source": [
    "- Характеристики проведённого эксперимента:\n",
    "\n",
    "Эксперимент включал анализ данных о зарегистрированных пользователях и успешных сессиях за период с 2025-10-14 по 2025-11-02. Группы A и B были независимыми, без пересечения пользователей между ними.\n",
    "\n",
    "- Влияние нового алгоритма рекомендаций на рост ключевой метрики:\n",
    "\n",
    "Внедрение новой рекомендательной системы не привело к увеличению количества уникальных сессий по сравнению с контрольной группой, но при этом доля успешных сессий у тестовой группы выше на 1,1%, относительно контрольной группы, что является статистически значимым изменением.\n",
    "\n",
    "- Значение p-value для оценки статистической значимости выявленного эффекта:\n",
    "\n",
    "P-value теста Стьюдента составило 0,94, что больше общепринятого уровня значимости (α = 0,05). Это указывает на то, что различия между группами не являются статистически значимыми, а именно что внедрение новой рекомендательной системы не привело к увеличению количества уникальных сессий по сравнению с контрольной группой, другое значение p-value z-testa составило 0.000315, что меньше общепринятого уровня значимости (α = 0,05), это указывает на то, что нулевая гипотеза о равенстве доли успешных сессий в группах А и В отвергается, следовательно, доли успешных сессий в группах A и B значительно различаются.\n",
    "\n",
    "- Решение о внедрении нововведения в приложение:\n",
    "\n",
    "На основании проведённого анализа достаточно оснований для утверждения, что новая рекомендательная система оказывает значимое влияние на рост доли успешных сессий, что говорит об успешности A/B-эксперимента."
   ]
  }
 ],
 "metadata": {
  "ExecuteTimeLog": [
   {
    "duration": 433,
    "start_time": "2025-05-14T18:24:22.660Z"
   },
   {
    "duration": 114,
    "start_time": "2025-05-14T18:25:14.307Z"
   },
   {
    "duration": 2187,
    "start_time": "2025-05-14T18:25:30.155Z"
   },
   {
    "duration": 1167,
    "start_time": "2025-05-14T18:25:45.209Z"
   },
   {
    "duration": 604,
    "start_time": "2025-05-14T18:29:16.638Z"
   },
   {
    "duration": 600,
    "start_time": "2025-05-14T18:29:24.047Z"
   },
   {
    "duration": 591,
    "start_time": "2025-05-14T18:29:37.478Z"
   },
   {
    "duration": 574,
    "start_time": "2025-05-14T18:30:48.381Z"
   },
   {
    "duration": 597,
    "start_time": "2025-05-14T18:31:04.806Z"
   },
   {
    "duration": 633,
    "start_time": "2025-05-14T18:31:17.960Z"
   },
   {
    "duration": 604,
    "start_time": "2025-05-14T18:32:13.489Z"
   },
   {
    "duration": 32,
    "start_time": "2025-05-14T18:35:06.551Z"
   },
   {
    "duration": 52,
    "start_time": "2025-05-14T18:35:13.671Z"
   },
   {
    "duration": 65,
    "start_time": "2025-05-14T20:16:07.638Z"
   },
   {
    "duration": 503,
    "start_time": "2025-05-14T20:16:15.465Z"
   },
   {
    "duration": 1390,
    "start_time": "2025-05-14T20:16:15.970Z"
   },
   {
    "duration": 742,
    "start_time": "2025-05-14T20:16:17.362Z"
   },
   {
    "duration": 40,
    "start_time": "2025-05-14T20:16:18.106Z"
   },
   {
    "duration": 43,
    "start_time": "2025-05-14T20:16:18.148Z"
   },
   {
    "duration": 621,
    "start_time": "2025-05-14T20:16:18.197Z"
   },
   {
    "duration": 0,
    "start_time": "2025-05-14T20:16:18.820Z"
   },
   {
    "duration": 11,
    "start_time": "2025-05-14T20:16:24.625Z"
   },
   {
    "duration": 93,
    "start_time": "2025-05-14T20:23:08.297Z"
   },
   {
    "duration": 112,
    "start_time": "2025-05-14T20:23:15.062Z"
   },
   {
    "duration": 102,
    "start_time": "2025-05-14T20:23:25.347Z"
   },
   {
    "duration": 80,
    "start_time": "2025-05-14T20:27:47.871Z"
   },
   {
    "duration": 249,
    "start_time": "2025-05-14T20:27:56.104Z"
   },
   {
    "duration": 111,
    "start_time": "2025-05-14T20:32:18.684Z"
   },
   {
    "duration": 13,
    "start_time": "2025-05-14T20:34:33.893Z"
   },
   {
    "duration": 14,
    "start_time": "2025-05-14T20:37:15.416Z"
   },
   {
    "duration": 834,
    "start_time": "2025-05-14T20:37:31.903Z"
   },
   {
    "duration": 5,
    "start_time": "2025-05-14T20:41:26.422Z"
   },
   {
    "duration": 11,
    "start_time": "2025-05-14T20:43:02.350Z"
   },
   {
    "duration": 6,
    "start_time": "2025-05-14T20:43:12.068Z"
   },
   {
    "duration": 10,
    "start_time": "2025-05-14T20:43:33.924Z"
   },
   {
    "duration": 6,
    "start_time": "2025-05-14T20:43:48.037Z"
   },
   {
    "duration": 5,
    "start_time": "2025-05-14T20:43:56.356Z"
   },
   {
    "duration": 201,
    "start_time": "2025-05-14T20:44:30.196Z"
   },
   {
    "duration": 5,
    "start_time": "2025-05-14T20:45:42.360Z"
   },
   {
    "duration": 7,
    "start_time": "2025-05-14T20:46:25.827Z"
   },
   {
    "duration": 4,
    "start_time": "2025-05-14T20:47:02.205Z"
   },
   {
    "duration": 5,
    "start_time": "2025-05-14T20:50:55.648Z"
   },
   {
    "duration": 10,
    "start_time": "2025-05-14T20:51:01.271Z"
   },
   {
    "duration": 17,
    "start_time": "2025-05-14T20:51:07.670Z"
   },
   {
    "duration": 14,
    "start_time": "2025-05-14T20:51:44.123Z"
   },
   {
    "duration": 678,
    "start_time": "2025-05-14T20:52:39.391Z"
   },
   {
    "duration": 119,
    "start_time": "2025-05-14T20:57:40.196Z"
   },
   {
    "duration": 96,
    "start_time": "2025-05-14T20:58:08.092Z"
   },
   {
    "duration": 698,
    "start_time": "2025-05-14T20:59:53.615Z"
   },
   {
    "duration": 660,
    "start_time": "2025-05-14T21:00:58.356Z"
   },
   {
    "duration": 811,
    "start_time": "2025-05-14T21:01:06.180Z"
   },
   {
    "duration": 685,
    "start_time": "2025-05-14T21:01:13.152Z"
   },
   {
    "duration": 19,
    "start_time": "2025-05-14T21:05:53.373Z"
   },
   {
    "duration": 17,
    "start_time": "2025-05-14T21:06:17.442Z"
   },
   {
    "duration": 15,
    "start_time": "2025-05-14T21:09:02.736Z"
   },
   {
    "duration": 13,
    "start_time": "2025-05-14T21:09:06.934Z"
   },
   {
    "duration": 6,
    "start_time": "2025-05-14T21:10:24.902Z"
   },
   {
    "duration": 24,
    "start_time": "2025-05-14T21:10:29.888Z"
   },
   {
    "duration": 26,
    "start_time": "2025-05-14T21:10:54.567Z"
   },
   {
    "duration": 1094,
    "start_time": "2025-05-14T21:13:51.060Z"
   },
   {
    "duration": 1101,
    "start_time": "2025-05-14T21:14:01.017Z"
   },
   {
    "duration": 1021,
    "start_time": "2025-05-14T21:14:12.633Z"
   },
   {
    "duration": 14,
    "start_time": "2025-05-14T21:14:59.806Z"
   },
   {
    "duration": 21,
    "start_time": "2025-05-14T21:15:12.591Z"
   },
   {
    "duration": 16,
    "start_time": "2025-05-14T21:15:21.405Z"
   },
   {
    "duration": 15,
    "start_time": "2025-05-14T21:15:34.826Z"
   },
   {
    "duration": 25,
    "start_time": "2025-05-14T21:15:40.685Z"
   },
   {
    "duration": 11,
    "start_time": "2025-05-14T21:17:29.178Z"
   },
   {
    "duration": 17,
    "start_time": "2025-05-14T21:17:38.841Z"
   },
   {
    "duration": 18,
    "start_time": "2025-05-14T21:18:20.919Z"
   },
   {
    "duration": 19,
    "start_time": "2025-05-14T21:18:41.839Z"
   },
   {
    "duration": 21,
    "start_time": "2025-05-14T21:19:58.067Z"
   },
   {
    "duration": 567,
    "start_time": "2025-05-14T21:22:12.664Z"
   },
   {
    "duration": 22,
    "start_time": "2025-05-14T21:22:34.394Z"
   },
   {
    "duration": 16,
    "start_time": "2025-05-14T21:22:39.818Z"
   },
   {
    "duration": 14,
    "start_time": "2025-05-14T21:22:58.576Z"
   },
   {
    "duration": 15,
    "start_time": "2025-05-14T21:23:05.472Z"
   },
   {
    "duration": 647,
    "start_time": "2025-05-14T21:24:27.481Z"
   },
   {
    "duration": 610,
    "start_time": "2025-05-14T21:24:35.993Z"
   },
   {
    "duration": 603,
    "start_time": "2025-05-14T21:25:05.901Z"
   },
   {
    "duration": 553,
    "start_time": "2025-05-14T21:25:23.646Z"
   },
   {
    "duration": 559,
    "start_time": "2025-05-14T21:25:38.149Z"
   },
   {
    "duration": 56,
    "start_time": "2025-05-15T07:10:15.486Z"
   },
   {
    "duration": 422,
    "start_time": "2025-05-15T07:10:26.946Z"
   },
   {
    "duration": 1128,
    "start_time": "2025-05-15T07:10:27.370Z"
   },
   {
    "duration": 617,
    "start_time": "2025-05-15T07:10:28.499Z"
   },
   {
    "duration": 52,
    "start_time": "2025-05-15T07:10:29.118Z"
   },
   {
    "duration": 15,
    "start_time": "2025-05-15T07:10:29.172Z"
   },
   {
    "duration": 99,
    "start_time": "2025-05-15T07:10:29.188Z"
   },
   {
    "duration": 9,
    "start_time": "2025-05-15T07:10:29.289Z"
   },
   {
    "duration": 1203,
    "start_time": "2025-05-15T07:10:29.299Z"
   },
   {
    "duration": 9,
    "start_time": "2025-05-15T07:10:30.504Z"
   },
   {
    "duration": 65,
    "start_time": "2025-05-15T07:10:30.516Z"
   },
   {
    "duration": 648,
    "start_time": "2025-05-15T07:10:30.583Z"
   },
   {
    "duration": 654,
    "start_time": "2025-05-15T07:10:31.237Z"
   },
   {
    "duration": 0,
    "start_time": "2025-05-15T07:10:31.893Z"
   },
   {
    "duration": 574,
    "start_time": "2025-05-15T07:10:42.863Z"
   },
   {
    "duration": 606,
    "start_time": "2025-05-15T07:10:48.805Z"
   },
   {
    "duration": 585,
    "start_time": "2025-05-15T07:12:01.780Z"
   },
   {
    "duration": 677,
    "start_time": "2025-05-15T07:23:03.575Z"
   },
   {
    "duration": 593,
    "start_time": "2025-05-15T07:23:11.292Z"
   },
   {
    "duration": 22,
    "start_time": "2025-05-15T07:30:05.583Z"
   },
   {
    "duration": 1033,
    "start_time": "2025-05-15T07:30:47.194Z"
   },
   {
    "duration": 12,
    "start_time": "2025-05-15T07:31:58.114Z"
   },
   {
    "duration": 14,
    "start_time": "2025-05-15T07:32:19.118Z"
   },
   {
    "duration": 11,
    "start_time": "2025-05-15T07:41:48.687Z"
   },
   {
    "duration": 9,
    "start_time": "2025-05-15T07:42:10.161Z"
   },
   {
    "duration": 6,
    "start_time": "2025-05-15T07:42:30.474Z"
   },
   {
    "duration": 9,
    "start_time": "2025-05-15T07:43:22.051Z"
   },
   {
    "duration": 9,
    "start_time": "2025-05-15T07:50:08.918Z"
   },
   {
    "duration": 45,
    "start_time": "2025-05-15T07:50:27.373Z"
   },
   {
    "duration": 38,
    "start_time": "2025-05-15T07:50:32.343Z"
   },
   {
    "duration": 49,
    "start_time": "2025-05-15T07:50:45.162Z"
   },
   {
    "duration": 33,
    "start_time": "2025-05-15T07:52:56.512Z"
   },
   {
    "duration": 12,
    "start_time": "2025-05-15T07:55:53.518Z"
   },
   {
    "duration": 235,
    "start_time": "2025-05-15T07:56:33.565Z"
   },
   {
    "duration": 143,
    "start_time": "2025-05-15T07:56:52.359Z"
   },
   {
    "duration": 10,
    "start_time": "2025-05-15T07:57:19.881Z"
   },
   {
    "duration": 211,
    "start_time": "2025-05-15T07:57:25.021Z"
   },
   {
    "duration": 214,
    "start_time": "2025-05-15T07:59:45.799Z"
   },
   {
    "duration": 356,
    "start_time": "2025-05-15T08:00:18.776Z"
   },
   {
    "duration": 287,
    "start_time": "2025-05-15T08:03:13.059Z"
   },
   {
    "duration": 232,
    "start_time": "2025-05-15T08:05:25.919Z"
   },
   {
    "duration": 250,
    "start_time": "2025-05-15T08:05:31.469Z"
   },
   {
    "duration": 220,
    "start_time": "2025-05-15T08:05:56.837Z"
   },
   {
    "duration": 236,
    "start_time": "2025-05-15T08:06:01.485Z"
   },
   {
    "duration": 153,
    "start_time": "2025-05-15T08:06:27.241Z"
   },
   {
    "duration": 236,
    "start_time": "2025-05-15T08:06:31.394Z"
   },
   {
    "duration": 209,
    "start_time": "2025-05-15T08:06:38.390Z"
   },
   {
    "duration": 264,
    "start_time": "2025-05-15T08:06:45.208Z"
   },
   {
    "duration": 232,
    "start_time": "2025-05-15T08:07:03.974Z"
   },
   {
    "duration": 377,
    "start_time": "2025-05-15T08:07:16.308Z"
   },
   {
    "duration": 459,
    "start_time": "2025-05-15T08:08:37.408Z"
   },
   {
    "duration": 348,
    "start_time": "2025-05-15T08:08:42.102Z"
   },
   {
    "duration": 368,
    "start_time": "2025-05-15T08:08:46.220Z"
   },
   {
    "duration": 373,
    "start_time": "2025-05-15T08:09:24.342Z"
   },
   {
    "duration": 370,
    "start_time": "2025-05-15T08:09:28.908Z"
   },
   {
    "duration": 391,
    "start_time": "2025-05-15T08:10:24.485Z"
   },
   {
    "duration": 354,
    "start_time": "2025-05-15T08:10:57.888Z"
   },
   {
    "duration": 367,
    "start_time": "2025-05-15T08:11:01.082Z"
   },
   {
    "duration": 346,
    "start_time": "2025-05-15T08:11:08.998Z"
   },
   {
    "duration": 345,
    "start_time": "2025-05-15T08:11:13.604Z"
   },
   {
    "duration": 347,
    "start_time": "2025-05-15T08:11:18.434Z"
   },
   {
    "duration": 504,
    "start_time": "2025-05-15T08:11:54.644Z"
   },
   {
    "duration": 118,
    "start_time": "2025-05-15T08:13:34.295Z"
   },
   {
    "duration": 124,
    "start_time": "2025-05-15T08:13:41.999Z"
   },
   {
    "duration": 133,
    "start_time": "2025-05-15T08:13:48.474Z"
   },
   {
    "duration": 353,
    "start_time": "2025-05-15T08:13:53.095Z"
   },
   {
    "duration": 346,
    "start_time": "2025-05-15T08:13:57.255Z"
   },
   {
    "duration": 305,
    "start_time": "2025-05-15T08:14:44.119Z"
   },
   {
    "duration": 66,
    "start_time": "2025-05-15T08:18:12.414Z"
   },
   {
    "duration": 587,
    "start_time": "2025-05-15T08:18:18.028Z"
   },
   {
    "duration": 65,
    "start_time": "2025-05-15T08:18:32.012Z"
   },
   {
    "duration": 544,
    "start_time": "2025-05-15T08:18:36.776Z"
   },
   {
    "duration": 539,
    "start_time": "2025-05-15T08:18:45.808Z"
   },
   {
    "duration": 701,
    "start_time": "2025-05-15T08:18:55.078Z"
   },
   {
    "duration": 11,
    "start_time": "2025-05-15T08:20:21.404Z"
   },
   {
    "duration": 144,
    "start_time": "2025-05-15T08:23:34.902Z"
   },
   {
    "duration": 159,
    "start_time": "2025-05-15T08:23:41.683Z"
   },
   {
    "duration": 165,
    "start_time": "2025-05-15T08:24:47.479Z"
   },
   {
    "duration": 84,
    "start_time": "2025-05-15T08:30:16.879Z"
   },
   {
    "duration": 64,
    "start_time": "2025-05-15T08:30:56.878Z"
   },
   {
    "duration": 38,
    "start_time": "2025-05-15T08:31:11.738Z"
   },
   {
    "duration": 35,
    "start_time": "2025-05-15T08:31:17.591Z"
   },
   {
    "duration": 50,
    "start_time": "2025-05-15T08:31:22.236Z"
   },
   {
    "duration": 38,
    "start_time": "2025-05-15T08:31:43.906Z"
   },
   {
    "duration": 981,
    "start_time": "2025-05-15T08:36:32.122Z"
   },
   {
    "duration": 4,
    "start_time": "2025-05-15T08:36:51.318Z"
   },
   {
    "duration": 11,
    "start_time": "2025-05-15T08:36:56.986Z"
   },
   {
    "duration": 11,
    "start_time": "2025-05-15T08:37:08.093Z"
   },
   {
    "duration": 12,
    "start_time": "2025-05-15T08:37:22.268Z"
   },
   {
    "duration": 63,
    "start_time": "2025-05-15T08:39:41.501Z"
   },
   {
    "duration": 15,
    "start_time": "2025-05-15T08:39:48.529Z"
   },
   {
    "duration": 10,
    "start_time": "2025-05-15T08:40:13.338Z"
   },
   {
    "duration": 10,
    "start_time": "2025-05-15T08:40:51.583Z"
   },
   {
    "duration": 1358,
    "start_time": "2025-05-15T08:41:07.622Z"
   },
   {
    "duration": 1004,
    "start_time": "2025-05-15T08:41:17.107Z"
   },
   {
    "duration": 972,
    "start_time": "2025-05-15T08:41:23.379Z"
   },
   {
    "duration": 1004,
    "start_time": "2025-05-15T08:42:36.036Z"
   },
   {
    "duration": 1292,
    "start_time": "2025-05-15T08:42:40.679Z"
   },
   {
    "duration": 1036,
    "start_time": "2025-05-15T08:42:50.560Z"
   },
   {
    "duration": 1047,
    "start_time": "2025-05-15T08:42:57.228Z"
   },
   {
    "duration": 412,
    "start_time": "2025-05-15T08:43:08.504Z"
   },
   {
    "duration": 1079,
    "start_time": "2025-05-15T08:43:08.918Z"
   },
   {
    "duration": 615,
    "start_time": "2025-05-15T08:43:09.999Z"
   },
   {
    "duration": 45,
    "start_time": "2025-05-15T08:43:10.616Z"
   },
   {
    "duration": 95,
    "start_time": "2025-05-15T08:43:10.662Z"
   },
   {
    "duration": 9,
    "start_time": "2025-05-15T08:43:10.759Z"
   },
   {
    "duration": 865,
    "start_time": "2025-05-15T08:43:10.769Z"
   },
   {
    "duration": 9,
    "start_time": "2025-05-15T08:43:11.636Z"
   },
   {
    "duration": 16,
    "start_time": "2025-05-15T08:43:11.646Z"
   },
   {
    "duration": 537,
    "start_time": "2025-05-15T08:43:11.664Z"
   },
   {
    "duration": 11,
    "start_time": "2025-05-15T08:43:12.203Z"
   },
   {
    "duration": 24,
    "start_time": "2025-05-15T08:43:12.216Z"
   },
   {
    "duration": 35,
    "start_time": "2025-05-15T08:43:12.242Z"
   },
   {
    "duration": 322,
    "start_time": "2025-05-15T08:43:12.279Z"
   },
   {
    "duration": 147,
    "start_time": "2025-05-15T08:43:12.603Z"
   },
   {
    "duration": 49,
    "start_time": "2025-05-15T08:43:12.752Z"
   },
   {
    "duration": 90,
    "start_time": "2025-05-15T08:43:12.803Z"
   },
   {
    "duration": 0,
    "start_time": "2025-05-15T08:43:12.895Z"
   },
   {
    "duration": 0,
    "start_time": "2025-05-15T08:43:12.896Z"
   },
   {
    "duration": 1019,
    "start_time": "2025-05-15T08:43:25.242Z"
   },
   {
    "duration": 986,
    "start_time": "2025-05-15T08:43:39.085Z"
   },
   {
    "duration": 985,
    "start_time": "2025-05-15T08:43:54.104Z"
   },
   {
    "duration": 1004,
    "start_time": "2025-05-15T08:44:04.586Z"
   },
   {
    "duration": 1024,
    "start_time": "2025-05-15T08:44:10.608Z"
   },
   {
    "duration": 53,
    "start_time": "2025-05-15T08:44:17.057Z"
   },
   {
    "duration": 5,
    "start_time": "2025-05-15T08:44:26.520Z"
   },
   {
    "duration": 10,
    "start_time": "2025-05-15T08:44:31.870Z"
   },
   {
    "duration": 10,
    "start_time": "2025-05-15T08:44:48.997Z"
   },
   {
    "duration": 10,
    "start_time": "2025-05-15T08:44:52.312Z"
   },
   {
    "duration": 11,
    "start_time": "2025-05-15T08:44:55.037Z"
   },
   {
    "duration": 51,
    "start_time": "2025-05-15T08:45:02.771Z"
   },
   {
    "duration": 11,
    "start_time": "2025-05-15T08:45:03.829Z"
   },
   {
    "duration": 11,
    "start_time": "2025-05-15T08:45:16.288Z"
   },
   {
    "duration": 8,
    "start_time": "2025-05-15T08:45:25.998Z"
   },
   {
    "duration": 15,
    "start_time": "2025-05-15T08:45:41.127Z"
   },
   {
    "duration": 13,
    "start_time": "2025-05-15T08:46:06.172Z"
   },
   {
    "duration": 14,
    "start_time": "2025-05-15T08:46:15.037Z"
   },
   {
    "duration": 14,
    "start_time": "2025-05-15T08:46:48.279Z"
   },
   {
    "duration": 72,
    "start_time": "2025-05-15T08:46:52.080Z"
   },
   {
    "duration": 10,
    "start_time": "2025-05-15T08:47:27.878Z"
   },
   {
    "duration": 126,
    "start_time": "2025-05-15T08:47:45.947Z"
   },
   {
    "duration": 133,
    "start_time": "2025-05-15T08:48:13.354Z"
   },
   {
    "duration": 138,
    "start_time": "2025-05-15T08:48:35.956Z"
   },
   {
    "duration": 134,
    "start_time": "2025-05-15T08:48:40.618Z"
   },
   {
    "duration": 68,
    "start_time": "2025-05-15T08:50:07.887Z"
   },
   {
    "duration": 76,
    "start_time": "2025-05-15T08:50:20.180Z"
   },
   {
    "duration": 70,
    "start_time": "2025-05-15T08:51:05.946Z"
   },
   {
    "duration": 938,
    "start_time": "2025-05-15T08:51:20.273Z"
   },
   {
    "duration": 151,
    "start_time": "2025-05-15T08:52:05.098Z"
   },
   {
    "duration": 139,
    "start_time": "2025-05-15T08:52:39.627Z"
   },
   {
    "duration": 1037,
    "start_time": "2025-05-15T08:52:59.171Z"
   },
   {
    "duration": 168,
    "start_time": "2025-05-15T08:53:04.684Z"
   },
   {
    "duration": 155,
    "start_time": "2025-05-15T08:53:21.244Z"
   },
   {
    "duration": 139,
    "start_time": "2025-05-15T08:53:25.683Z"
   },
   {
    "duration": 151,
    "start_time": "2025-05-15T08:54:41.670Z"
   },
   {
    "duration": 218,
    "start_time": "2025-05-15T08:54:49.613Z"
   },
   {
    "duration": 14,
    "start_time": "2025-05-15T08:55:55.197Z"
   },
   {
    "duration": 145,
    "start_time": "2025-05-15T08:55:57.074Z"
   },
   {
    "duration": 145,
    "start_time": "2025-05-15T08:56:41.102Z"
   },
   {
    "duration": 141,
    "start_time": "2025-05-15T08:56:46.774Z"
   },
   {
    "duration": 140,
    "start_time": "2025-05-15T08:56:52.165Z"
   },
   {
    "duration": 13,
    "start_time": "2025-05-15T08:57:02.790Z"
   },
   {
    "duration": 11,
    "start_time": "2025-05-15T08:57:20.407Z"
   },
   {
    "duration": 161,
    "start_time": "2025-05-15T08:57:28.835Z"
   },
   {
    "duration": 566,
    "start_time": "2025-05-15T10:43:19.703Z"
   },
   {
    "duration": 184,
    "start_time": "2025-05-15T10:44:48.439Z"
   },
   {
    "duration": 291,
    "start_time": "2025-05-15T10:44:51.814Z"
   },
   {
    "duration": 151,
    "start_time": "2025-05-15T10:48:40.756Z"
   },
   {
    "duration": 224,
    "start_time": "2025-05-15T10:48:45.565Z"
   },
   {
    "duration": 423,
    "start_time": "2025-05-15T10:56:30.754Z"
   },
   {
    "duration": 7,
    "start_time": "2025-05-15T11:05:25.344Z"
   },
   {
    "duration": 4,
    "start_time": "2025-05-15T11:07:24.292Z"
   },
   {
    "duration": 4,
    "start_time": "2025-05-15T11:08:34.867Z"
   },
   {
    "duration": 4,
    "start_time": "2025-05-15T11:08:57.679Z"
   },
   {
    "duration": 5,
    "start_time": "2025-05-15T11:09:13.837Z"
   },
   {
    "duration": 4,
    "start_time": "2025-05-15T11:09:27.563Z"
   },
   {
    "duration": 8,
    "start_time": "2025-05-15T11:11:36.247Z"
   },
   {
    "duration": 8,
    "start_time": "2025-05-15T11:12:20.182Z"
   },
   {
    "duration": 37,
    "start_time": "2025-05-15T11:15:15.329Z"
   },
   {
    "duration": 9,
    "start_time": "2025-05-15T11:15:29.432Z"
   },
   {
    "duration": 6,
    "start_time": "2025-05-15T11:15:35.329Z"
   },
   {
    "duration": 1342,
    "start_time": "2025-05-15T11:16:07.146Z"
   },
   {
    "duration": 10,
    "start_time": "2025-05-15T11:17:29.814Z"
   },
   {
    "duration": 5,
    "start_time": "2025-05-15T11:20:27.322Z"
   },
   {
    "duration": 4,
    "start_time": "2025-05-15T11:21:00.307Z"
   },
   {
    "duration": 10,
    "start_time": "2025-05-15T11:21:05.566Z"
   },
   {
    "duration": 4,
    "start_time": "2025-05-15T11:21:21.466Z"
   },
   {
    "duration": 9,
    "start_time": "2025-05-15T11:21:22.833Z"
   },
   {
    "duration": 5,
    "start_time": "2025-05-15T11:21:33.354Z"
   },
   {
    "duration": 7,
    "start_time": "2025-05-15T11:21:36.032Z"
   },
   {
    "duration": 4,
    "start_time": "2025-05-15T11:21:37.480Z"
   },
   {
    "duration": 4,
    "start_time": "2025-05-15T11:22:08.193Z"
   },
   {
    "duration": 4,
    "start_time": "2025-05-15T11:27:36.509Z"
   },
   {
    "duration": 4,
    "start_time": "2025-05-15T11:27:45.579Z"
   },
   {
    "duration": 5,
    "start_time": "2025-05-15T11:28:44.253Z"
   },
   {
    "duration": 27,
    "start_time": "2025-05-15T11:34:07.184Z"
   },
   {
    "duration": 23,
    "start_time": "2025-05-15T11:34:11.860Z"
   },
   {
    "duration": 37,
    "start_time": "2025-05-15T11:36:06.878Z"
   },
   {
    "duration": 39,
    "start_time": "2025-05-15T11:36:54.698Z"
   },
   {
    "duration": 5,
    "start_time": "2025-05-15T11:41:48.814Z"
   },
   {
    "duration": 8,
    "start_time": "2025-05-15T11:41:54.001Z"
   },
   {
    "duration": 12,
    "start_time": "2025-05-15T11:42:07.059Z"
   },
   {
    "duration": 932,
    "start_time": "2025-05-15T11:50:40.798Z"
   },
   {
    "duration": 7,
    "start_time": "2025-05-15T11:52:12.836Z"
   },
   {
    "duration": 9,
    "start_time": "2025-05-15T11:52:23.364Z"
   },
   {
    "duration": 5,
    "start_time": "2025-05-15T11:52:40.874Z"
   },
   {
    "duration": 12,
    "start_time": "2025-05-15T11:54:09.869Z"
   },
   {
    "duration": 9,
    "start_time": "2025-05-15T11:54:17.750Z"
   },
   {
    "duration": 12,
    "start_time": "2025-05-15T11:54:22.664Z"
   },
   {
    "duration": 11,
    "start_time": "2025-05-15T11:54:44.708Z"
   },
   {
    "duration": 11,
    "start_time": "2025-05-15T11:56:13.664Z"
   },
   {
    "duration": 13,
    "start_time": "2025-05-15T11:56:48.503Z"
   },
   {
    "duration": 9,
    "start_time": "2025-05-15T11:57:00.753Z"
   },
   {
    "duration": 5,
    "start_time": "2025-05-15T11:57:07.377Z"
   },
   {
    "duration": 4,
    "start_time": "2025-05-15T11:57:29.569Z"
   },
   {
    "duration": 8,
    "start_time": "2025-05-15T11:57:40.186Z"
   },
   {
    "duration": 8,
    "start_time": "2025-05-15T11:57:44.464Z"
   },
   {
    "duration": 7,
    "start_time": "2025-05-15T11:58:43.888Z"
   },
   {
    "duration": 8,
    "start_time": "2025-05-15T12:00:15.903Z"
   },
   {
    "duration": 10,
    "start_time": "2025-05-15T12:00:32.414Z"
   },
   {
    "duration": 5,
    "start_time": "2025-05-15T12:00:39.293Z"
   },
   {
    "duration": 7,
    "start_time": "2025-05-15T12:00:45.591Z"
   },
   {
    "duration": 8,
    "start_time": "2025-05-15T12:00:50.239Z"
   },
   {
    "duration": 10,
    "start_time": "2025-05-15T12:01:10.513Z"
   },
   {
    "duration": 1074,
    "start_time": "2025-05-15T12:01:15.568Z"
   },
   {
    "duration": 999,
    "start_time": "2025-05-15T12:01:18.940Z"
   },
   {
    "duration": 8,
    "start_time": "2025-05-15T12:01:21.705Z"
   },
   {
    "duration": 1004,
    "start_time": "2025-05-15T12:01:24.848Z"
   },
   {
    "duration": 11,
    "start_time": "2025-05-15T12:01:29.296Z"
   },
   {
    "duration": 7,
    "start_time": "2025-05-15T12:01:31.381Z"
   },
   {
    "duration": 9,
    "start_time": "2025-05-15T12:02:41.162Z"
   },
   {
    "duration": 796,
    "start_time": "2025-05-15T12:02:47.368Z"
   },
   {
    "duration": 9,
    "start_time": "2025-05-15T12:05:14.254Z"
   },
   {
    "duration": 8,
    "start_time": "2025-05-15T12:05:40.658Z"
   },
   {
    "duration": 10,
    "start_time": "2025-05-15T12:05:59.146Z"
   },
   {
    "duration": 94,
    "start_time": "2025-05-15T12:07:49.600Z"
   },
   {
    "duration": 17,
    "start_time": "2025-05-15T12:08:07.059Z"
   },
   {
    "duration": 3,
    "start_time": "2025-05-15T12:09:32.091Z"
   },
   {
    "duration": 5,
    "start_time": "2025-05-15T12:10:20.851Z"
   },
   {
    "duration": 5,
    "start_time": "2025-05-15T12:12:29.771Z"
   },
   {
    "duration": 123,
    "start_time": "2025-05-15T12:18:53.321Z"
   },
   {
    "duration": 8,
    "start_time": "2025-05-15T12:22:03.486Z"
   },
   {
    "duration": 8,
    "start_time": "2025-05-15T12:25:16.947Z"
   },
   {
    "duration": 9,
    "start_time": "2025-05-15T12:29:15.023Z"
   },
   {
    "duration": 10,
    "start_time": "2025-05-15T12:29:20.059Z"
   },
   {
    "duration": 8,
    "start_time": "2025-05-15T12:29:46.242Z"
   },
   {
    "duration": 8,
    "start_time": "2025-05-15T12:30:21.326Z"
   },
   {
    "duration": 9,
    "start_time": "2025-05-15T15:15:27.473Z"
   },
   {
    "duration": 9,
    "start_time": "2025-05-15T15:26:58.062Z"
   },
   {
    "duration": 79,
    "start_time": "2025-05-15T15:39:40.753Z"
   },
   {
    "duration": 17,
    "start_time": "2025-05-15T15:41:18.930Z"
   },
   {
    "duration": 17,
    "start_time": "2025-05-15T15:43:33.472Z"
   },
   {
    "duration": 9,
    "start_time": "2025-05-15T15:47:09.879Z"
   },
   {
    "duration": 8,
    "start_time": "2025-05-15T15:47:54.881Z"
   },
   {
    "duration": 5,
    "start_time": "2025-05-15T15:48:12.787Z"
   },
   {
    "duration": 8,
    "start_time": "2025-05-15T15:48:17.412Z"
   },
   {
    "duration": 14,
    "start_time": "2025-05-15T15:48:23.158Z"
   },
   {
    "duration": 21,
    "start_time": "2025-05-15T15:48:44.291Z"
   },
   {
    "duration": 7,
    "start_time": "2025-05-15T15:49:13.266Z"
   },
   {
    "duration": 16,
    "start_time": "2025-05-15T15:49:23.433Z"
   },
   {
    "duration": 12,
    "start_time": "2025-05-15T15:52:01.026Z"
   },
   {
    "duration": 11,
    "start_time": "2025-05-15T15:54:17.635Z"
   },
   {
    "duration": 9,
    "start_time": "2025-05-15T15:55:27.425Z"
   },
   {
    "duration": 783,
    "start_time": "2025-05-15T15:56:17.304Z"
   },
   {
    "duration": 744,
    "start_time": "2025-05-15T15:56:20.390Z"
   },
   {
    "duration": 793,
    "start_time": "2025-05-15T15:56:43.821Z"
   },
   {
    "duration": 7,
    "start_time": "2025-05-15T15:56:47.860Z"
   },
   {
    "duration": 10,
    "start_time": "2025-05-15T15:56:57.955Z"
   },
   {
    "duration": 1004,
    "start_time": "2025-05-15T15:57:34.113Z"
   },
   {
    "duration": 7,
    "start_time": "2025-05-15T15:57:57.152Z"
   },
   {
    "duration": 6,
    "start_time": "2025-05-15T15:58:08.530Z"
   },
   {
    "duration": 12,
    "start_time": "2025-05-15T15:58:25.500Z"
   },
   {
    "duration": 9,
    "start_time": "2025-05-15T15:58:31.606Z"
   },
   {
    "duration": 10,
    "start_time": "2025-05-15T15:58:40.664Z"
   },
   {
    "duration": 11,
    "start_time": "2025-05-15T15:59:04.792Z"
   },
   {
    "duration": 14,
    "start_time": "2025-05-15T16:01:45.885Z"
   },
   {
    "duration": 11,
    "start_time": "2025-05-15T16:02:29.026Z"
   },
   {
    "duration": 12,
    "start_time": "2025-05-15T16:02:30.695Z"
   },
   {
    "duration": 4,
    "start_time": "2025-05-15T16:02:51.642Z"
   },
   {
    "duration": 5,
    "start_time": "2025-05-15T16:02:55.818Z"
   },
   {
    "duration": 14,
    "start_time": "2025-05-15T16:03:16.964Z"
   },
   {
    "duration": 11,
    "start_time": "2025-05-15T16:03:24.402Z"
   },
   {
    "duration": 20,
    "start_time": "2025-05-15T16:03:32.631Z"
   },
   {
    "duration": 250,
    "start_time": "2025-05-15T16:03:52.545Z"
   },
   {
    "duration": 6,
    "start_time": "2025-05-15T16:04:07.207Z"
   },
   {
    "duration": 336,
    "start_time": "2025-05-15T16:07:03.263Z"
   },
   {
    "duration": 11,
    "start_time": "2025-05-15T16:08:33.088Z"
   },
   {
    "duration": 11,
    "start_time": "2025-05-15T16:11:08.741Z"
   },
   {
    "duration": 4,
    "start_time": "2025-05-15T16:13:48.261Z"
   },
   {
    "duration": 7,
    "start_time": "2025-05-15T16:13:58.036Z"
   },
   {
    "duration": 9,
    "start_time": "2025-05-15T16:14:35.074Z"
   },
   {
    "duration": 9,
    "start_time": "2025-05-15T16:14:50.129Z"
   },
   {
    "duration": 11,
    "start_time": "2025-05-15T16:15:37.601Z"
   },
   {
    "duration": 15,
    "start_time": "2025-05-15T16:15:44.146Z"
   },
   {
    "duration": 14,
    "start_time": "2025-05-15T16:16:35.792Z"
   },
   {
    "duration": 11,
    "start_time": "2025-05-15T16:17:26.759Z"
   },
   {
    "duration": 10,
    "start_time": "2025-05-15T16:17:33.650Z"
   },
   {
    "duration": 14,
    "start_time": "2025-05-15T16:18:44.964Z"
   },
   {
    "duration": 12,
    "start_time": "2025-05-15T16:18:51.439Z"
   },
   {
    "duration": 12,
    "start_time": "2025-05-15T16:18:54.822Z"
   },
   {
    "duration": 12,
    "start_time": "2025-05-15T16:18:56.032Z"
   },
   {
    "duration": 959,
    "start_time": "2025-05-15T16:20:13.563Z"
   },
   {
    "duration": 11,
    "start_time": "2025-05-15T16:20:34.975Z"
   },
   {
    "duration": 12,
    "start_time": "2025-05-15T16:21:31.059Z"
   },
   {
    "duration": 12,
    "start_time": "2025-05-15T16:22:10.713Z"
   },
   {
    "duration": 12,
    "start_time": "2025-05-15T16:22:38.774Z"
   },
   {
    "duration": 15,
    "start_time": "2025-05-15T16:23:56.808Z"
   },
   {
    "duration": 13,
    "start_time": "2025-05-15T16:24:43.667Z"
   },
   {
    "duration": 18,
    "start_time": "2025-05-15T16:24:52.505Z"
   },
   {
    "duration": 12,
    "start_time": "2025-05-15T16:24:55.299Z"
   },
   {
    "duration": 10,
    "start_time": "2025-05-15T16:25:42.974Z"
   },
   {
    "duration": 264,
    "start_time": "2025-05-15T16:26:01.783Z"
   },
   {
    "duration": 245,
    "start_time": "2025-05-15T16:26:35.208Z"
   },
   {
    "duration": 252,
    "start_time": "2025-05-15T16:26:51.492Z"
   },
   {
    "duration": 116,
    "start_time": "2025-05-15T16:27:00.010Z"
   },
   {
    "duration": 111,
    "start_time": "2025-05-15T16:27:47.795Z"
   },
   {
    "duration": 123,
    "start_time": "2025-05-15T16:28:00.957Z"
   },
   {
    "duration": 118,
    "start_time": "2025-05-15T16:28:12.905Z"
   },
   {
    "duration": 134,
    "start_time": "2025-05-15T16:28:20.658Z"
   },
   {
    "duration": 114,
    "start_time": "2025-05-15T16:30:01.064Z"
   },
   {
    "duration": 125,
    "start_time": "2025-05-15T16:30:30.725Z"
   },
   {
    "duration": 239,
    "start_time": "2025-05-15T16:31:28.780Z"
   },
   {
    "duration": 135,
    "start_time": "2025-05-15T16:33:58.417Z"
   },
   {
    "duration": 126,
    "start_time": "2025-05-15T16:34:18.795Z"
   },
   {
    "duration": 140,
    "start_time": "2025-05-15T16:34:22.113Z"
   },
   {
    "duration": 11,
    "start_time": "2025-05-15T16:35:24.058Z"
   },
   {
    "duration": 11,
    "start_time": "2025-05-15T16:35:30.234Z"
   },
   {
    "duration": 11,
    "start_time": "2025-05-15T16:35:32.022Z"
   },
   {
    "duration": 10,
    "start_time": "2025-05-15T16:35:56.422Z"
   },
   {
    "duration": 142,
    "start_time": "2025-05-15T16:36:31.039Z"
   },
   {
    "duration": 12,
    "start_time": "2025-05-15T16:36:32.926Z"
   },
   {
    "duration": 12,
    "start_time": "2025-05-15T16:36:36.929Z"
   },
   {
    "duration": 412,
    "start_time": "2025-05-15T16:36:49.745Z"
   },
   {
    "duration": 1096,
    "start_time": "2025-05-15T16:36:50.160Z"
   },
   {
    "duration": 600,
    "start_time": "2025-05-15T16:36:51.259Z"
   },
   {
    "duration": 39,
    "start_time": "2025-05-15T16:36:51.861Z"
   },
   {
    "duration": 99,
    "start_time": "2025-05-15T16:36:51.902Z"
   },
   {
    "duration": 9,
    "start_time": "2025-05-15T16:36:52.002Z"
   },
   {
    "duration": 821,
    "start_time": "2025-05-15T16:36:52.013Z"
   },
   {
    "duration": 9,
    "start_time": "2025-05-15T16:36:52.835Z"
   },
   {
    "duration": 18,
    "start_time": "2025-05-15T16:36:52.847Z"
   },
   {
    "duration": 532,
    "start_time": "2025-05-15T16:36:52.867Z"
   },
   {
    "duration": 11,
    "start_time": "2025-05-15T16:36:53.401Z"
   },
   {
    "duration": 23,
    "start_time": "2025-05-15T16:36:53.414Z"
   },
   {
    "duration": 36,
    "start_time": "2025-05-15T16:36:53.439Z"
   },
   {
    "duration": 344,
    "start_time": "2025-05-15T16:36:53.476Z"
   },
   {
    "duration": 149,
    "start_time": "2025-05-15T16:36:53.822Z"
   },
   {
    "duration": 48,
    "start_time": "2025-05-15T16:36:53.972Z"
   },
   {
    "duration": 22,
    "start_time": "2025-05-15T16:36:54.022Z"
   },
   {
    "duration": 224,
    "start_time": "2025-05-15T16:36:54.046Z"
   },
   {
    "duration": 426,
    "start_time": "2025-05-15T16:36:54.272Z"
   },
   {
    "duration": 10,
    "start_time": "2025-05-15T16:36:54.700Z"
   },
   {
    "duration": 40,
    "start_time": "2025-05-15T16:36:54.713Z"
   },
   {
    "duration": 86,
    "start_time": "2025-05-15T16:36:54.756Z"
   },
   {
    "duration": 8,
    "start_time": "2025-05-15T16:36:54.843Z"
   },
   {
    "duration": 28,
    "start_time": "2025-05-15T16:36:54.853Z"
   },
   {
    "duration": 135,
    "start_time": "2025-05-15T16:36:54.883Z"
   },
   {
    "duration": 9,
    "start_time": "2025-05-15T16:36:55.020Z"
   },
   {
    "duration": 35,
    "start_time": "2025-05-15T16:36:55.039Z"
   },
   {
    "duration": 33,
    "start_time": "2025-05-15T16:36:55.075Z"
   },
   {
    "duration": 167,
    "start_time": "2025-05-15T16:36:55.109Z"
   },
   {
    "duration": 12,
    "start_time": "2025-05-15T16:36:55.278Z"
   },
   {
    "duration": 112,
    "start_time": "2025-05-15T16:36:55.292Z"
   },
   {
    "duration": 12,
    "start_time": "2025-05-15T16:37:03.819Z"
   },
   {
    "duration": 14,
    "start_time": "2025-05-15T16:37:19.110Z"
   },
   {
    "duration": 135,
    "start_time": "2025-05-15T16:37:38.833Z"
   },
   {
    "duration": 66,
    "start_time": "2025-05-15T16:40:13.777Z"
   },
   {
    "duration": 17,
    "start_time": "2025-05-15T16:42:39.119Z"
   },
   {
    "duration": 12,
    "start_time": "2025-05-15T16:42:43.571Z"
   },
   {
    "duration": 5,
    "start_time": "2025-05-15T16:43:05.548Z"
   },
   {
    "duration": 4,
    "start_time": "2025-05-15T16:44:49.215Z"
   },
   {
    "duration": 13,
    "start_time": "2025-05-15T16:52:33.879Z"
   },
   {
    "duration": 11,
    "start_time": "2025-05-15T16:53:51.464Z"
   },
   {
    "duration": 18,
    "start_time": "2025-05-15T16:55:59.631Z"
   },
   {
    "duration": 17,
    "start_time": "2025-05-15T16:58:44.617Z"
   },
   {
    "duration": 7,
    "start_time": "2025-05-15T17:00:32.460Z"
   },
   {
    "duration": 11,
    "start_time": "2025-05-15T17:00:52.726Z"
   },
   {
    "duration": 12,
    "start_time": "2025-05-15T17:01:20.165Z"
   },
   {
    "duration": 17,
    "start_time": "2025-05-15T17:01:24.551Z"
   },
   {
    "duration": 193,
    "start_time": "2025-05-15T17:06:16.346Z"
   },
   {
    "duration": 140,
    "start_time": "2025-05-15T17:08:26.442Z"
   },
   {
    "duration": 126,
    "start_time": "2025-05-15T17:08:46.034Z"
   },
   {
    "duration": 16,
    "start_time": "2025-05-15T17:09:48.794Z"
   },
   {
    "duration": 125,
    "start_time": "2025-05-15T17:09:53.320Z"
   },
   {
    "duration": 12,
    "start_time": "2025-05-15T17:12:21.793Z"
   },
   {
    "duration": 123,
    "start_time": "2025-05-15T17:13:44.268Z"
   },
   {
    "duration": 164,
    "start_time": "2025-05-15T17:18:22.609Z"
   },
   {
    "duration": 18,
    "start_time": "2025-05-15T17:19:17.363Z"
   },
   {
    "duration": 18,
    "start_time": "2025-05-15T17:19:24.509Z"
   },
   {
    "duration": 108,
    "start_time": "2025-05-15T17:21:10.986Z"
   },
   {
    "duration": 12,
    "start_time": "2025-05-15T17:22:34.769Z"
   },
   {
    "duration": 13,
    "start_time": "2025-05-15T17:22:37.660Z"
   },
   {
    "duration": 110,
    "start_time": "2025-05-15T17:22:40.348Z"
   },
   {
    "duration": 113,
    "start_time": "2025-05-15T17:22:49.683Z"
   },
   {
    "duration": 13,
    "start_time": "2025-05-15T17:23:19.214Z"
   },
   {
    "duration": 106,
    "start_time": "2025-05-15T17:23:20.352Z"
   },
   {
    "duration": 12,
    "start_time": "2025-05-15T17:23:21.787Z"
   },
   {
    "duration": 110,
    "start_time": "2025-05-15T17:23:23.040Z"
   },
   {
    "duration": 189,
    "start_time": "2025-05-15T17:23:59.057Z"
   },
   {
    "duration": 104,
    "start_time": "2025-05-15T17:24:06.903Z"
   },
   {
    "duration": 107,
    "start_time": "2025-05-15T17:24:33.053Z"
   },
   {
    "duration": 106,
    "start_time": "2025-05-15T17:24:45.407Z"
   },
   {
    "duration": 135,
    "start_time": "2025-05-15T17:36:37.640Z"
   },
   {
    "duration": 160,
    "start_time": "2025-05-15T17:41:48.044Z"
   },
   {
    "duration": 292,
    "start_time": "2025-05-15T18:07:55.414Z"
   },
   {
    "duration": 43,
    "start_time": "2025-05-15T18:12:05.923Z"
   },
   {
    "duration": 42,
    "start_time": "2025-05-15T18:12:16.055Z"
   },
   {
    "duration": 248,
    "start_time": "2025-05-15T18:12:26.016Z"
   },
   {
    "duration": 20,
    "start_time": "2025-05-15T18:17:50.337Z"
   },
   {
    "duration": 25,
    "start_time": "2025-05-15T18:17:55.040Z"
   },
   {
    "duration": 29,
    "start_time": "2025-05-15T18:18:22.757Z"
   },
   {
    "duration": 28,
    "start_time": "2025-05-15T18:18:37.515Z"
   },
   {
    "duration": 28,
    "start_time": "2025-05-15T18:19:06.446Z"
   },
   {
    "duration": 27,
    "start_time": "2025-05-15T18:20:57.588Z"
   },
   {
    "duration": 261,
    "start_time": "2025-05-15T18:22:30.419Z"
   },
   {
    "duration": 58,
    "start_time": "2025-05-15T18:24:40.256Z"
   },
   {
    "duration": 260,
    "start_time": "2025-05-15T18:26:11.069Z"
   },
   {
    "duration": 12,
    "start_time": "2025-05-15T18:31:03.514Z"
   },
   {
    "duration": 9,
    "start_time": "2025-05-15T18:31:24.350Z"
   },
   {
    "duration": 8,
    "start_time": "2025-05-15T18:36:04.392Z"
   },
   {
    "duration": 8,
    "start_time": "2025-05-15T18:41:27.652Z"
   },
   {
    "duration": 12,
    "start_time": "2025-05-15T18:41:49.872Z"
   },
   {
    "duration": 12,
    "start_time": "2025-05-15T18:42:25.062Z"
   },
   {
    "duration": 42,
    "start_time": "2025-05-15T18:42:33.128Z"
   },
   {
    "duration": 19,
    "start_time": "2025-05-15T18:42:51.999Z"
   },
   {
    "duration": 13,
    "start_time": "2025-05-15T18:42:58.882Z"
   },
   {
    "duration": 19,
    "start_time": "2025-05-15T18:43:07.892Z"
   },
   {
    "duration": 19,
    "start_time": "2025-05-15T18:44:58.572Z"
   },
   {
    "duration": 19,
    "start_time": "2025-05-15T18:45:43.762Z"
   },
   {
    "duration": 65,
    "start_time": "2025-05-15T18:46:43.253Z"
   },
   {
    "duration": 26,
    "start_time": "2025-05-15T18:46:46.207Z"
   },
   {
    "duration": 29,
    "start_time": "2025-05-15T18:47:14.134Z"
   },
   {
    "duration": 18,
    "start_time": "2025-05-15T18:49:18.471Z"
   },
   {
    "duration": 18,
    "start_time": "2025-05-15T18:49:51.674Z"
   },
   {
    "duration": 17,
    "start_time": "2025-05-15T18:49:58.280Z"
   },
   {
    "duration": 19,
    "start_time": "2025-05-15T18:50:07.507Z"
   },
   {
    "duration": 17,
    "start_time": "2025-05-15T18:51:29.675Z"
   },
   {
    "duration": 4,
    "start_time": "2025-05-15T18:52:33.052Z"
   },
   {
    "duration": 6,
    "start_time": "2025-05-15T18:52:40.697Z"
   },
   {
    "duration": 21,
    "start_time": "2025-05-15T18:54:59.863Z"
   },
   {
    "duration": 6,
    "start_time": "2025-05-15T18:55:28.334Z"
   },
   {
    "duration": 7,
    "start_time": "2025-05-15T18:56:19.637Z"
   },
   {
    "duration": 6,
    "start_time": "2025-05-15T18:56:36.541Z"
   },
   {
    "duration": 6,
    "start_time": "2025-05-15T18:58:16.802Z"
   },
   {
    "duration": 9,
    "start_time": "2025-05-15T19:03:57.644Z"
   },
   {
    "duration": 6,
    "start_time": "2025-05-15T19:04:26.082Z"
   },
   {
    "duration": 6,
    "start_time": "2025-05-15T19:06:33.578Z"
   },
   {
    "duration": 5,
    "start_time": "2025-05-15T19:08:43.206Z"
   },
   {
    "duration": 8,
    "start_time": "2025-05-15T19:30:15.049Z"
   },
   {
    "duration": 7,
    "start_time": "2025-05-15T19:31:29.463Z"
   },
   {
    "duration": 7,
    "start_time": "2025-05-15T19:32:28.437Z"
   },
   {
    "duration": 544,
    "start_time": "2025-05-15T19:36:05.293Z"
   },
   {
    "duration": 369,
    "start_time": "2025-05-15T19:37:29.192Z"
   },
   {
    "duration": 1199,
    "start_time": "2025-05-15T19:37:29.563Z"
   },
   {
    "duration": 688,
    "start_time": "2025-05-15T19:37:30.764Z"
   },
   {
    "duration": 40,
    "start_time": "2025-05-15T19:37:31.455Z"
   },
   {
    "duration": 115,
    "start_time": "2025-05-15T19:37:31.497Z"
   },
   {
    "duration": 21,
    "start_time": "2025-05-15T19:37:31.615Z"
   },
   {
    "duration": 903,
    "start_time": "2025-05-15T19:37:31.639Z"
   },
   {
    "duration": 10,
    "start_time": "2025-05-15T19:37:32.544Z"
   },
   {
    "duration": 70,
    "start_time": "2025-05-15T19:37:32.556Z"
   },
   {
    "duration": 563,
    "start_time": "2025-05-15T19:37:32.629Z"
   },
   {
    "duration": 12,
    "start_time": "2025-05-15T19:37:33.193Z"
   },
   {
    "duration": 11,
    "start_time": "2025-05-15T19:37:33.207Z"
   },
   {
    "duration": 55,
    "start_time": "2025-05-15T19:37:33.220Z"
   },
   {
    "duration": 326,
    "start_time": "2025-05-15T19:37:33.276Z"
   },
   {
    "duration": 152,
    "start_time": "2025-05-15T19:37:33.604Z"
   },
   {
    "duration": 52,
    "start_time": "2025-05-15T19:37:33.758Z"
   },
   {
    "duration": 48,
    "start_time": "2025-05-15T19:37:33.812Z"
   },
   {
    "duration": 239,
    "start_time": "2025-05-15T19:37:33.862Z"
   },
   {
    "duration": 496,
    "start_time": "2025-05-15T19:37:34.102Z"
   },
   {
    "duration": 7,
    "start_time": "2025-05-15T19:37:34.600Z"
   },
   {
    "duration": 55,
    "start_time": "2025-05-15T19:37:34.609Z"
   },
   {
    "duration": 88,
    "start_time": "2025-05-15T19:37:34.666Z"
   },
   {
    "duration": 8,
    "start_time": "2025-05-15T19:37:34.756Z"
   },
   {
    "duration": 15,
    "start_time": "2025-05-15T19:37:34.766Z"
   },
   {
    "duration": 140,
    "start_time": "2025-05-15T19:37:34.784Z"
   },
   {
    "duration": 13,
    "start_time": "2025-05-15T19:37:34.925Z"
   },
   {
    "duration": 28,
    "start_time": "2025-05-15T19:37:34.940Z"
   },
   {
    "duration": 24,
    "start_time": "2025-05-15T19:37:34.971Z"
   },
   {
    "duration": 154,
    "start_time": "2025-05-15T19:37:34.997Z"
   },
   {
    "duration": 13,
    "start_time": "2025-05-15T19:37:35.153Z"
   },
   {
    "duration": 299,
    "start_time": "2025-05-15T19:37:35.169Z"
   },
   {
    "duration": 12,
    "start_time": "2025-05-15T19:37:35.470Z"
   },
   {
    "duration": 19,
    "start_time": "2025-05-15T19:37:35.484Z"
   },
   {
    "duration": 34,
    "start_time": "2025-05-15T19:37:35.504Z"
   },
   {
    "duration": 36,
    "start_time": "2025-05-15T19:37:35.540Z"
   },
   {
    "duration": 136,
    "start_time": "2025-05-15T19:37:35.578Z"
   },
   {
    "duration": 12,
    "start_time": "2025-05-15T19:37:35.716Z"
   },
   {
    "duration": 215,
    "start_time": "2025-05-15T19:37:35.739Z"
   },
   {
    "duration": 266,
    "start_time": "2025-05-15T19:37:35.956Z"
   },
   {
    "duration": 48,
    "start_time": "2025-05-15T19:37:36.224Z"
   },
   {
    "duration": 31,
    "start_time": "2025-05-15T19:37:36.274Z"
   },
   {
    "duration": 296,
    "start_time": "2025-05-15T19:37:36.307Z"
   },
   {
    "duration": 9,
    "start_time": "2025-05-15T19:37:36.605Z"
   },
   {
    "duration": 33,
    "start_time": "2025-05-15T19:37:36.616Z"
   },
   {
    "duration": 22,
    "start_time": "2025-05-15T19:37:36.651Z"
   },
   {
    "duration": 13,
    "start_time": "2025-05-15T19:37:36.675Z"
   },
   {
    "duration": 11,
    "start_time": "2025-05-15T19:37:36.689Z"
   },
   {
    "duration": 19,
    "start_time": "2025-05-15T19:39:35.289Z"
   },
   {
    "duration": 16,
    "start_time": "2025-05-15T19:40:07.525Z"
   },
   {
    "duration": 11,
    "start_time": "2025-05-15T19:54:02.924Z"
   },
   {
    "duration": 119,
    "start_time": "2025-05-15T20:00:12.419Z"
   },
   {
    "duration": 117,
    "start_time": "2025-05-15T20:00:47.939Z"
   },
   {
    "duration": 116,
    "start_time": "2025-05-15T20:01:00.835Z"
   },
   {
    "duration": 115,
    "start_time": "2025-05-15T20:01:10.457Z"
   },
   {
    "duration": 71,
    "start_time": "2025-05-15T20:04:53.727Z"
   },
   {
    "duration": 427,
    "start_time": "2025-05-15T20:25:08.825Z"
   },
   {
    "duration": 1127,
    "start_time": "2025-05-15T20:25:09.254Z"
   },
   {
    "duration": 648,
    "start_time": "2025-05-15T20:25:10.383Z"
   },
   {
    "duration": 44,
    "start_time": "2025-05-15T20:25:11.033Z"
   },
   {
    "duration": 101,
    "start_time": "2025-05-15T20:25:11.081Z"
   },
   {
    "duration": 11,
    "start_time": "2025-05-15T20:25:11.184Z"
   },
   {
    "duration": 854,
    "start_time": "2025-05-15T20:25:11.196Z"
   },
   {
    "duration": 10,
    "start_time": "2025-05-15T20:25:12.053Z"
   },
   {
    "duration": 16,
    "start_time": "2025-05-15T20:25:12.065Z"
   },
   {
    "duration": 537,
    "start_time": "2025-05-15T20:25:12.083Z"
   },
   {
    "duration": 16,
    "start_time": "2025-05-15T20:25:12.622Z"
   },
   {
    "duration": 52,
    "start_time": "2025-05-15T20:25:12.640Z"
   },
   {
    "duration": 37,
    "start_time": "2025-05-15T20:25:12.695Z"
   },
   {
    "duration": 303,
    "start_time": "2025-05-15T20:25:12.736Z"
   },
   {
    "duration": 152,
    "start_time": "2025-05-15T20:25:13.041Z"
   },
   {
    "duration": 54,
    "start_time": "2025-05-15T20:25:13.195Z"
   },
   {
    "duration": 10,
    "start_time": "2025-05-15T20:25:13.251Z"
   },
   {
    "duration": 216,
    "start_time": "2025-05-15T20:25:13.263Z"
   },
   {
    "duration": 444,
    "start_time": "2025-05-15T20:25:13.481Z"
   },
   {
    "duration": 11,
    "start_time": "2025-05-15T20:25:13.927Z"
   },
   {
    "duration": 77,
    "start_time": "2025-05-15T20:25:13.940Z"
   },
   {
    "duration": 38,
    "start_time": "2025-05-15T20:25:14.018Z"
   },
   {
    "duration": 8,
    "start_time": "2025-05-15T20:25:14.057Z"
   },
   {
    "duration": 14,
    "start_time": "2025-05-15T20:25:14.066Z"
   },
   {
    "duration": 154,
    "start_time": "2025-05-15T20:25:14.081Z"
   },
   {
    "duration": 8,
    "start_time": "2025-05-15T20:25:14.237Z"
   },
   {
    "duration": 27,
    "start_time": "2025-05-15T20:25:14.246Z"
   },
   {
    "duration": 13,
    "start_time": "2025-05-15T20:25:14.274Z"
   },
   {
    "duration": 152,
    "start_time": "2025-05-15T20:25:14.288Z"
   },
   {
    "duration": 12,
    "start_time": "2025-05-15T20:25:14.442Z"
   },
   {
    "duration": 156,
    "start_time": "2025-05-15T20:25:14.455Z"
   },
   {
    "duration": 11,
    "start_time": "2025-05-15T20:25:14.613Z"
   },
   {
    "duration": 50,
    "start_time": "2025-05-15T20:25:14.638Z"
   },
   {
    "duration": 46,
    "start_time": "2025-05-15T20:25:14.692Z"
   },
   {
    "duration": 15,
    "start_time": "2025-05-15T20:25:14.740Z"
   },
   {
    "duration": 123,
    "start_time": "2025-05-15T20:25:14.757Z"
   },
   {
    "duration": 12,
    "start_time": "2025-05-15T20:25:14.882Z"
   },
   {
    "duration": 196,
    "start_time": "2025-05-15T20:25:14.896Z"
   },
   {
    "duration": 279,
    "start_time": "2025-05-15T20:25:15.093Z"
   },
   {
    "duration": 44,
    "start_time": "2025-05-15T20:25:15.373Z"
   },
   {
    "duration": 40,
    "start_time": "2025-05-15T20:25:15.421Z"
   },
   {
    "duration": 284,
    "start_time": "2025-05-15T20:25:15.463Z"
   },
   {
    "duration": 8,
    "start_time": "2025-05-15T20:25:15.749Z"
   },
   {
    "duration": 28,
    "start_time": "2025-05-15T20:25:15.759Z"
   },
   {
    "duration": 23,
    "start_time": "2025-05-15T20:25:15.789Z"
   },
   {
    "duration": 6,
    "start_time": "2025-05-15T20:25:15.813Z"
   },
   {
    "duration": 24,
    "start_time": "2025-05-15T20:25:15.821Z"
   },
   {
    "duration": 432,
    "start_time": "2025-05-16T06:22:27.004Z"
   },
   {
    "duration": 1172,
    "start_time": "2025-05-16T06:22:27.438Z"
   },
   {
    "duration": 641,
    "start_time": "2025-05-16T06:22:28.612Z"
   },
   {
    "duration": 56,
    "start_time": "2025-05-16T06:22:29.255Z"
   },
   {
    "duration": 102,
    "start_time": "2025-05-16T06:22:29.312Z"
   },
   {
    "duration": 11,
    "start_time": "2025-05-16T06:22:29.416Z"
   },
   {
    "duration": 966,
    "start_time": "2025-05-16T06:22:29.428Z"
   },
   {
    "duration": 9,
    "start_time": "2025-05-16T06:22:30.396Z"
   },
   {
    "duration": 287,
    "start_time": "2025-05-16T06:22:30.406Z"
   },
   {
    "duration": 674,
    "start_time": "2025-05-16T06:22:30.696Z"
   },
   {
    "duration": 12,
    "start_time": "2025-05-16T06:22:31.372Z"
   },
   {
    "duration": 55,
    "start_time": "2025-05-16T06:22:31.386Z"
   },
   {
    "duration": 68,
    "start_time": "2025-05-16T06:22:31.443Z"
   },
   {
    "duration": 340,
    "start_time": "2025-05-16T06:22:31.512Z"
   },
   {
    "duration": 266,
    "start_time": "2025-05-16T06:22:31.854Z"
   },
   {
    "duration": 103,
    "start_time": "2025-05-16T06:22:32.122Z"
   },
   {
    "duration": 10,
    "start_time": "2025-05-16T06:22:32.227Z"
   },
   {
    "duration": 477,
    "start_time": "2025-05-16T06:22:32.238Z"
   },
   {
    "duration": 726,
    "start_time": "2025-05-16T06:22:32.717Z"
   },
   {
    "duration": 62,
    "start_time": "2025-05-16T06:22:33.445Z"
   },
   {
    "duration": 246,
    "start_time": "2025-05-16T06:22:33.508Z"
   },
   {
    "duration": 62,
    "start_time": "2025-05-16T06:22:33.755Z"
   },
   {
    "duration": 7,
    "start_time": "2025-05-16T06:22:33.819Z"
   },
   {
    "duration": 36,
    "start_time": "2025-05-16T06:22:33.828Z"
   },
   {
    "duration": 187,
    "start_time": "2025-05-16T06:22:33.867Z"
   },
   {
    "duration": 10,
    "start_time": "2025-05-16T06:22:34.056Z"
   },
   {
    "duration": 17,
    "start_time": "2025-05-16T06:22:34.068Z"
   },
   {
    "duration": 23,
    "start_time": "2025-05-16T06:22:34.090Z"
   },
   {
    "duration": 161,
    "start_time": "2025-05-16T06:22:34.115Z"
   },
   {
    "duration": 13,
    "start_time": "2025-05-16T06:22:34.278Z"
   },
   {
    "duration": 167,
    "start_time": "2025-05-16T06:22:34.306Z"
   },
   {
    "duration": 12,
    "start_time": "2025-05-16T06:22:34.475Z"
   },
   {
    "duration": 190,
    "start_time": "2025-05-16T06:22:34.489Z"
   },
   {
    "duration": 64,
    "start_time": "2025-05-16T06:22:34.680Z"
   },
   {
    "duration": 42,
    "start_time": "2025-05-16T06:22:34.746Z"
   },
   {
    "duration": 207,
    "start_time": "2025-05-16T06:22:34.790Z"
   },
   {
    "duration": 13,
    "start_time": "2025-05-16T06:22:34.999Z"
   },
   {
    "duration": 255,
    "start_time": "2025-05-16T06:22:35.013Z"
   },
   {
    "duration": 300,
    "start_time": "2025-05-16T06:22:35.270Z"
   },
   {
    "duration": 53,
    "start_time": "2025-05-16T06:22:35.571Z"
   },
   {
    "duration": 136,
    "start_time": "2025-05-16T06:22:35.626Z"
   },
   {
    "duration": 297,
    "start_time": "2025-05-16T06:22:35.763Z"
   },
   {
    "duration": 15,
    "start_time": "2025-05-16T06:22:36.063Z"
   },
   {
    "duration": 101,
    "start_time": "2025-05-16T06:22:36.080Z"
   },
   {
    "duration": 85,
    "start_time": "2025-05-16T06:22:36.183Z"
   },
   {
    "duration": 88,
    "start_time": "2025-05-16T06:22:36.270Z"
   },
   {
    "duration": 33,
    "start_time": "2025-05-16T06:22:36.360Z"
   },
   {
    "duration": 52,
    "start_time": "2025-05-16T08:26:34.931Z"
   },
   {
    "duration": 8,
    "start_time": "2025-05-16T08:34:02.880Z"
   },
   {
    "duration": 1130,
    "start_time": "2025-05-16T12:08:05.121Z"
   },
   {
    "duration": 1094,
    "start_time": "2025-05-16T12:08:06.253Z"
   },
   {
    "duration": 667,
    "start_time": "2025-05-16T12:08:07.349Z"
   },
   {
    "duration": 52,
    "start_time": "2025-05-16T12:08:08.019Z"
   },
   {
    "duration": 118,
    "start_time": "2025-05-16T12:08:08.074Z"
   },
   {
    "duration": 11,
    "start_time": "2025-05-16T12:08:08.194Z"
   },
   {
    "duration": 607,
    "start_time": "2025-05-16T12:08:08.206Z"
   },
   {
    "duration": 10,
    "start_time": "2025-05-16T12:08:08.816Z"
   },
   {
    "duration": 314,
    "start_time": "2025-05-16T12:08:08.827Z"
   },
   {
    "duration": 626,
    "start_time": "2025-05-16T12:08:09.145Z"
   },
   {
    "duration": 13,
    "start_time": "2025-05-16T12:08:09.773Z"
   },
   {
    "duration": 139,
    "start_time": "2025-05-16T12:08:09.787Z"
   },
   {
    "duration": 85,
    "start_time": "2025-05-16T12:08:09.928Z"
   },
   {
    "duration": 306,
    "start_time": "2025-05-16T12:08:10.015Z"
   },
   {
    "duration": 155,
    "start_time": "2025-05-16T12:08:10.323Z"
   },
   {
    "duration": 205,
    "start_time": "2025-05-16T12:08:10.480Z"
   },
   {
    "duration": 4,
    "start_time": "2025-05-16T12:08:10.686Z"
   },
   {
    "duration": 201,
    "start_time": "2025-05-16T12:08:10.691Z"
   },
   {
    "duration": 14,
    "start_time": "2025-05-16T12:08:10.894Z"
   },
   {
    "duration": 17,
    "start_time": "2025-05-16T12:08:10.910Z"
   },
   {
    "duration": 12,
    "start_time": "2025-05-16T12:08:10.929Z"
   },
   {
    "duration": 47,
    "start_time": "2025-05-16T12:08:10.943Z"
   },
   {
    "duration": 135,
    "start_time": "2025-05-16T12:08:10.991Z"
   },
   {
    "duration": 9,
    "start_time": "2025-05-16T12:08:11.128Z"
   },
   {
    "duration": 124,
    "start_time": "2025-05-16T12:08:11.138Z"
   },
   {
    "duration": 8,
    "start_time": "2025-05-16T12:08:11.264Z"
   },
   {
    "duration": 29,
    "start_time": "2025-05-16T12:08:11.273Z"
   },
   {
    "duration": 116,
    "start_time": "2025-05-16T12:08:11.305Z"
   },
   {
    "duration": 21,
    "start_time": "2025-05-16T12:08:11.423Z"
   },
   {
    "duration": 185,
    "start_time": "2025-05-16T12:08:11.446Z"
   },
   {
    "duration": 12,
    "start_time": "2025-05-16T12:08:11.632Z"
   },
   {
    "duration": 226,
    "start_time": "2025-05-16T12:08:11.661Z"
   },
   {
    "duration": 35,
    "start_time": "2025-05-16T12:08:11.889Z"
   },
   {
    "duration": 30,
    "start_time": "2025-05-16T12:08:11.926Z"
   },
   {
    "duration": 32,
    "start_time": "2025-05-16T12:08:11.957Z"
   },
   {
    "duration": 23,
    "start_time": "2025-05-16T12:08:11.990Z"
   },
   {
    "duration": 135,
    "start_time": "2025-05-16T12:08:12.014Z"
   },
   {
    "duration": 16,
    "start_time": "2025-05-16T12:08:12.151Z"
   },
   {
    "duration": 215,
    "start_time": "2025-05-16T12:08:12.169Z"
   },
   {
    "duration": 252,
    "start_time": "2025-05-16T12:08:12.386Z"
   },
   {
    "duration": 44,
    "start_time": "2025-05-16T12:08:12.639Z"
   },
   {
    "duration": 37,
    "start_time": "2025-05-16T12:08:12.685Z"
   },
   {
    "duration": 269,
    "start_time": "2025-05-16T12:08:12.723Z"
   },
   {
    "duration": 7,
    "start_time": "2025-05-16T12:08:12.994Z"
   },
   {
    "duration": 142,
    "start_time": "2025-05-16T12:08:13.002Z"
   },
   {
    "duration": 20,
    "start_time": "2025-05-16T12:08:13.145Z"
   },
   {
    "duration": 7,
    "start_time": "2025-05-16T12:08:13.167Z"
   },
   {
    "duration": 66,
    "start_time": "2025-05-16T12:08:13.175Z"
   },
   {
    "duration": 19,
    "start_time": "2025-05-16T12:08:13.244Z"
   },
   {
    "duration": 1355,
    "start_time": "2025-05-16T17:49:07.927Z"
   },
   {
    "duration": 1285,
    "start_time": "2025-05-16T17:49:09.284Z"
   },
   {
    "duration": 741,
    "start_time": "2025-05-16T17:49:10.578Z"
   },
   {
    "duration": 58,
    "start_time": "2025-05-16T17:49:11.321Z"
   },
   {
    "duration": 121,
    "start_time": "2025-05-16T17:49:11.382Z"
   },
   {
    "duration": 11,
    "start_time": "2025-05-16T17:49:11.505Z"
   },
   {
    "duration": 743,
    "start_time": "2025-05-16T17:49:11.518Z"
   },
   {
    "duration": 9,
    "start_time": "2025-05-16T17:49:12.263Z"
   },
   {
    "duration": 17,
    "start_time": "2025-05-16T17:49:12.274Z"
   },
   {
    "duration": 675,
    "start_time": "2025-05-16T17:49:12.293Z"
   },
   {
    "duration": 16,
    "start_time": "2025-05-16T17:49:12.975Z"
   },
   {
    "duration": 9,
    "start_time": "2025-05-16T17:49:12.993Z"
   },
   {
    "duration": 73,
    "start_time": "2025-05-16T17:49:13.004Z"
   },
   {
    "duration": 369,
    "start_time": "2025-05-16T17:49:13.079Z"
   },
   {
    "duration": 316,
    "start_time": "2025-05-16T17:49:13.450Z"
   },
   {
    "duration": 119,
    "start_time": "2025-05-16T17:49:13.768Z"
   },
   {
    "duration": 5,
    "start_time": "2025-05-16T17:49:13.890Z"
   },
   {
    "duration": 567,
    "start_time": "2025-05-16T17:49:13.898Z"
   },
   {
    "duration": 21,
    "start_time": "2025-05-16T17:49:14.467Z"
   },
   {
    "duration": 9,
    "start_time": "2025-05-16T17:49:14.490Z"
   },
   {
    "duration": 60,
    "start_time": "2025-05-16T17:49:14.501Z"
   },
   {
    "duration": 99,
    "start_time": "2025-05-16T17:49:14.564Z"
   },
   {
    "duration": 18,
    "start_time": "2025-05-16T17:49:14.665Z"
   },
   {
    "duration": 6,
    "start_time": "2025-05-16T17:49:14.685Z"
   },
   {
    "duration": 379,
    "start_time": "2025-05-16T17:49:14.693Z"
   },
   {
    "duration": 10,
    "start_time": "2025-05-16T17:49:15.079Z"
   },
   {
    "duration": 99,
    "start_time": "2025-05-16T17:49:15.091Z"
   },
   {
    "duration": 20,
    "start_time": "2025-05-16T17:49:15.194Z"
   },
   {
    "duration": 23,
    "start_time": "2025-05-16T17:49:15.261Z"
   },
   {
    "duration": 278,
    "start_time": "2025-05-16T17:49:15.286Z"
   },
   {
    "duration": 19,
    "start_time": "2025-05-16T17:49:15.567Z"
   },
   {
    "duration": 327,
    "start_time": "2025-05-16T17:49:15.589Z"
   },
   {
    "duration": 13,
    "start_time": "2025-05-16T17:49:15.918Z"
   },
   {
    "duration": 67,
    "start_time": "2025-05-16T17:49:15.933Z"
   },
   {
    "duration": 21,
    "start_time": "2025-05-16T17:49:16.002Z"
   },
   {
    "duration": 19,
    "start_time": "2025-05-16T17:49:16.026Z"
   },
   {
    "duration": 137,
    "start_time": "2025-05-16T17:49:16.047Z"
   },
   {
    "duration": 13,
    "start_time": "2025-05-16T17:49:16.186Z"
   },
   {
    "duration": 219,
    "start_time": "2025-05-16T17:49:16.201Z"
   },
   {
    "duration": 313,
    "start_time": "2025-05-16T17:49:16.422Z"
   },
   {
    "duration": 57,
    "start_time": "2025-05-16T17:49:16.737Z"
   },
   {
    "duration": 30,
    "start_time": "2025-05-16T17:49:16.796Z"
   },
   {
    "duration": 352,
    "start_time": "2025-05-16T17:49:16.828Z"
   },
   {
    "duration": 9,
    "start_time": "2025-05-16T17:49:17.183Z"
   },
   {
    "duration": 15,
    "start_time": "2025-05-16T17:49:17.194Z"
   },
   {
    "duration": 20,
    "start_time": "2025-05-16T17:49:17.211Z"
   },
   {
    "duration": 17,
    "start_time": "2025-05-16T17:49:17.261Z"
   },
   {
    "duration": 59,
    "start_time": "2025-05-16T17:49:17.280Z"
   },
   {
    "duration": 25,
    "start_time": "2025-05-16T17:49:17.341Z"
   },
   {
    "duration": 79,
    "start_time": "2025-05-16T17:58:31.452Z"
   },
   {
    "duration": 5,
    "start_time": "2025-05-16T17:58:53.336Z"
   },
   {
    "duration": 5,
    "start_time": "2025-05-16T17:59:02.932Z"
   },
   {
    "duration": 73,
    "start_time": "2025-05-16T20:10:34.783Z"
   },
   {
    "duration": 1581,
    "start_time": "2025-05-16T20:10:52.400Z"
   },
   {
    "duration": 1399,
    "start_time": "2025-05-16T20:10:53.986Z"
   },
   {
    "duration": 748,
    "start_time": "2025-05-16T20:10:55.387Z"
   },
   {
    "duration": 56,
    "start_time": "2025-05-16T20:10:56.136Z"
   },
   {
    "duration": 132,
    "start_time": "2025-05-16T20:10:56.198Z"
   },
   {
    "duration": 11,
    "start_time": "2025-05-16T20:10:56.332Z"
   },
   {
    "duration": 796,
    "start_time": "2025-05-16T20:10:56.345Z"
   },
   {
    "duration": 9,
    "start_time": "2025-05-16T20:10:57.142Z"
   },
   {
    "duration": 49,
    "start_time": "2025-05-16T20:10:57.152Z"
   },
   {
    "duration": 661,
    "start_time": "2025-05-16T20:10:57.203Z"
   },
   {
    "duration": 24,
    "start_time": "2025-05-16T20:10:57.865Z"
   },
   {
    "duration": 14,
    "start_time": "2025-05-16T20:10:57.891Z"
   },
   {
    "duration": 41,
    "start_time": "2025-05-16T20:10:57.912Z"
   },
   {
    "duration": 403,
    "start_time": "2025-05-16T20:10:57.956Z"
   },
   {
    "duration": 211,
    "start_time": "2025-05-16T20:10:58.361Z"
   },
   {
    "duration": 73,
    "start_time": "2025-05-16T20:10:58.577Z"
   },
   {
    "duration": 4,
    "start_time": "2025-05-16T20:10:58.653Z"
   },
   {
    "duration": 357,
    "start_time": "2025-05-16T20:10:58.658Z"
   },
   {
    "duration": 21,
    "start_time": "2025-05-16T20:10:59.017Z"
   },
   {
    "duration": 20,
    "start_time": "2025-05-16T20:10:59.040Z"
   },
   {
    "duration": 20,
    "start_time": "2025-05-16T20:10:59.061Z"
   },
   {
    "duration": 178,
    "start_time": "2025-05-16T20:10:59.086Z"
   },
   {
    "duration": 22,
    "start_time": "2025-05-16T20:10:59.266Z"
   },
   {
    "duration": 84,
    "start_time": "2025-05-16T20:10:59.290Z"
   },
   {
    "duration": 201,
    "start_time": "2025-05-16T20:10:59.376Z"
   },
   {
    "duration": 11,
    "start_time": "2025-05-16T20:10:59.580Z"
   },
   {
    "duration": 22,
    "start_time": "2025-05-16T20:10:59.593Z"
   },
   {
    "duration": 23,
    "start_time": "2025-05-16T20:10:59.619Z"
   },
   {
    "duration": 38,
    "start_time": "2025-05-16T20:10:59.645Z"
   },
   {
    "duration": 188,
    "start_time": "2025-05-16T20:10:59.686Z"
   },
   {
    "duration": 31,
    "start_time": "2025-05-16T20:10:59.875Z"
   },
   {
    "duration": 181,
    "start_time": "2025-05-16T20:10:59.908Z"
   },
   {
    "duration": 16,
    "start_time": "2025-05-16T20:11:00.098Z"
   },
   {
    "duration": 191,
    "start_time": "2025-05-16T20:11:00.117Z"
   },
   {
    "duration": 84,
    "start_time": "2025-05-16T20:11:00.311Z"
   },
   {
    "duration": 90,
    "start_time": "2025-05-16T20:11:00.397Z"
   },
   {
    "duration": 245,
    "start_time": "2025-05-16T20:11:00.490Z"
   },
   {
    "duration": 14,
    "start_time": "2025-05-16T20:11:00.737Z"
   },
   {
    "duration": 275,
    "start_time": "2025-05-16T20:11:00.753Z"
   },
   {
    "duration": 317,
    "start_time": "2025-05-16T20:11:01.031Z"
   },
   {
    "duration": 72,
    "start_time": "2025-05-16T20:11:01.352Z"
   },
   {
    "duration": 106,
    "start_time": "2025-05-16T20:11:01.426Z"
   },
   {
    "duration": 398,
    "start_time": "2025-05-16T20:11:01.534Z"
   },
   {
    "duration": 9,
    "start_time": "2025-05-16T20:11:01.934Z"
   },
   {
    "duration": 269,
    "start_time": "2025-05-16T20:11:01.945Z"
   },
   {
    "duration": 68,
    "start_time": "2025-05-16T20:11:02.216Z"
   },
   {
    "duration": 75,
    "start_time": "2025-05-16T20:11:02.285Z"
   },
   {
    "duration": 111,
    "start_time": "2025-05-16T20:11:02.361Z"
   },
   {
    "duration": 11,
    "start_time": "2025-05-16T20:11:02.474Z"
   },
   {
    "duration": 74,
    "start_time": "2025-05-16T20:11:26.049Z"
   },
   {
    "duration": 75,
    "start_time": "2025-05-16T20:13:53.229Z"
   },
   {
    "duration": 10,
    "start_time": "2025-05-16T20:14:10.388Z"
   },
   {
    "duration": 7,
    "start_time": "2025-05-16T20:15:15.406Z"
   },
   {
    "duration": 7,
    "start_time": "2025-05-16T20:16:11.813Z"
   },
   {
    "duration": 10,
    "start_time": "2025-05-16T20:27:46.484Z"
   },
   {
    "duration": 70,
    "start_time": "2025-05-16T20:27:49.658Z"
   },
   {
    "duration": 7,
    "start_time": "2025-05-16T20:33:30.917Z"
   },
   {
    "duration": 6,
    "start_time": "2025-05-16T20:33:35.572Z"
   },
   {
    "duration": 6,
    "start_time": "2025-05-16T20:33:46.911Z"
   },
   {
    "duration": 1160,
    "start_time": "2025-05-16T20:47:13.438Z"
   },
   {
    "duration": 1196,
    "start_time": "2025-05-16T20:47:14.600Z"
   },
   {
    "duration": 679,
    "start_time": "2025-05-16T20:47:15.798Z"
   },
   {
    "duration": 44,
    "start_time": "2025-05-16T20:47:16.479Z"
   },
   {
    "duration": 122,
    "start_time": "2025-05-16T20:47:16.524Z"
   },
   {
    "duration": 11,
    "start_time": "2025-05-16T20:47:16.647Z"
   },
   {
    "duration": 654,
    "start_time": "2025-05-16T20:47:16.675Z"
   },
   {
    "duration": 9,
    "start_time": "2025-05-16T20:47:17.331Z"
   },
   {
    "duration": 156,
    "start_time": "2025-05-16T20:47:17.341Z"
   },
   {
    "duration": 589,
    "start_time": "2025-05-16T20:47:17.500Z"
   },
   {
    "duration": 12,
    "start_time": "2025-05-16T20:47:18.091Z"
   },
   {
    "duration": 82,
    "start_time": "2025-05-16T20:47:18.105Z"
   },
   {
    "duration": 194,
    "start_time": "2025-05-16T20:47:18.189Z"
   },
   {
    "duration": 343,
    "start_time": "2025-05-16T20:47:18.385Z"
   },
   {
    "duration": 159,
    "start_time": "2025-05-16T20:47:18.730Z"
   },
   {
    "duration": 51,
    "start_time": "2025-05-16T20:47:18.891Z"
   },
   {
    "duration": 4,
    "start_time": "2025-05-16T20:47:18.945Z"
   },
   {
    "duration": 213,
    "start_time": "2025-05-16T20:47:18.951Z"
   },
   {
    "duration": 20,
    "start_time": "2025-05-16T20:47:19.166Z"
   },
   {
    "duration": 99,
    "start_time": "2025-05-16T20:47:19.188Z"
   },
   {
    "duration": 52,
    "start_time": "2025-05-16T20:47:19.289Z"
   },
   {
    "duration": 39,
    "start_time": "2025-05-16T20:47:19.343Z"
   },
   {
    "duration": 51,
    "start_time": "2025-05-16T20:47:19.384Z"
   },
   {
    "duration": 31,
    "start_time": "2025-05-16T20:47:19.437Z"
   },
   {
    "duration": 133,
    "start_time": "2025-05-16T20:47:19.470Z"
   },
   {
    "duration": 8,
    "start_time": "2025-05-16T20:47:19.604Z"
   },
   {
    "duration": 52,
    "start_time": "2025-05-16T20:47:19.614Z"
   },
   {
    "duration": 11,
    "start_time": "2025-05-16T20:47:19.670Z"
   },
   {
    "duration": 13,
    "start_time": "2025-05-16T20:47:19.682Z"
   },
   {
    "duration": 159,
    "start_time": "2025-05-16T20:47:19.696Z"
   },
   {
    "duration": 19,
    "start_time": "2025-05-16T20:47:19.857Z"
   },
   {
    "duration": 147,
    "start_time": "2025-05-16T20:47:19.878Z"
   },
   {
    "duration": 13,
    "start_time": "2025-05-16T20:47:20.026Z"
   },
   {
    "duration": 32,
    "start_time": "2025-05-16T20:47:20.041Z"
   },
   {
    "duration": 18,
    "start_time": "2025-05-16T20:47:20.074Z"
   },
   {
    "duration": 12,
    "start_time": "2025-05-16T20:47:20.094Z"
   },
   {
    "duration": 143,
    "start_time": "2025-05-16T20:47:20.107Z"
   },
   {
    "duration": 13,
    "start_time": "2025-05-16T20:47:20.251Z"
   },
   {
    "duration": 230,
    "start_time": "2025-05-16T20:47:20.277Z"
   },
   {
    "duration": 268,
    "start_time": "2025-05-16T20:47:20.509Z"
   },
   {
    "duration": 44,
    "start_time": "2025-05-16T20:47:20.779Z"
   },
   {
    "duration": 27,
    "start_time": "2025-05-16T20:47:20.825Z"
   },
   {
    "duration": 294,
    "start_time": "2025-05-16T20:47:20.854Z"
   },
   {
    "duration": 8,
    "start_time": "2025-05-16T20:47:21.150Z"
   },
   {
    "duration": 162,
    "start_time": "2025-05-16T20:47:21.160Z"
   },
   {
    "duration": 157,
    "start_time": "2025-05-16T20:47:21.324Z"
   },
   {
    "duration": 41,
    "start_time": "2025-05-16T20:47:21.482Z"
   },
   {
    "duration": 78,
    "start_time": "2025-05-16T20:47:21.525Z"
   },
   {
    "duration": 6,
    "start_time": "2025-05-16T20:47:21.605Z"
   },
   {
    "duration": 54,
    "start_time": "2025-05-16T20:47:27.809Z"
   },
   {
    "duration": 7,
    "start_time": "2025-05-16T20:47:30.346Z"
   },
   {
    "duration": 1207,
    "start_time": "2025-05-16T20:50:47.884Z"
   },
   {
    "duration": 1205,
    "start_time": "2025-05-16T20:50:49.093Z"
   },
   {
    "duration": 673,
    "start_time": "2025-05-16T20:50:50.299Z"
   },
   {
    "duration": 43,
    "start_time": "2025-05-16T20:50:50.977Z"
   },
   {
    "duration": 181,
    "start_time": "2025-05-16T20:50:51.022Z"
   },
   {
    "duration": 11,
    "start_time": "2025-05-16T20:50:51.204Z"
   },
   {
    "duration": 756,
    "start_time": "2025-05-16T20:50:51.217Z"
   },
   {
    "duration": 8,
    "start_time": "2025-05-16T20:50:51.975Z"
   },
   {
    "duration": 63,
    "start_time": "2025-05-16T20:50:51.985Z"
   },
   {
    "duration": 607,
    "start_time": "2025-05-16T20:50:52.052Z"
   },
   {
    "duration": 19,
    "start_time": "2025-05-16T20:50:52.660Z"
   },
   {
    "duration": 41,
    "start_time": "2025-05-16T20:50:52.681Z"
   },
   {
    "duration": 58,
    "start_time": "2025-05-16T20:50:52.724Z"
   },
   {
    "duration": 325,
    "start_time": "2025-05-16T20:50:52.783Z"
   },
   {
    "duration": 163,
    "start_time": "2025-05-16T20:50:53.110Z"
   },
   {
    "duration": 52,
    "start_time": "2025-05-16T20:50:53.274Z"
   },
   {
    "duration": 4,
    "start_time": "2025-05-16T20:50:53.327Z"
   },
   {
    "duration": 216,
    "start_time": "2025-05-16T20:50:53.332Z"
   },
   {
    "duration": 31,
    "start_time": "2025-05-16T20:50:53.549Z"
   },
   {
    "duration": 7,
    "start_time": "2025-05-16T20:50:53.582Z"
   },
   {
    "duration": 74,
    "start_time": "2025-05-16T20:50:53.592Z"
   },
   {
    "duration": 187,
    "start_time": "2025-05-16T20:50:53.669Z"
   },
   {
    "duration": 66,
    "start_time": "2025-05-16T20:50:53.858Z"
   },
   {
    "duration": 38,
    "start_time": "2025-05-16T20:50:53.926Z"
   },
   {
    "duration": 151,
    "start_time": "2025-05-16T20:50:53.966Z"
   },
   {
    "duration": 10,
    "start_time": "2025-05-16T20:50:54.119Z"
   },
   {
    "duration": 160,
    "start_time": "2025-05-16T20:50:54.131Z"
   },
   {
    "duration": 21,
    "start_time": "2025-05-16T20:50:54.295Z"
   },
   {
    "duration": 14,
    "start_time": "2025-05-16T20:50:54.317Z"
   },
   {
    "duration": 167,
    "start_time": "2025-05-16T20:50:54.332Z"
   },
   {
    "duration": 12,
    "start_time": "2025-05-16T20:50:54.501Z"
   },
   {
    "duration": 169,
    "start_time": "2025-05-16T20:50:54.515Z"
   },
   {
    "duration": 12,
    "start_time": "2025-05-16T20:50:54.686Z"
   },
   {
    "duration": 80,
    "start_time": "2025-05-16T20:50:54.699Z"
   },
   {
    "duration": 66,
    "start_time": "2025-05-16T20:50:54.781Z"
   },
   {
    "duration": 40,
    "start_time": "2025-05-16T20:50:54.849Z"
   },
   {
    "duration": 347,
    "start_time": "2025-05-16T20:50:54.891Z"
   },
   {
    "duration": 106,
    "start_time": "2025-05-16T20:50:55.240Z"
   },
   {
    "duration": 335,
    "start_time": "2025-05-16T20:50:55.348Z"
   },
   {
    "duration": 296,
    "start_time": "2025-05-16T20:50:55.685Z"
   },
   {
    "duration": 44,
    "start_time": "2025-05-16T20:50:55.983Z"
   },
   {
    "duration": 47,
    "start_time": "2025-05-16T20:50:56.029Z"
   },
   {
    "duration": 340,
    "start_time": "2025-05-16T20:50:56.079Z"
   },
   {
    "duration": 8,
    "start_time": "2025-05-16T20:50:56.421Z"
   },
   {
    "duration": 19,
    "start_time": "2025-05-16T20:50:56.431Z"
   },
   {
    "duration": 38,
    "start_time": "2025-05-16T20:50:56.452Z"
   },
   {
    "duration": 9,
    "start_time": "2025-05-16T20:50:56.491Z"
   },
   {
    "duration": 87,
    "start_time": "2025-05-16T20:50:56.502Z"
   },
   {
    "duration": 8,
    "start_time": "2025-05-16T20:50:56.590Z"
   },
   {
    "duration": 1121,
    "start_time": "2025-05-17T14:26:23.141Z"
   },
   {
    "duration": 1026,
    "start_time": "2025-05-17T14:26:24.263Z"
   },
   {
    "duration": 548,
    "start_time": "2025-05-17T14:26:25.291Z"
   },
   {
    "duration": 46,
    "start_time": "2025-05-17T14:26:25.841Z"
   },
   {
    "duration": 96,
    "start_time": "2025-05-17T14:26:25.888Z"
   },
   {
    "duration": 9,
    "start_time": "2025-05-17T14:26:25.986Z"
   },
   {
    "duration": 596,
    "start_time": "2025-05-17T14:26:25.996Z"
   },
   {
    "duration": 8,
    "start_time": "2025-05-17T14:26:26.594Z"
   },
   {
    "duration": 13,
    "start_time": "2025-05-17T14:26:26.604Z"
   },
   {
    "duration": 957,
    "start_time": "2025-05-17T14:26:26.620Z"
   },
   {
    "duration": 12,
    "start_time": "2025-05-17T14:26:27.581Z"
   },
   {
    "duration": 89,
    "start_time": "2025-05-17T14:26:27.595Z"
   },
   {
    "duration": 95,
    "start_time": "2025-05-17T14:26:27.685Z"
   },
   {
    "duration": 525,
    "start_time": "2025-05-17T14:26:27.782Z"
   },
   {
    "duration": 245,
    "start_time": "2025-05-17T14:26:28.309Z"
   },
   {
    "duration": 70,
    "start_time": "2025-05-17T14:26:28.555Z"
   },
   {
    "duration": 4,
    "start_time": "2025-05-17T14:26:28.627Z"
   },
   {
    "duration": 206,
    "start_time": "2025-05-17T14:26:28.633Z"
   },
   {
    "duration": 15,
    "start_time": "2025-05-17T14:26:28.841Z"
   },
   {
    "duration": 17,
    "start_time": "2025-05-17T14:26:28.871Z"
   },
   {
    "duration": 16,
    "start_time": "2025-05-17T14:26:28.889Z"
   },
   {
    "duration": 34,
    "start_time": "2025-05-17T14:26:28.907Z"
   },
   {
    "duration": 8,
    "start_time": "2025-05-17T14:26:28.943Z"
   },
   {
    "duration": 16,
    "start_time": "2025-05-17T14:26:28.952Z"
   },
   {
    "duration": 135,
    "start_time": "2025-05-17T14:26:28.969Z"
   },
   {
    "duration": 8,
    "start_time": "2025-05-17T14:26:29.106Z"
   },
   {
    "duration": 13,
    "start_time": "2025-05-17T14:26:29.116Z"
   },
   {
    "duration": 12,
    "start_time": "2025-05-17T14:26:29.134Z"
   },
   {
    "duration": 38,
    "start_time": "2025-05-17T14:26:29.147Z"
   },
   {
    "duration": 148,
    "start_time": "2025-05-17T14:26:29.186Z"
   },
   {
    "duration": 11,
    "start_time": "2025-05-17T14:26:29.335Z"
   },
   {
    "duration": 155,
    "start_time": "2025-05-17T14:26:29.347Z"
   },
   {
    "duration": 12,
    "start_time": "2025-05-17T14:26:29.503Z"
   },
   {
    "duration": 14,
    "start_time": "2025-05-17T14:26:29.516Z"
   },
   {
    "duration": 11,
    "start_time": "2025-05-17T14:26:29.531Z"
   },
   {
    "duration": 30,
    "start_time": "2025-05-17T14:26:29.544Z"
   },
   {
    "duration": 128,
    "start_time": "2025-05-17T14:26:29.577Z"
   },
   {
    "duration": 14,
    "start_time": "2025-05-17T14:26:29.707Z"
   },
   {
    "duration": 202,
    "start_time": "2025-05-17T14:26:29.723Z"
   },
   {
    "duration": 253,
    "start_time": "2025-05-17T14:26:29.927Z"
   },
   {
    "duration": 42,
    "start_time": "2025-05-17T14:26:30.182Z"
   },
   {
    "duration": 29,
    "start_time": "2025-05-17T14:26:30.226Z"
   },
   {
    "duration": 284,
    "start_time": "2025-05-17T14:26:30.257Z"
   },
   {
    "duration": 7,
    "start_time": "2025-05-17T14:26:30.543Z"
   },
   {
    "duration": 90,
    "start_time": "2025-05-17T14:26:30.551Z"
   },
   {
    "duration": 38,
    "start_time": "2025-05-17T14:26:30.642Z"
   },
   {
    "duration": 5,
    "start_time": "2025-05-17T14:26:30.684Z"
   },
   {
    "duration": 53,
    "start_time": "2025-05-17T14:26:30.690Z"
   },
   {
    "duration": 5,
    "start_time": "2025-05-17T14:26:30.744Z"
   },
   {
    "duration": 1292,
    "start_time": "2025-07-02T14:15:55.360Z"
   },
   {
    "duration": 961,
    "start_time": "2025-07-02T14:15:56.654Z"
   },
   {
    "duration": 545,
    "start_time": "2025-07-02T14:18:42.769Z"
   },
   {
    "duration": 40,
    "start_time": "2025-07-02T14:18:44.609Z"
   },
   {
    "duration": 80,
    "start_time": "2025-07-02T14:21:29.096Z"
   },
   {
    "duration": 12,
    "start_time": "2025-07-02T14:21:31.241Z"
   },
   {
    "duration": 545,
    "start_time": "2025-07-02T14:21:33.256Z"
   },
   {
    "duration": 7,
    "start_time": "2025-07-02T14:21:36.652Z"
   },
   {
    "duration": 20,
    "start_time": "2025-07-02T14:21:38.640Z"
   },
   {
    "duration": 530,
    "start_time": "2025-07-02T14:21:40.816Z"
   },
   {
    "duration": 10,
    "start_time": "2025-07-02T14:23:08.485Z"
   },
   {
    "duration": 9,
    "start_time": "2025-07-02T14:23:14.690Z"
   },
   {
    "duration": 39,
    "start_time": "2025-07-02T14:23:16.378Z"
   },
   {
    "duration": 369,
    "start_time": "2025-07-02T14:23:21.281Z"
   },
   {
    "duration": 149,
    "start_time": "2025-07-02T14:25:03.958Z"
   },
   {
    "duration": 51,
    "start_time": "2025-07-02T14:25:06.058Z"
   },
   {
    "duration": 3,
    "start_time": "2025-07-02T14:25:07.504Z"
   },
   {
    "duration": 173,
    "start_time": "2025-07-02T14:25:10.976Z"
   },
   {
    "duration": 14,
    "start_time": "2025-07-02T14:28:48.872Z"
   },
   {
    "duration": 7,
    "start_time": "2025-07-02T14:30:10.291Z"
   },
   {
    "duration": 4,
    "start_time": "2025-07-02T14:30:14.228Z"
   },
   {
    "duration": 29,
    "start_time": "2025-07-02T14:44:59.398Z"
   },
   {
    "duration": 9,
    "start_time": "2025-07-02T14:45:02.625Z"
   },
   {
    "duration": 4,
    "start_time": "2025-07-02T14:45:03.807Z"
   },
   {
    "duration": 132,
    "start_time": "2025-07-02T14:45:05.235Z"
   },
   {
    "duration": 7,
    "start_time": "2025-07-02T14:47:23.331Z"
   },
   {
    "duration": 18,
    "start_time": "2025-07-02T14:47:26.066Z"
   },
   {
    "duration": 12,
    "start_time": "2025-07-02T14:50:02.580Z"
   },
   {
    "duration": 26,
    "start_time": "2025-07-02T14:50:03.752Z"
   },
   {
    "duration": 152,
    "start_time": "2025-07-02T14:50:06.333Z"
   },
   {
    "duration": 12,
    "start_time": "2025-07-02T14:50:08.723Z"
   },
   {
    "duration": 157,
    "start_time": "2025-07-02T14:50:09.883Z"
   },
   {
    "duration": 11,
    "start_time": "2025-07-02T14:50:55.303Z"
   },
   {
    "duration": 5,
    "start_time": "2025-07-02T14:50:56.303Z"
   },
   {
    "duration": 12,
    "start_time": "2025-07-02T14:50:57.199Z"
   },
   {
    "duration": 101,
    "start_time": "2025-07-02T14:50:59.580Z"
   },
   {
    "duration": 11,
    "start_time": "2025-07-02T14:51:01.642Z"
   },
   {
    "duration": 121,
    "start_time": "2025-07-02T14:51:02.662Z"
   }
  ],
  "colab": {
   "provenance": []
  },
  "kernelspec": {
   "display_name": "Python 3 (ipykernel)",
   "language": "python",
   "name": "python3"
  },
  "language_info": {
   "codemirror_mode": {
    "name": "ipython",
    "version": 3
   },
   "file_extension": ".py",
   "mimetype": "text/x-python",
   "name": "python",
   "nbconvert_exporter": "python",
   "pygments_lexer": "ipython3",
   "version": "3.9.5"
  },
  "toc": {
   "base_numbering": 1,
   "nav_menu": {},
   "number_sections": true,
   "sideBar": true,
   "skip_h1_title": true,
   "title_cell": "Table of Contents",
   "title_sidebar": "Contents",
   "toc_cell": false,
   "toc_position": {
    "height": "calc(100% - 180px)",
    "left": "10px",
    "top": "150px",
    "width": "305.391px"
   },
   "toc_section_display": true,
   "toc_window_display": true
  }
 },
 "nbformat": 4,
 "nbformat_minor": 1
}
